{
 "cells": [
  {
   "cell_type": "code",
   "execution_count": 1,
   "id": "aging-economics",
   "metadata": {},
   "outputs": [],
   "source": [
    "import pandas as pd\n",
    "import numpy as np\n",
    "import re\n",
    "import datetime\n",
    "import matplotlib.pyplot as plt\n",
    "import seaborn as sns"
   ]
  },
  {
   "cell_type": "markdown",
   "id": "greater-active",
   "metadata": {},
   "source": [
    "# 1. EDA "
   ]
  },
  {
   "cell_type": "code",
   "execution_count": 2,
   "id": "incorporate-wagner",
   "metadata": {},
   "outputs": [
    {
     "data": {
      "text/html": [
       "<div>\n",
       "<style scoped>\n",
       "    .dataframe tbody tr th:only-of-type {\n",
       "        vertical-align: middle;\n",
       "    }\n",
       "\n",
       "    .dataframe tbody tr th {\n",
       "        vertical-align: top;\n",
       "    }\n",
       "\n",
       "    .dataframe thead th {\n",
       "        text-align: right;\n",
       "    }\n",
       "</style>\n",
       "<table border=\"1\" class=\"dataframe\">\n",
       "  <thead>\n",
       "    <tr style=\"text-align: right;\">\n",
       "      <th></th>\n",
       "      <th>id</th>\n",
       "      <th>date</th>\n",
       "      <th>bedrooms</th>\n",
       "      <th>bathroom</th>\n",
       "      <th>sqft_living</th>\n",
       "      <th>sqft_lot</th>\n",
       "      <th>floors</th>\n",
       "      <th>waterfront</th>\n",
       "      <th>view</th>\n",
       "      <th>condition</th>\n",
       "      <th>...</th>\n",
       "      <th>sqft_above</th>\n",
       "      <th>sqft_basement</th>\n",
       "      <th>yr_built</th>\n",
       "      <th>yr_renovated</th>\n",
       "      <th>zipcode</th>\n",
       "      <th>lat</th>\n",
       "      <th>long</th>\n",
       "      <th>sqft_living15</th>\n",
       "      <th>sqft_lot15</th>\n",
       "      <th>price</th>\n",
       "    </tr>\n",
       "  </thead>\n",
       "  <tbody>\n",
       "    <tr>\n",
       "      <th>0</th>\n",
       "      <td>7129300520</td>\n",
       "      <td>10/13/14</td>\n",
       "      <td>3</td>\n",
       "      <td>1.00</td>\n",
       "      <td>1180</td>\n",
       "      <td>5650</td>\n",
       "      <td>1.0</td>\n",
       "      <td>0</td>\n",
       "      <td>0</td>\n",
       "      <td>3</td>\n",
       "      <td>...</td>\n",
       "      <td>1180</td>\n",
       "      <td>0</td>\n",
       "      <td>1955</td>\n",
       "      <td>0</td>\n",
       "      <td>98178</td>\n",
       "      <td>47.5112</td>\n",
       "      <td>-122.257</td>\n",
       "      <td>1340</td>\n",
       "      <td>5650</td>\n",
       "      <td>221900</td>\n",
       "    </tr>\n",
       "    <tr>\n",
       "      <th>1</th>\n",
       "      <td>6414100192</td>\n",
       "      <td>12/9/14</td>\n",
       "      <td>3</td>\n",
       "      <td>2.25</td>\n",
       "      <td>2570</td>\n",
       "      <td>7242</td>\n",
       "      <td>2.0</td>\n",
       "      <td>0</td>\n",
       "      <td>0</td>\n",
       "      <td>3</td>\n",
       "      <td>...</td>\n",
       "      <td>2170</td>\n",
       "      <td>400</td>\n",
       "      <td>1951</td>\n",
       "      <td>1991</td>\n",
       "      <td>98125</td>\n",
       "      <td>47.7210</td>\n",
       "      <td>-122.319</td>\n",
       "      <td>1690</td>\n",
       "      <td>7639</td>\n",
       "      <td>538000</td>\n",
       "    </tr>\n",
       "    <tr>\n",
       "      <th>2</th>\n",
       "      <td>5631500400</td>\n",
       "      <td>2/25/15</td>\n",
       "      <td>2</td>\n",
       "      <td>1.00</td>\n",
       "      <td>770</td>\n",
       "      <td>10000</td>\n",
       "      <td>1.0</td>\n",
       "      <td>0</td>\n",
       "      <td>0</td>\n",
       "      <td>3</td>\n",
       "      <td>...</td>\n",
       "      <td>770</td>\n",
       "      <td>0</td>\n",
       "      <td>1933</td>\n",
       "      <td>0</td>\n",
       "      <td>98028</td>\n",
       "      <td>47.7379</td>\n",
       "      <td>-122.233</td>\n",
       "      <td>2720</td>\n",
       "      <td>8062</td>\n",
       "      <td>180000</td>\n",
       "    </tr>\n",
       "    <tr>\n",
       "      <th>3</th>\n",
       "      <td>2487200875</td>\n",
       "      <td>12/9/14</td>\n",
       "      <td>4</td>\n",
       "      <td>3.00</td>\n",
       "      <td>1960</td>\n",
       "      <td>5000</td>\n",
       "      <td>1.0</td>\n",
       "      <td>0</td>\n",
       "      <td>0</td>\n",
       "      <td>5</td>\n",
       "      <td>...</td>\n",
       "      <td>1050</td>\n",
       "      <td>910</td>\n",
       "      <td>1965</td>\n",
       "      <td>0</td>\n",
       "      <td>98136</td>\n",
       "      <td>47.5208</td>\n",
       "      <td>-122.393</td>\n",
       "      <td>1360</td>\n",
       "      <td>5000</td>\n",
       "      <td>604000</td>\n",
       "    </tr>\n",
       "    <tr>\n",
       "      <th>4</th>\n",
       "      <td>1954400510</td>\n",
       "      <td>2/18/15</td>\n",
       "      <td>3</td>\n",
       "      <td>2.00</td>\n",
       "      <td>1680</td>\n",
       "      <td>8080</td>\n",
       "      <td>1.0</td>\n",
       "      <td>0</td>\n",
       "      <td>0</td>\n",
       "      <td>3</td>\n",
       "      <td>...</td>\n",
       "      <td>1680</td>\n",
       "      <td>0</td>\n",
       "      <td>1987</td>\n",
       "      <td>0</td>\n",
       "      <td>98074</td>\n",
       "      <td>47.6168</td>\n",
       "      <td>-122.045</td>\n",
       "      <td>1800</td>\n",
       "      <td>7503</td>\n",
       "      <td>510000</td>\n",
       "    </tr>\n",
       "  </tbody>\n",
       "</table>\n",
       "<p>5 rows × 21 columns</p>\n",
       "</div>"
      ],
      "text/plain": [
       "           id      date  bedrooms  bathroom  sqft_living  sqft_lot  floors  \\\n",
       "0  7129300520  10/13/14         3      1.00         1180      5650     1.0   \n",
       "1  6414100192   12/9/14         3      2.25         2570      7242     2.0   \n",
       "2  5631500400   2/25/15         2      1.00          770     10000     1.0   \n",
       "3  2487200875   12/9/14         4      3.00         1960      5000     1.0   \n",
       "4  1954400510   2/18/15         3      2.00         1680      8080     1.0   \n",
       "\n",
       "   waterfront  view  condition  ...  sqft_above  sqft_basement  yr_built  \\\n",
       "0           0     0          3  ...        1180              0      1955   \n",
       "1           0     0          3  ...        2170            400      1951   \n",
       "2           0     0          3  ...         770              0      1933   \n",
       "3           0     0          5  ...        1050            910      1965   \n",
       "4           0     0          3  ...        1680              0      1987   \n",
       "\n",
       "   yr_renovated  zipcode      lat     long  sqft_living15  sqft_lot15   price  \n",
       "0             0    98178  47.5112 -122.257           1340        5650  221900  \n",
       "1          1991    98125  47.7210 -122.319           1690        7639  538000  \n",
       "2             0    98028  47.7379 -122.233           2720        8062  180000  \n",
       "3             0    98136  47.5208 -122.393           1360        5000  604000  \n",
       "4             0    98074  47.6168 -122.045           1800        7503  510000  \n",
       "\n",
       "[5 rows x 21 columns]"
      ]
     },
     "execution_count": 2,
     "metadata": {},
     "output_type": "execute_result"
    }
   ],
   "source": [
    "data = pd.read_csv('regression_data.csv',index_col=None, names= ['id', 'date', 'bedrooms','bathroom','sqft_living', 'sqft_lot','floors', 'waterfront','view', 'condition','grade','sqft_above','sqft_basement', 'yr_built','yr_renovated','zipcode','lat','long','sqft_living15','sqft_lot15','price'])\n",
    "data.head()"
   ]
  },
  {
   "cell_type": "code",
   "execution_count": 3,
   "id": "conditional-adoption",
   "metadata": {},
   "outputs": [
    {
     "data": {
      "text/plain": [
       "array([   0, 1991, 2002, 2010, 1999, 1992, 2013, 1994, 1978, 2005, 2008,\n",
       "       2003, 1984, 1954, 2014, 2011, 1974, 1983, 1945, 1990, 1988, 1957,\n",
       "       1977, 1981, 1995, 2000, 1998, 1970, 1989, 2004, 1986, 2009, 2007,\n",
       "       1987, 1973, 2006, 1985, 2001, 1980, 1971, 1979, 1997, 1950, 1969,\n",
       "       1948, 2015, 1968, 2012, 1963, 1951, 1993, 1962, 1996, 1972, 1953,\n",
       "       1955, 1982, 1956, 1940, 1976, 1946, 1975, 1958, 1964, 1959, 1960,\n",
       "       1967, 1965, 1934, 1944])"
      ]
     },
     "execution_count": 3,
     "metadata": {},
     "output_type": "execute_result"
    }
   ],
   "source": [
    "data['yr_renovated'].unique()"
   ]
  },
  {
   "cell_type": "code",
   "execution_count": 4,
   "id": "increasing-latitude",
   "metadata": {},
   "outputs": [
    {
     "data": {
      "text/plain": [
       "0       20683\n",
       "2014       91\n",
       "2013       37\n",
       "2003       36\n",
       "2007       35\n",
       "        ...  \n",
       "1948        1\n",
       "1954        1\n",
       "1951        1\n",
       "1944        1\n",
       "1959        1\n",
       "Name: yr_renovated, Length: 70, dtype: int64"
      ]
     },
     "execution_count": 4,
     "metadata": {},
     "output_type": "execute_result"
    }
   ],
   "source": [
    "data['yr_renovated'].value_counts()"
   ]
  },
  {
   "cell_type": "markdown",
   "id": "corresponding-physiology",
   "metadata": {},
   "source": [
    "* Note: lots of unique values, also 0 for not renovated houses --> new column with bins "
   ]
  },
  {
   "cell_type": "code",
   "execution_count": 5,
   "id": "breathing-place",
   "metadata": {},
   "outputs": [
    {
     "data": {
      "text/plain": [
       "id                 int64\n",
       "date              object\n",
       "bedrooms           int64\n",
       "bathroom         float64\n",
       "sqft_living        int64\n",
       "sqft_lot           int64\n",
       "floors           float64\n",
       "waterfront         int64\n",
       "view               int64\n",
       "condition          int64\n",
       "grade              int64\n",
       "sqft_above         int64\n",
       "sqft_basement      int64\n",
       "yr_built           int64\n",
       "yr_renovated       int64\n",
       "zipcode            int64\n",
       "lat              float64\n",
       "long             float64\n",
       "sqft_living15      int64\n",
       "sqft_lot15         int64\n",
       "price              int64\n",
       "dtype: object"
      ]
     },
     "execution_count": 5,
     "metadata": {},
     "output_type": "execute_result"
    }
   ],
   "source": [
    "data.dtypes"
   ]
  },
  {
   "cell_type": "markdown",
   "id": "intimate-think",
   "metadata": {},
   "source": [
    "* change the date in datetime format - do we need the selling date?"
   ]
  },
  {
   "cell_type": "code",
   "execution_count": 6,
   "id": "honey-reunion",
   "metadata": {},
   "outputs": [
    {
     "name": "stdout",
     "output_type": "stream",
     "text": [
      "<class 'pandas.core.frame.DataFrame'>\n",
      "RangeIndex: 21597 entries, 0 to 21596\n",
      "Data columns (total 21 columns):\n",
      " #   Column         Non-Null Count  Dtype  \n",
      "---  ------         --------------  -----  \n",
      " 0   id             21597 non-null  int64  \n",
      " 1   date           21597 non-null  object \n",
      " 2   bedrooms       21597 non-null  int64  \n",
      " 3   bathroom       21597 non-null  float64\n",
      " 4   sqft_living    21597 non-null  int64  \n",
      " 5   sqft_lot       21597 non-null  int64  \n",
      " 6   floors         21597 non-null  float64\n",
      " 7   waterfront     21597 non-null  int64  \n",
      " 8   view           21597 non-null  int64  \n",
      " 9   condition      21597 non-null  int64  \n",
      " 10  grade          21597 non-null  int64  \n",
      " 11  sqft_above     21597 non-null  int64  \n",
      " 12  sqft_basement  21597 non-null  int64  \n",
      " 13  yr_built       21597 non-null  int64  \n",
      " 14  yr_renovated   21597 non-null  int64  \n",
      " 15  zipcode        21597 non-null  int64  \n",
      " 16  lat            21597 non-null  float64\n",
      " 17  long           21597 non-null  float64\n",
      " 18  sqft_living15  21597 non-null  int64  \n",
      " 19  sqft_lot15     21597 non-null  int64  \n",
      " 20  price          21597 non-null  int64  \n",
      "dtypes: float64(4), int64(16), object(1)\n",
      "memory usage: 3.5+ MB\n"
     ]
    }
   ],
   "source": [
    "data.info()"
   ]
  },
  {
   "cell_type": "markdown",
   "id": "straight-identifier",
   "metadata": {},
   "source": [
    "* we do not have null values"
   ]
  },
  {
   "cell_type": "code",
   "execution_count": 7,
   "id": "unknown-enclosure",
   "metadata": {},
   "outputs": [],
   "source": [
    "dup_check= data.duplicated(subset=None, keep='first')"
   ]
  },
  {
   "cell_type": "code",
   "execution_count": 8,
   "id": "vocational-dining",
   "metadata": {},
   "outputs": [
    {
     "data": {
      "text/plain": [
       "21597"
      ]
     },
     "execution_count": 8,
     "metadata": {},
     "output_type": "execute_result"
    }
   ],
   "source": [
    "len(dup_check)"
   ]
  },
  {
   "cell_type": "code",
   "execution_count": 9,
   "id": "golden-clinic",
   "metadata": {},
   "outputs": [
    {
     "data": {
      "text/plain": [
       "array([False])"
      ]
     },
     "execution_count": 9,
     "metadata": {},
     "output_type": "execute_result"
    }
   ],
   "source": [
    "dup_check.unique()"
   ]
  },
  {
   "cell_type": "markdown",
   "id": "healthy-apache",
   "metadata": {},
   "source": [
    "* There aren't any duplicates in the dataframe"
   ]
  },
  {
   "cell_type": "code",
   "execution_count": 10,
   "id": "bulgarian-stand",
   "metadata": {},
   "outputs": [
    {
     "data": {
      "text/html": [
       "<div>\n",
       "<style scoped>\n",
       "    .dataframe tbody tr th:only-of-type {\n",
       "        vertical-align: middle;\n",
       "    }\n",
       "\n",
       "    .dataframe tbody tr th {\n",
       "        vertical-align: top;\n",
       "    }\n",
       "\n",
       "    .dataframe thead th {\n",
       "        text-align: right;\n",
       "    }\n",
       "</style>\n",
       "<table border=\"1\" class=\"dataframe\">\n",
       "  <thead>\n",
       "    <tr style=\"text-align: right;\">\n",
       "      <th></th>\n",
       "      <th>id</th>\n",
       "      <th>bedrooms</th>\n",
       "      <th>bathroom</th>\n",
       "      <th>sqft_living</th>\n",
       "      <th>sqft_lot</th>\n",
       "      <th>floors</th>\n",
       "      <th>waterfront</th>\n",
       "      <th>view</th>\n",
       "      <th>condition</th>\n",
       "      <th>grade</th>\n",
       "      <th>sqft_above</th>\n",
       "      <th>sqft_basement</th>\n",
       "      <th>yr_built</th>\n",
       "      <th>yr_renovated</th>\n",
       "      <th>zipcode</th>\n",
       "      <th>lat</th>\n",
       "      <th>long</th>\n",
       "      <th>sqft_living15</th>\n",
       "      <th>sqft_lot15</th>\n",
       "      <th>price</th>\n",
       "    </tr>\n",
       "  </thead>\n",
       "  <tbody>\n",
       "    <tr>\n",
       "      <th>count</th>\n",
       "      <td>2.159700e+04</td>\n",
       "      <td>21597.000000</td>\n",
       "      <td>21597.000000</td>\n",
       "      <td>21597.000000</td>\n",
       "      <td>2.159700e+04</td>\n",
       "      <td>21597.000000</td>\n",
       "      <td>21597.000000</td>\n",
       "      <td>21597.000000</td>\n",
       "      <td>21597.000000</td>\n",
       "      <td>21597.000000</td>\n",
       "      <td>21597.000000</td>\n",
       "      <td>21597.000000</td>\n",
       "      <td>21597.000000</td>\n",
       "      <td>21597.000000</td>\n",
       "      <td>21597.000000</td>\n",
       "      <td>21597.000000</td>\n",
       "      <td>21597.000000</td>\n",
       "      <td>21597.000000</td>\n",
       "      <td>21597.000000</td>\n",
       "      <td>2.159700e+04</td>\n",
       "    </tr>\n",
       "    <tr>\n",
       "      <th>mean</th>\n",
       "      <td>4.580474e+09</td>\n",
       "      <td>3.373200</td>\n",
       "      <td>2.115826</td>\n",
       "      <td>2080.321850</td>\n",
       "      <td>1.509941e+04</td>\n",
       "      <td>1.494096</td>\n",
       "      <td>0.007547</td>\n",
       "      <td>0.234292</td>\n",
       "      <td>3.409825</td>\n",
       "      <td>7.657915</td>\n",
       "      <td>1788.596842</td>\n",
       "      <td>291.725008</td>\n",
       "      <td>1970.999676</td>\n",
       "      <td>84.464787</td>\n",
       "      <td>98077.951845</td>\n",
       "      <td>47.560093</td>\n",
       "      <td>-122.213982</td>\n",
       "      <td>1986.620318</td>\n",
       "      <td>12758.283512</td>\n",
       "      <td>5.402966e+05</td>\n",
       "    </tr>\n",
       "    <tr>\n",
       "      <th>std</th>\n",
       "      <td>2.876736e+09</td>\n",
       "      <td>0.926299</td>\n",
       "      <td>0.768984</td>\n",
       "      <td>918.106125</td>\n",
       "      <td>4.141264e+04</td>\n",
       "      <td>0.539683</td>\n",
       "      <td>0.086549</td>\n",
       "      <td>0.766390</td>\n",
       "      <td>0.650546</td>\n",
       "      <td>1.173200</td>\n",
       "      <td>827.759761</td>\n",
       "      <td>442.667800</td>\n",
       "      <td>29.375234</td>\n",
       "      <td>401.821438</td>\n",
       "      <td>53.513072</td>\n",
       "      <td>0.138552</td>\n",
       "      <td>0.140724</td>\n",
       "      <td>685.230472</td>\n",
       "      <td>27274.441950</td>\n",
       "      <td>3.673681e+05</td>\n",
       "    </tr>\n",
       "    <tr>\n",
       "      <th>min</th>\n",
       "      <td>1.000102e+06</td>\n",
       "      <td>1.000000</td>\n",
       "      <td>0.500000</td>\n",
       "      <td>370.000000</td>\n",
       "      <td>5.200000e+02</td>\n",
       "      <td>1.000000</td>\n",
       "      <td>0.000000</td>\n",
       "      <td>0.000000</td>\n",
       "      <td>1.000000</td>\n",
       "      <td>3.000000</td>\n",
       "      <td>370.000000</td>\n",
       "      <td>0.000000</td>\n",
       "      <td>1900.000000</td>\n",
       "      <td>0.000000</td>\n",
       "      <td>98001.000000</td>\n",
       "      <td>47.155900</td>\n",
       "      <td>-122.519000</td>\n",
       "      <td>399.000000</td>\n",
       "      <td>651.000000</td>\n",
       "      <td>7.800000e+04</td>\n",
       "    </tr>\n",
       "    <tr>\n",
       "      <th>25%</th>\n",
       "      <td>2.123049e+09</td>\n",
       "      <td>3.000000</td>\n",
       "      <td>1.750000</td>\n",
       "      <td>1430.000000</td>\n",
       "      <td>5.040000e+03</td>\n",
       "      <td>1.000000</td>\n",
       "      <td>0.000000</td>\n",
       "      <td>0.000000</td>\n",
       "      <td>3.000000</td>\n",
       "      <td>7.000000</td>\n",
       "      <td>1190.000000</td>\n",
       "      <td>0.000000</td>\n",
       "      <td>1951.000000</td>\n",
       "      <td>0.000000</td>\n",
       "      <td>98033.000000</td>\n",
       "      <td>47.471100</td>\n",
       "      <td>-122.328000</td>\n",
       "      <td>1490.000000</td>\n",
       "      <td>5100.000000</td>\n",
       "      <td>3.220000e+05</td>\n",
       "    </tr>\n",
       "    <tr>\n",
       "      <th>50%</th>\n",
       "      <td>3.904930e+09</td>\n",
       "      <td>3.000000</td>\n",
       "      <td>2.250000</td>\n",
       "      <td>1910.000000</td>\n",
       "      <td>7.618000e+03</td>\n",
       "      <td>1.500000</td>\n",
       "      <td>0.000000</td>\n",
       "      <td>0.000000</td>\n",
       "      <td>3.000000</td>\n",
       "      <td>7.000000</td>\n",
       "      <td>1560.000000</td>\n",
       "      <td>0.000000</td>\n",
       "      <td>1975.000000</td>\n",
       "      <td>0.000000</td>\n",
       "      <td>98065.000000</td>\n",
       "      <td>47.571800</td>\n",
       "      <td>-122.231000</td>\n",
       "      <td>1840.000000</td>\n",
       "      <td>7620.000000</td>\n",
       "      <td>4.500000e+05</td>\n",
       "    </tr>\n",
       "    <tr>\n",
       "      <th>75%</th>\n",
       "      <td>7.308900e+09</td>\n",
       "      <td>4.000000</td>\n",
       "      <td>2.500000</td>\n",
       "      <td>2550.000000</td>\n",
       "      <td>1.068500e+04</td>\n",
       "      <td>2.000000</td>\n",
       "      <td>0.000000</td>\n",
       "      <td>0.000000</td>\n",
       "      <td>4.000000</td>\n",
       "      <td>8.000000</td>\n",
       "      <td>2210.000000</td>\n",
       "      <td>560.000000</td>\n",
       "      <td>1997.000000</td>\n",
       "      <td>0.000000</td>\n",
       "      <td>98118.000000</td>\n",
       "      <td>47.678000</td>\n",
       "      <td>-122.125000</td>\n",
       "      <td>2360.000000</td>\n",
       "      <td>10083.000000</td>\n",
       "      <td>6.450000e+05</td>\n",
       "    </tr>\n",
       "    <tr>\n",
       "      <th>max</th>\n",
       "      <td>9.900000e+09</td>\n",
       "      <td>33.000000</td>\n",
       "      <td>8.000000</td>\n",
       "      <td>13540.000000</td>\n",
       "      <td>1.651359e+06</td>\n",
       "      <td>3.500000</td>\n",
       "      <td>1.000000</td>\n",
       "      <td>4.000000</td>\n",
       "      <td>5.000000</td>\n",
       "      <td>13.000000</td>\n",
       "      <td>9410.000000</td>\n",
       "      <td>4820.000000</td>\n",
       "      <td>2015.000000</td>\n",
       "      <td>2015.000000</td>\n",
       "      <td>98199.000000</td>\n",
       "      <td>47.777600</td>\n",
       "      <td>-121.315000</td>\n",
       "      <td>6210.000000</td>\n",
       "      <td>871200.000000</td>\n",
       "      <td>7.700000e+06</td>\n",
       "    </tr>\n",
       "  </tbody>\n",
       "</table>\n",
       "</div>"
      ],
      "text/plain": [
       "                 id      bedrooms      bathroom   sqft_living      sqft_lot  \\\n",
       "count  2.159700e+04  21597.000000  21597.000000  21597.000000  2.159700e+04   \n",
       "mean   4.580474e+09      3.373200      2.115826   2080.321850  1.509941e+04   \n",
       "std    2.876736e+09      0.926299      0.768984    918.106125  4.141264e+04   \n",
       "min    1.000102e+06      1.000000      0.500000    370.000000  5.200000e+02   \n",
       "25%    2.123049e+09      3.000000      1.750000   1430.000000  5.040000e+03   \n",
       "50%    3.904930e+09      3.000000      2.250000   1910.000000  7.618000e+03   \n",
       "75%    7.308900e+09      4.000000      2.500000   2550.000000  1.068500e+04   \n",
       "max    9.900000e+09     33.000000      8.000000  13540.000000  1.651359e+06   \n",
       "\n",
       "             floors    waterfront          view     condition         grade  \\\n",
       "count  21597.000000  21597.000000  21597.000000  21597.000000  21597.000000   \n",
       "mean       1.494096      0.007547      0.234292      3.409825      7.657915   \n",
       "std        0.539683      0.086549      0.766390      0.650546      1.173200   \n",
       "min        1.000000      0.000000      0.000000      1.000000      3.000000   \n",
       "25%        1.000000      0.000000      0.000000      3.000000      7.000000   \n",
       "50%        1.500000      0.000000      0.000000      3.000000      7.000000   \n",
       "75%        2.000000      0.000000      0.000000      4.000000      8.000000   \n",
       "max        3.500000      1.000000      4.000000      5.000000     13.000000   \n",
       "\n",
       "         sqft_above  sqft_basement      yr_built  yr_renovated       zipcode  \\\n",
       "count  21597.000000   21597.000000  21597.000000  21597.000000  21597.000000   \n",
       "mean    1788.596842     291.725008   1970.999676     84.464787  98077.951845   \n",
       "std      827.759761     442.667800     29.375234    401.821438     53.513072   \n",
       "min      370.000000       0.000000   1900.000000      0.000000  98001.000000   \n",
       "25%     1190.000000       0.000000   1951.000000      0.000000  98033.000000   \n",
       "50%     1560.000000       0.000000   1975.000000      0.000000  98065.000000   \n",
       "75%     2210.000000     560.000000   1997.000000      0.000000  98118.000000   \n",
       "max     9410.000000    4820.000000   2015.000000   2015.000000  98199.000000   \n",
       "\n",
       "                lat          long  sqft_living15     sqft_lot15         price  \n",
       "count  21597.000000  21597.000000   21597.000000   21597.000000  2.159700e+04  \n",
       "mean      47.560093   -122.213982    1986.620318   12758.283512  5.402966e+05  \n",
       "std        0.138552      0.140724     685.230472   27274.441950  3.673681e+05  \n",
       "min       47.155900   -122.519000     399.000000     651.000000  7.800000e+04  \n",
       "25%       47.471100   -122.328000    1490.000000    5100.000000  3.220000e+05  \n",
       "50%       47.571800   -122.231000    1840.000000    7620.000000  4.500000e+05  \n",
       "75%       47.678000   -122.125000    2360.000000   10083.000000  6.450000e+05  \n",
       "max       47.777600   -121.315000    6210.000000  871200.000000  7.700000e+06  "
      ]
     },
     "execution_count": 10,
     "metadata": {},
     "output_type": "execute_result"
    }
   ],
   "source": [
    "data.describe()"
   ]
  },
  {
   "cell_type": "code",
   "execution_count": 11,
   "id": "charming-distance",
   "metadata": {},
   "outputs": [
    {
     "data": {
      "image/png": "[encoded data removed]",
      "text/plain": [
       "<Figure size 1080x1080 with 20 Axes>"
      ]
     },
     "metadata": {
      "needs_background": "light"
     },
     "output_type": "display_data"
    }
   ],
   "source": [
    "data.hist(bins=25,figsize=(15, 15), layout=(5, 4));\n",
    "plt.show()"
   ]
  },
  {
   "cell_type": "code",
   "execution_count": 12,
   "id": "every-direction",
   "metadata": {},
   "outputs": [
    {
     "data": {
      "text/plain": [
       "<AxesSubplot:>"
      ]
     },
     "execution_count": 12,
     "metadata": {},
     "output_type": "execute_result"
    },
    {
     "data": {
      "image/png": "[encoded data removed]",
      "text/plain": [
       "<Figure size 432x288 with 1 Axes>"
      ]
     },
     "metadata": {
      "needs_background": "light"
     },
     "output_type": "display_data"
    }
   ],
   "source": [
    "data.boxplot(column=['bedrooms', 'bathroom'])"
   ]
  },
  {
   "cell_type": "markdown",
   "id": "spare-tournament",
   "metadata": {},
   "source": [
    "* bedrooms - remove outlier"
   ]
  },
  {
   "cell_type": "code",
   "execution_count": 13,
   "id": "least-economics",
   "metadata": {},
   "outputs": [
    {
     "data": {
      "text/plain": [
       "<AxesSubplot:>"
      ]
     },
     "execution_count": 13,
     "metadata": {},
     "output_type": "execute_result"
    },
    {
     "data": {
      "image/png": "[encoded data removed]",
      "text/plain": [
       "<Figure size 432x288 with 1 Axes>"
      ]
     },
     "metadata": {
      "needs_background": "light"
     },
     "output_type": "display_data"
    }
   ],
   "source": [
    "data.boxplot(column=['sqft_living','sqft_living15', 'sqft_above', 'sqft_basement',])"
   ]
  },
  {
   "cell_type": "code",
   "execution_count": 14,
   "id": "viral-telephone",
   "metadata": {},
   "outputs": [
    {
     "data": {
      "text/plain": [
       "<AxesSubplot:>"
      ]
     },
     "execution_count": 14,
     "metadata": {},
     "output_type": "execute_result"
    },
    {
     "data": {
      "image/png": "[encoded data removed]",
      "text/plain": [
       "<Figure size 432x288 with 1 Axes>"
      ]
     },
     "metadata": {
      "needs_background": "light"
     },
     "output_type": "display_data"
    }
   ],
   "source": [
    "data.boxplot(column=['price'])"
   ]
  },
  {
   "cell_type": "code",
   "execution_count": 15,
   "id": "romantic-stylus",
   "metadata": {},
   "outputs": [
    {
     "data": {
      "text/plain": [
       "array([ 7,  6,  8, 11,  9,  5, 10, 12,  4,  3, 13])"
      ]
     },
     "execution_count": 15,
     "metadata": {},
     "output_type": "execute_result"
    }
   ],
   "source": [
    "data['grade'].unique()"
   ]
  },
  {
   "cell_type": "code",
   "execution_count": 16,
   "id": "conceptual-dubai",
   "metadata": {},
   "outputs": [
    {
     "data": {
      "text/plain": [
       "array([3, 5, 4, 1, 2])"
      ]
     },
     "execution_count": 16,
     "metadata": {},
     "output_type": "execute_result"
    }
   ],
   "source": [
    "data['condition'].unique()"
   ]
  },
  {
   "cell_type": "code",
   "execution_count": 17,
   "id": "surprised-fluid",
   "metadata": {},
   "outputs": [
    {
     "data": {
      "text/plain": [
       "array([0, 1])"
      ]
     },
     "execution_count": 17,
     "metadata": {},
     "output_type": "execute_result"
    }
   ],
   "source": [
    "data['waterfront'].unique()"
   ]
  },
  {
   "cell_type": "code",
   "execution_count": 18,
   "id": "every-labor",
   "metadata": {},
   "outputs": [
    {
     "data": {
      "text/plain": [
       "array([1. , 2. , 1.5, 3. , 2.5, 3.5])"
      ]
     },
     "execution_count": 18,
     "metadata": {},
     "output_type": "execute_result"
    }
   ],
   "source": [
    "data['floors'].unique()"
   ]
  },
  {
   "cell_type": "code",
   "execution_count": 19,
   "id": "assigned-undergraduate",
   "metadata": {},
   "outputs": [
    {
     "data": {
      "text/plain": [
       "array([ 3,  2,  4,  5,  1,  6,  7,  8,  9, 11, 10, 33])"
      ]
     },
     "execution_count": 19,
     "metadata": {},
     "output_type": "execute_result"
    }
   ],
   "source": [
    "data['bedrooms'].unique()"
   ]
  },
  {
   "cell_type": "code",
   "execution_count": 20,
   "id": "auburn-neighbor",
   "metadata": {},
   "outputs": [
    {
     "data": {
      "text/plain": [
       "array([98178, 98125, 98028, 98136, 98074, 98053, 98003, 98198, 98146,\n",
       "       98038, 98007, 98115, 98107, 98126, 98019, 98103, 98002, 98133,\n",
       "       98040, 98092, 98030, 98119, 98112, 98052, 98027, 98117, 98058,\n",
       "       98001, 98056, 98166, 98023, 98070, 98148, 98105, 98042, 98008,\n",
       "       98059, 98122, 98144, 98004, 98005, 98034, 98075, 98116, 98010,\n",
       "       98118, 98199, 98032, 98045, 98102, 98077, 98108, 98168, 98177,\n",
       "       98065, 98029, 98006, 98109, 98022, 98033, 98155, 98024, 98011,\n",
       "       98031, 98106, 98072, 98188, 98014, 98055, 98039])"
      ]
     },
     "execution_count": 20,
     "metadata": {},
     "output_type": "execute_result"
    }
   ],
   "source": [
    "data['zipcode'].unique()"
   ]
  },
  {
   "cell_type": "markdown",
   "id": "maritime-fusion",
   "metadata": {},
   "source": [
    "* need to look in to the 33 bedroom house data"
   ]
  },
  {
   "cell_type": "code",
   "execution_count": 21,
   "id": "dried-simulation",
   "metadata": {},
   "outputs": [
    {
     "data": {
      "text/plain": [
       "array([1.  , 2.25, 3.  , 2.  , 4.5 , 1.5 , 2.5 , 1.75, 2.75, 3.25, 4.  ,\n",
       "       3.5 , 0.75, 4.75, 5.  , 4.25, 3.75, 1.25, 5.25, 6.  , 0.5 , 5.5 ,\n",
       "       6.75, 5.75, 8.  , 7.5 , 7.75, 6.25, 6.5 ])"
      ]
     },
     "execution_count": 21,
     "metadata": {},
     "output_type": "execute_result"
    }
   ],
   "source": [
    "data['bathroom'].unique()"
   ]
  },
  {
   "cell_type": "markdown",
   "id": "trying-pottery",
   "metadata": {},
   "source": [
    "* create bins for amount of bathrooms"
   ]
  },
  {
   "cell_type": "markdown",
   "id": "large-apparel",
   "metadata": {},
   "source": [
    "### Create heatmap to check for too high correlations"
   ]
  },
  {
   "cell_type": "code",
   "execution_count": 22,
   "id": "colored-aspect",
   "metadata": {},
   "outputs": [
    {
     "data": {
      "text/plain": [
       "<AxesSubplot:>"
      ]
     },
     "execution_count": 22,
     "metadata": {},
     "output_type": "execute_result"
    },
    {
     "data": {
      "image/png": "[encoded data removed]",
      "text/plain": [
       "<Figure size 1008x1008 with 2 Axes>"
      ]
     },
     "metadata": {
      "needs_background": "light"
     },
     "output_type": "display_data"
    }
   ],
   "source": [
    "corr = data.corr()\n",
    "fig, ax = plt.subplots(figsize=(14,14))\n",
    "mask=np.zeros_like(data.corr())\n",
    "mask[np.triu_indices_from(mask)]=True\n",
    "sns.heatmap(corr,\n",
    "            cmap='seismic',\n",
    "            mask=mask,\n",
    "            center=0,\n",
    "            annot=True,\n",
    "            ax=ax)"
   ]
  },
  {
   "cell_type": "markdown",
   "id": "human-latvia",
   "metadata": {},
   "source": [
    "* Note: have to drop some of the sqft variables, because they are correlated. 88% sqft_above and sqft_living"
   ]
  },
  {
   "cell_type": "markdown",
   "id": "needed-atlanta",
   "metadata": {},
   "source": [
    "# 2. Cleaning steps"
   ]
  },
  {
   "cell_type": "markdown",
   "id": "harmful-weight",
   "metadata": {},
   "source": [
    "#### Date is classified as an object type. Converting it to date."
   ]
  },
  {
   "cell_type": "code",
   "execution_count": 23,
   "id": "floral-louisville",
   "metadata": {},
   "outputs": [],
   "source": [
    "cleandata=data"
   ]
  },
  {
   "cell_type": "code",
   "execution_count": 24,
   "id": "physical-somalia",
   "metadata": {},
   "outputs": [],
   "source": [
    "cleandata['date']= pd.to_datetime(data['date'], format='%m/%d/%y', errors='coerce')"
   ]
  },
  {
   "cell_type": "markdown",
   "id": "injured-bible",
   "metadata": {},
   "source": [
    "# 3. Feature extraction & Pre- processing"
   ]
  },
  {
   "cell_type": "markdown",
   "id": "forced-immunology",
   "metadata": {},
   "source": [
    "NOTES FROM EDA:\n",
    "* yr_renovated: lots of unique values, also 0 for not renovated houses --> new column: renovated after 1990 True or False or bins\n",
    "* sqft basement, sqft above, sqftlot15, price, bedrooms - remove outliers\n",
    "* create bins for amount of bathrooms, year of construction, renovations \n",
    "* drop zipcode after introducing column area which grades the area \n",
    "* drop lat, long\n",
    "* have to drop some of the sqft variables, because they are correlated."
   ]
  },
  {
   "cell_type": "markdown",
   "id": "stylish-worth",
   "metadata": {},
   "source": [
    "#### Bedrooms contains a property with 33 bedrooms. Removing this outlier."
   ]
  },
  {
   "cell_type": "code",
   "execution_count": 25,
   "id": "adapted-primary",
   "metadata": {},
   "outputs": [
    {
     "data": {
      "text/html": [
       "<div>\n",
       "<style scoped>\n",
       "    .dataframe tbody tr th:only-of-type {\n",
       "        vertical-align: middle;\n",
       "    }\n",
       "\n",
       "    .dataframe tbody tr th {\n",
       "        vertical-align: top;\n",
       "    }\n",
       "\n",
       "    .dataframe thead th {\n",
       "        text-align: right;\n",
       "    }\n",
       "</style>\n",
       "<table border=\"1\" class=\"dataframe\">\n",
       "  <thead>\n",
       "    <tr style=\"text-align: right;\">\n",
       "      <th></th>\n",
       "      <th>id</th>\n",
       "      <th>date</th>\n",
       "      <th>bedrooms</th>\n",
       "      <th>bathroom</th>\n",
       "      <th>sqft_living</th>\n",
       "      <th>sqft_lot</th>\n",
       "      <th>floors</th>\n",
       "      <th>waterfront</th>\n",
       "      <th>view</th>\n",
       "      <th>condition</th>\n",
       "      <th>...</th>\n",
       "      <th>sqft_above</th>\n",
       "      <th>sqft_basement</th>\n",
       "      <th>yr_built</th>\n",
       "      <th>yr_renovated</th>\n",
       "      <th>zipcode</th>\n",
       "      <th>lat</th>\n",
       "      <th>long</th>\n",
       "      <th>sqft_living15</th>\n",
       "      <th>sqft_lot15</th>\n",
       "      <th>price</th>\n",
       "    </tr>\n",
       "  </thead>\n",
       "  <tbody>\n",
       "    <tr>\n",
       "      <th>15856</th>\n",
       "      <td>2402100895</td>\n",
       "      <td>2014-06-25</td>\n",
       "      <td>33</td>\n",
       "      <td>1.75</td>\n",
       "      <td>1620</td>\n",
       "      <td>6000</td>\n",
       "      <td>1.0</td>\n",
       "      <td>0</td>\n",
       "      <td>0</td>\n",
       "      <td>5</td>\n",
       "      <td>...</td>\n",
       "      <td>1040</td>\n",
       "      <td>580</td>\n",
       "      <td>1947</td>\n",
       "      <td>0</td>\n",
       "      <td>98103</td>\n",
       "      <td>47.6878</td>\n",
       "      <td>-122.331</td>\n",
       "      <td>1330</td>\n",
       "      <td>4700</td>\n",
       "      <td>640000</td>\n",
       "    </tr>\n",
       "  </tbody>\n",
       "</table>\n",
       "<p>1 rows × 21 columns</p>\n",
       "</div>"
      ],
      "text/plain": [
       "               id       date  bedrooms  bathroom  sqft_living  sqft_lot  \\\n",
       "15856  2402100895 2014-06-25        33      1.75         1620      6000   \n",
       "\n",
       "       floors  waterfront  view  condition  ...  sqft_above  sqft_basement  \\\n",
       "15856     1.0           0     0          5  ...        1040            580   \n",
       "\n",
       "       yr_built  yr_renovated  zipcode      lat     long  sqft_living15  \\\n",
       "15856      1947             0    98103  47.6878 -122.331           1330   \n",
       "\n",
       "       sqft_lot15   price  \n",
       "15856        4700  640000  \n",
       "\n",
       "[1 rows x 21 columns]"
      ]
     },
     "execution_count": 25,
     "metadata": {},
     "output_type": "execute_result"
    }
   ],
   "source": [
    "data.loc[data['bedrooms'] == 33]"
   ]
  },
  {
   "cell_type": "code",
   "execution_count": 26,
   "id": "bridal-adjustment",
   "metadata": {},
   "outputs": [],
   "source": [
    "cleandata = cleandata.drop(15856)"
   ]
  },
  {
   "cell_type": "markdown",
   "id": "frequent-channels",
   "metadata": {},
   "source": [
    "### Droping latitude, longitude column ----what about sqft_columnS????"
   ]
  },
  {
   "cell_type": "code",
   "execution_count": 27,
   "id": "manual-hollow",
   "metadata": {},
   "outputs": [],
   "source": [
    "cleandata.drop(['lat', 'long', 'sqft_living', 'sqft_lot', 'date'], axis=1, inplace=True)"
   ]
  },
  {
   "cell_type": "code",
   "execution_count": 28,
   "id": "worse-radius",
   "metadata": {},
   "outputs": [
    {
     "data": {
      "text/html": [
       "<div>\n",
       "<style scoped>\n",
       "    .dataframe tbody tr th:only-of-type {\n",
       "        vertical-align: middle;\n",
       "    }\n",
       "\n",
       "    .dataframe tbody tr th {\n",
       "        vertical-align: top;\n",
       "    }\n",
       "\n",
       "    .dataframe thead th {\n",
       "        text-align: right;\n",
       "    }\n",
       "</style>\n",
       "<table border=\"1\" class=\"dataframe\">\n",
       "  <thead>\n",
       "    <tr style=\"text-align: right;\">\n",
       "      <th></th>\n",
       "      <th>id</th>\n",
       "      <th>bedrooms</th>\n",
       "      <th>bathroom</th>\n",
       "      <th>floors</th>\n",
       "      <th>waterfront</th>\n",
       "      <th>view</th>\n",
       "      <th>condition</th>\n",
       "      <th>grade</th>\n",
       "      <th>sqft_above</th>\n",
       "      <th>sqft_basement</th>\n",
       "      <th>yr_built</th>\n",
       "      <th>yr_renovated</th>\n",
       "      <th>zipcode</th>\n",
       "      <th>sqft_living15</th>\n",
       "      <th>sqft_lot15</th>\n",
       "      <th>price</th>\n",
       "    </tr>\n",
       "  </thead>\n",
       "  <tbody>\n",
       "    <tr>\n",
       "      <th>0</th>\n",
       "      <td>7129300520</td>\n",
       "      <td>3</td>\n",
       "      <td>1.00</td>\n",
       "      <td>1.0</td>\n",
       "      <td>0</td>\n",
       "      <td>0</td>\n",
       "      <td>3</td>\n",
       "      <td>7</td>\n",
       "      <td>1180</td>\n",
       "      <td>0</td>\n",
       "      <td>1955</td>\n",
       "      <td>0</td>\n",
       "      <td>98178</td>\n",
       "      <td>1340</td>\n",
       "      <td>5650</td>\n",
       "      <td>221900</td>\n",
       "    </tr>\n",
       "    <tr>\n",
       "      <th>1</th>\n",
       "      <td>6414100192</td>\n",
       "      <td>3</td>\n",
       "      <td>2.25</td>\n",
       "      <td>2.0</td>\n",
       "      <td>0</td>\n",
       "      <td>0</td>\n",
       "      <td>3</td>\n",
       "      <td>7</td>\n",
       "      <td>2170</td>\n",
       "      <td>400</td>\n",
       "      <td>1951</td>\n",
       "      <td>1991</td>\n",
       "      <td>98125</td>\n",
       "      <td>1690</td>\n",
       "      <td>7639</td>\n",
       "      <td>538000</td>\n",
       "    </tr>\n",
       "    <tr>\n",
       "      <th>2</th>\n",
       "      <td>5631500400</td>\n",
       "      <td>2</td>\n",
       "      <td>1.00</td>\n",
       "      <td>1.0</td>\n",
       "      <td>0</td>\n",
       "      <td>0</td>\n",
       "      <td>3</td>\n",
       "      <td>6</td>\n",
       "      <td>770</td>\n",
       "      <td>0</td>\n",
       "      <td>1933</td>\n",
       "      <td>0</td>\n",
       "      <td>98028</td>\n",
       "      <td>2720</td>\n",
       "      <td>8062</td>\n",
       "      <td>180000</td>\n",
       "    </tr>\n",
       "    <tr>\n",
       "      <th>3</th>\n",
       "      <td>2487200875</td>\n",
       "      <td>4</td>\n",
       "      <td>3.00</td>\n",
       "      <td>1.0</td>\n",
       "      <td>0</td>\n",
       "      <td>0</td>\n",
       "      <td>5</td>\n",
       "      <td>7</td>\n",
       "      <td>1050</td>\n",
       "      <td>910</td>\n",
       "      <td>1965</td>\n",
       "      <td>0</td>\n",
       "      <td>98136</td>\n",
       "      <td>1360</td>\n",
       "      <td>5000</td>\n",
       "      <td>604000</td>\n",
       "    </tr>\n",
       "    <tr>\n",
       "      <th>4</th>\n",
       "      <td>1954400510</td>\n",
       "      <td>3</td>\n",
       "      <td>2.00</td>\n",
       "      <td>1.0</td>\n",
       "      <td>0</td>\n",
       "      <td>0</td>\n",
       "      <td>3</td>\n",
       "      <td>8</td>\n",
       "      <td>1680</td>\n",
       "      <td>0</td>\n",
       "      <td>1987</td>\n",
       "      <td>0</td>\n",
       "      <td>98074</td>\n",
       "      <td>1800</td>\n",
       "      <td>7503</td>\n",
       "      <td>510000</td>\n",
       "    </tr>\n",
       "    <tr>\n",
       "      <th>5</th>\n",
       "      <td>7237550310</td>\n",
       "      <td>4</td>\n",
       "      <td>4.50</td>\n",
       "      <td>1.0</td>\n",
       "      <td>0</td>\n",
       "      <td>0</td>\n",
       "      <td>3</td>\n",
       "      <td>11</td>\n",
       "      <td>3890</td>\n",
       "      <td>1530</td>\n",
       "      <td>2001</td>\n",
       "      <td>0</td>\n",
       "      <td>98053</td>\n",
       "      <td>4760</td>\n",
       "      <td>101930</td>\n",
       "      <td>1230000</td>\n",
       "    </tr>\n",
       "    <tr>\n",
       "      <th>6</th>\n",
       "      <td>1321400060</td>\n",
       "      <td>3</td>\n",
       "      <td>2.25</td>\n",
       "      <td>2.0</td>\n",
       "      <td>0</td>\n",
       "      <td>0</td>\n",
       "      <td>3</td>\n",
       "      <td>7</td>\n",
       "      <td>1715</td>\n",
       "      <td>0</td>\n",
       "      <td>1995</td>\n",
       "      <td>0</td>\n",
       "      <td>98003</td>\n",
       "      <td>2238</td>\n",
       "      <td>6819</td>\n",
       "      <td>257500</td>\n",
       "    </tr>\n",
       "    <tr>\n",
       "      <th>7</th>\n",
       "      <td>2008000270</td>\n",
       "      <td>3</td>\n",
       "      <td>1.50</td>\n",
       "      <td>1.0</td>\n",
       "      <td>0</td>\n",
       "      <td>0</td>\n",
       "      <td>3</td>\n",
       "      <td>7</td>\n",
       "      <td>1060</td>\n",
       "      <td>0</td>\n",
       "      <td>1963</td>\n",
       "      <td>0</td>\n",
       "      <td>98198</td>\n",
       "      <td>1650</td>\n",
       "      <td>9711</td>\n",
       "      <td>291850</td>\n",
       "    </tr>\n",
       "    <tr>\n",
       "      <th>8</th>\n",
       "      <td>2414600126</td>\n",
       "      <td>3</td>\n",
       "      <td>1.00</td>\n",
       "      <td>1.0</td>\n",
       "      <td>0</td>\n",
       "      <td>0</td>\n",
       "      <td>3</td>\n",
       "      <td>7</td>\n",
       "      <td>1050</td>\n",
       "      <td>730</td>\n",
       "      <td>1960</td>\n",
       "      <td>0</td>\n",
       "      <td>98146</td>\n",
       "      <td>1780</td>\n",
       "      <td>8113</td>\n",
       "      <td>229500</td>\n",
       "    </tr>\n",
       "    <tr>\n",
       "      <th>9</th>\n",
       "      <td>3793500160</td>\n",
       "      <td>3</td>\n",
       "      <td>2.50</td>\n",
       "      <td>2.0</td>\n",
       "      <td>0</td>\n",
       "      <td>0</td>\n",
       "      <td>3</td>\n",
       "      <td>7</td>\n",
       "      <td>1890</td>\n",
       "      <td>0</td>\n",
       "      <td>2003</td>\n",
       "      <td>0</td>\n",
       "      <td>98038</td>\n",
       "      <td>2390</td>\n",
       "      <td>7570</td>\n",
       "      <td>323000</td>\n",
       "    </tr>\n",
       "  </tbody>\n",
       "</table>\n",
       "</div>"
      ],
      "text/plain": [
       "           id  bedrooms  bathroom  floors  waterfront  view  condition  grade  \\\n",
       "0  7129300520         3      1.00     1.0           0     0          3      7   \n",
       "1  6414100192         3      2.25     2.0           0     0          3      7   \n",
       "2  5631500400         2      1.00     1.0           0     0          3      6   \n",
       "3  2487200875         4      3.00     1.0           0     0          5      7   \n",
       "4  1954400510         3      2.00     1.0           0     0          3      8   \n",
       "5  7237550310         4      4.50     1.0           0     0          3     11   \n",
       "6  1321400060         3      2.25     2.0           0     0          3      7   \n",
       "7  2008000270         3      1.50     1.0           0     0          3      7   \n",
       "8  2414600126         3      1.00     1.0           0     0          3      7   \n",
       "9  3793500160         3      2.50     2.0           0     0          3      7   \n",
       "\n",
       "   sqft_above  sqft_basement  yr_built  yr_renovated  zipcode  sqft_living15  \\\n",
       "0        1180              0      1955             0    98178           1340   \n",
       "1        2170            400      1951          1991    98125           1690   \n",
       "2         770              0      1933             0    98028           2720   \n",
       "3        1050            910      1965             0    98136           1360   \n",
       "4        1680              0      1987             0    98074           1800   \n",
       "5        3890           1530      2001             0    98053           4760   \n",
       "6        1715              0      1995             0    98003           2238   \n",
       "7        1060              0      1963             0    98198           1650   \n",
       "8        1050            730      1960             0    98146           1780   \n",
       "9        1890              0      2003             0    98038           2390   \n",
       "\n",
       "   sqft_lot15    price  \n",
       "0        5650   221900  \n",
       "1        7639   538000  \n",
       "2        8062   180000  \n",
       "3        5000   604000  \n",
       "4        7503   510000  \n",
       "5      101930  1230000  \n",
       "6        6819   257500  \n",
       "7        9711   291850  \n",
       "8        8113   229500  \n",
       "9        7570   323000  "
      ]
     },
     "execution_count": 28,
     "metadata": {},
     "output_type": "execute_result"
    }
   ],
   "source": [
    "cleandata.head(10)"
   ]
  },
  {
   "cell_type": "code",
   "execution_count": 29,
   "id": "italian-addiction",
   "metadata": {},
   "outputs": [
    {
     "data": {
      "text/plain": [
       "id                 int64\n",
       "bedrooms           int64\n",
       "bathroom         float64\n",
       "floors           float64\n",
       "waterfront         int64\n",
       "view               int64\n",
       "condition          int64\n",
       "grade              int64\n",
       "sqft_above         int64\n",
       "sqft_basement      int64\n",
       "yr_built           int64\n",
       "yr_renovated       int64\n",
       "zipcode            int64\n",
       "sqft_living15      int64\n",
       "sqft_lot15         int64\n",
       "price              int64\n",
       "dtype: object"
      ]
     },
     "execution_count": 29,
     "metadata": {},
     "output_type": "execute_result"
    }
   ],
   "source": [
    "cleandata.dtypes"
   ]
  },
  {
   "cell_type": "markdown",
   "id": "consolidated-nicaragua",
   "metadata": {},
   "source": [
    "### Creating bins for bathroom, yr_renovated, bedrooms, yr_built"
   ]
  },
  {
   "cell_type": "code",
   "execution_count": 30,
   "id": "sought-flood",
   "metadata": {},
   "outputs": [],
   "source": [
    "#putting years of renovations into bins\n",
    "bins = [0,1940,1970,1990,2015]\n",
    "cleandata['renovation_bins'] = pd.cut(cleandata.yr_renovated, bins=[0,1940,1970,1990,2015], include_lowest=True, right=True)\n",
    "cleandata['renovated'] = pd.cut(cleandata.yr_renovated, bins=[0,1940,1970,1990,2015], include_lowest=True, right=True, labels=[0,1,2,3])"
   ]
  },
  {
   "cell_type": "code",
   "execution_count": 31,
   "id": "north-cookie",
   "metadata": {},
   "outputs": [],
   "source": [
    "cleandata.drop(['renovation_bins', 'yr_renovated'], axis=1, inplace=True)"
   ]
  },
  {
   "cell_type": "code",
   "execution_count": 32,
   "id": "finnish-suspect",
   "metadata": {},
   "outputs": [],
   "source": [
    "cleandata.renovated = cleandata.renovated.astype('str')"
   ]
  },
  {
   "cell_type": "code",
   "execution_count": 33,
   "id": "touched-shelter",
   "metadata": {},
   "outputs": [],
   "source": [
    "cleandata['built'] = pd.qcut(cleandata['yr_built'], q=20, precision=0)"
   ]
  },
  {
   "cell_type": "code",
   "execution_count": 34,
   "id": "furnished-fishing",
   "metadata": {},
   "outputs": [],
   "source": [
    "bins = [1900,1960,1970,1990,2000,2015]\n",
    "cleandata['built_bins'] = pd.cut(cleandata.yr_built, bins=[1900,1960,1970,1990,2000,2015], include_lowest=True, right=True)\n",
    "cleandata['built'] = pd.cut(cleandata.yr_built, bins=[1900,1960,1970,1990,2000,2015], include_lowest=True, right=True, labels=['1960','1970','1990','2000','2015'])"
   ]
  },
  {
   "cell_type": "code",
   "execution_count": 35,
   "id": "precise-sapphire",
   "metadata": {},
   "outputs": [],
   "source": [
    "cleandata.drop(['yr_built', 'built_bins'], axis=1, inplace=True)"
   ]
  },
  {
   "cell_type": "code",
   "execution_count": 36,
   "id": "infectious-particular",
   "metadata": {},
   "outputs": [],
   "source": [
    "cleandata.built = cleandata.built.astype('str')"
   ]
  },
  {
   "cell_type": "code",
   "execution_count": 37,
   "id": "bacterial-underwear",
   "metadata": {},
   "outputs": [],
   "source": [
    "#bins=[0,2,3,4,8]\n",
    "#cleandata['bathroom_bin'] = pd.cut(cleandata.bathroom, bins,  include_lowest=True, right=True)\n",
    "#cleandata['bathroom_bins'] = pd.cut(cleandata.bathroom, bins, include_lowest=True, right=True, labels=['2','3','4','8'])"
   ]
  },
  {
   "cell_type": "code",
   "execution_count": 38,
   "id": "assisted-contractor",
   "metadata": {},
   "outputs": [],
   "source": [
    "#cleandata.drop(['bathroom_bin', 'bathroom'], axis=1, inplace=True)"
   ]
  },
  {
   "cell_type": "code",
   "execution_count": 39,
   "id": "signal-relay",
   "metadata": {},
   "outputs": [],
   "source": [
    "#cleandata.bathroom_bins = cleandata.bathroom_bins.astype('str')"
   ]
  },
  {
   "cell_type": "code",
   "execution_count": 40,
   "id": "radio-variety",
   "metadata": {},
   "outputs": [],
   "source": [
    "cleandata['view'] = cleandata['view'].astype('str')"
   ]
  },
  {
   "cell_type": "code",
   "execution_count": 41,
   "id": "distributed-wichita",
   "metadata": {},
   "outputs": [],
   "source": [
    "cleandata['floors'] = cleandata['floors'].astype('str')"
   ]
  },
  {
   "cell_type": "code",
   "execution_count": 42,
   "id": "documentary-subsection",
   "metadata": {},
   "outputs": [],
   "source": [
    "cleandata['waterfront'] = cleandata['waterfront'].astype('str')"
   ]
  },
  {
   "cell_type": "code",
   "execution_count": 43,
   "id": "native-essex",
   "metadata": {},
   "outputs": [],
   "source": [
    "cleandata['condition'] = cleandata['condition'].astype('str')"
   ]
  },
  {
   "cell_type": "code",
   "execution_count": 44,
   "id": "demographic-italic",
   "metadata": {},
   "outputs": [],
   "source": [
    "cleandata['grade'] = cleandata['grade'].astype('str')"
   ]
  },
  {
   "cell_type": "code",
   "execution_count": 45,
   "id": "progressive-qualification",
   "metadata": {},
   "outputs": [],
   "source": [
    "cleandata['bedrooms'] = cleandata['bedrooms'].astype('str')"
   ]
  },
  {
   "cell_type": "code",
   "execution_count": 46,
   "id": "alleged-belief",
   "metadata": {},
   "outputs": [],
   "source": [
    "cleandata['bathroom'] = cleandata['bathroom'].astype('str')"
   ]
  },
  {
   "cell_type": "code",
   "execution_count": 47,
   "id": "ongoing-patent",
   "metadata": {
    "scrolled": true
   },
   "outputs": [
    {
     "data": {
      "text/plain": [
       "id                int64\n",
       "bedrooms         object\n",
       "bathroom         object\n",
       "floors           object\n",
       "waterfront       object\n",
       "view             object\n",
       "condition        object\n",
       "grade            object\n",
       "sqft_above        int64\n",
       "sqft_basement     int64\n",
       "zipcode           int64\n",
       "sqft_living15     int64\n",
       "sqft_lot15        int64\n",
       "price             int64\n",
       "renovated        object\n",
       "built            object\n",
       "dtype: object"
      ]
     },
     "execution_count": 47,
     "metadata": {},
     "output_type": "execute_result"
    }
   ],
   "source": [
    "cleandata.dtypes"
   ]
  },
  {
   "cell_type": "markdown",
   "id": "indirect-cigarette",
   "metadata": {},
   "source": [
    "### Introducing column area which grades the area and drop zipcode afterwards"
   ]
  },
  {
   "cell_type": "code",
   "execution_count": 48,
   "id": "forward-toddler",
   "metadata": {},
   "outputs": [],
   "source": [
    "cleandata['area'] = cleandata['zipcode']"
   ]
  },
  {
   "cell_type": "code",
   "execution_count": 49,
   "id": "cathedral-attendance",
   "metadata": {},
   "outputs": [],
   "source": [
    "area_1 = [98001,98002,98003,98010,98011,98019,98022,98023,98027,98028,98038,98045,98072,98077,98092,98155,98166]"
   ]
  },
  {
   "cell_type": "code",
   "execution_count": 50,
   "id": "ongoing-warner",
   "metadata": {},
   "outputs": [],
   "source": [
    "area_2 = [98014,98024,98029,98030,98031,98032,98042,98053,98055,98056,98058,98059,98065,98070,98146,98148,98168,98178,98188,98198]"
   ]
  },
  {
   "cell_type": "code",
   "execution_count": 51,
   "id": "congressional-tyler",
   "metadata": {},
   "outputs": [],
   "source": [
    "area_3 = [98052,98074,98075,98106,98108,98116,98118,98125,98126,98133,98136,98177]"
   ]
  },
  {
   "cell_type": "code",
   "execution_count": 52,
   "id": "moved-fifty",
   "metadata": {},
   "outputs": [],
   "source": [
    "area_4 = [98004,98005,98006,98007,98008,98033,98034,98039,98040,98102,98103,98105,98107,98109,98112,98115,98117,98119,98122,98144,98199]"
   ]
  },
  {
   "cell_type": "code",
   "execution_count": 53,
   "id": "southeast-choir",
   "metadata": {},
   "outputs": [],
   "source": [
    "cleandata.loc[cleandata['area'].isin(area_1), 'area'] = 1\n",
    "cleandata.loc[cleandata['area'].isin(area_2), 'area'] = 2\n",
    "cleandata.loc[cleandata['area'].isin(area_3), 'area'] = 3\n",
    "cleandata.loc[cleandata['area'].isin(area_4), 'area'] = 4"
   ]
  },
  {
   "cell_type": "code",
   "execution_count": 54,
   "id": "powered-understanding",
   "metadata": {},
   "outputs": [
    {
     "data": {
      "text/plain": [
       "array([2, 3, 1, 4])"
      ]
     },
     "execution_count": 54,
     "metadata": {},
     "output_type": "execute_result"
    }
   ],
   "source": [
    "cleandata['area'].unique()"
   ]
  },
  {
   "cell_type": "code",
   "execution_count": 55,
   "id": "critical-minister",
   "metadata": {},
   "outputs": [
    {
     "data": {
      "text/plain": [
       "4    6564\n",
       "2    5443\n",
       "1    5083\n",
       "3    4506\n",
       "Name: area, dtype: int64"
      ]
     },
     "execution_count": 55,
     "metadata": {},
     "output_type": "execute_result"
    }
   ],
   "source": [
    "cleandata['area'].value_counts()"
   ]
  },
  {
   "cell_type": "code",
   "execution_count": 56,
   "id": "systematic-gates",
   "metadata": {},
   "outputs": [],
   "source": [
    "cleandata.drop(['zipcode'], axis=1, inplace=True)"
   ]
  },
  {
   "cell_type": "code",
   "execution_count": 57,
   "id": "professional-press",
   "metadata": {},
   "outputs": [],
   "source": [
    "cleandata.drop(['id'], axis=1, inplace=True)"
   ]
  },
  {
   "cell_type": "code",
   "execution_count": 58,
   "id": "empty-lotus",
   "metadata": {},
   "outputs": [],
   "source": [
    "cleandata['area'] = cleandata['area'].astype('str')"
   ]
  },
  {
   "cell_type": "code",
   "execution_count": 59,
   "id": "entitled-pattern",
   "metadata": {},
   "outputs": [
    {
     "data": {
      "text/html": [
       "<div>\n",
       "<style scoped>\n",
       "    .dataframe tbody tr th:only-of-type {\n",
       "        vertical-align: middle;\n",
       "    }\n",
       "\n",
       "    .dataframe tbody tr th {\n",
       "        vertical-align: top;\n",
       "    }\n",
       "\n",
       "    .dataframe thead th {\n",
       "        text-align: right;\n",
       "    }\n",
       "</style>\n",
       "<table border=\"1\" class=\"dataframe\">\n",
       "  <thead>\n",
       "    <tr style=\"text-align: right;\">\n",
       "      <th></th>\n",
       "      <th>bedrooms</th>\n",
       "      <th>bathroom</th>\n",
       "      <th>floors</th>\n",
       "      <th>waterfront</th>\n",
       "      <th>view</th>\n",
       "      <th>condition</th>\n",
       "      <th>grade</th>\n",
       "      <th>sqft_above</th>\n",
       "      <th>sqft_basement</th>\n",
       "      <th>sqft_living15</th>\n",
       "      <th>sqft_lot15</th>\n",
       "      <th>price</th>\n",
       "      <th>renovated</th>\n",
       "      <th>built</th>\n",
       "      <th>area</th>\n",
       "    </tr>\n",
       "  </thead>\n",
       "  <tbody>\n",
       "    <tr>\n",
       "      <th>0</th>\n",
       "      <td>3</td>\n",
       "      <td>1.0</td>\n",
       "      <td>1.0</td>\n",
       "      <td>0</td>\n",
       "      <td>0</td>\n",
       "      <td>3</td>\n",
       "      <td>7</td>\n",
       "      <td>1180</td>\n",
       "      <td>0</td>\n",
       "      <td>1340</td>\n",
       "      <td>5650</td>\n",
       "      <td>221900</td>\n",
       "      <td>0</td>\n",
       "      <td>1960</td>\n",
       "      <td>2</td>\n",
       "    </tr>\n",
       "    <tr>\n",
       "      <th>1</th>\n",
       "      <td>3</td>\n",
       "      <td>2.25</td>\n",
       "      <td>2.0</td>\n",
       "      <td>0</td>\n",
       "      <td>0</td>\n",
       "      <td>3</td>\n",
       "      <td>7</td>\n",
       "      <td>2170</td>\n",
       "      <td>400</td>\n",
       "      <td>1690</td>\n",
       "      <td>7639</td>\n",
       "      <td>538000</td>\n",
       "      <td>3</td>\n",
       "      <td>1960</td>\n",
       "      <td>3</td>\n",
       "    </tr>\n",
       "    <tr>\n",
       "      <th>2</th>\n",
       "      <td>2</td>\n",
       "      <td>1.0</td>\n",
       "      <td>1.0</td>\n",
       "      <td>0</td>\n",
       "      <td>0</td>\n",
       "      <td>3</td>\n",
       "      <td>6</td>\n",
       "      <td>770</td>\n",
       "      <td>0</td>\n",
       "      <td>2720</td>\n",
       "      <td>8062</td>\n",
       "      <td>180000</td>\n",
       "      <td>0</td>\n",
       "      <td>1960</td>\n",
       "      <td>1</td>\n",
       "    </tr>\n",
       "    <tr>\n",
       "      <th>3</th>\n",
       "      <td>4</td>\n",
       "      <td>3.0</td>\n",
       "      <td>1.0</td>\n",
       "      <td>0</td>\n",
       "      <td>0</td>\n",
       "      <td>5</td>\n",
       "      <td>7</td>\n",
       "      <td>1050</td>\n",
       "      <td>910</td>\n",
       "      <td>1360</td>\n",
       "      <td>5000</td>\n",
       "      <td>604000</td>\n",
       "      <td>0</td>\n",
       "      <td>1970</td>\n",
       "      <td>3</td>\n",
       "    </tr>\n",
       "    <tr>\n",
       "      <th>4</th>\n",
       "      <td>3</td>\n",
       "      <td>2.0</td>\n",
       "      <td>1.0</td>\n",
       "      <td>0</td>\n",
       "      <td>0</td>\n",
       "      <td>3</td>\n",
       "      <td>8</td>\n",
       "      <td>1680</td>\n",
       "      <td>0</td>\n",
       "      <td>1800</td>\n",
       "      <td>7503</td>\n",
       "      <td>510000</td>\n",
       "      <td>0</td>\n",
       "      <td>1990</td>\n",
       "      <td>3</td>\n",
       "    </tr>\n",
       "  </tbody>\n",
       "</table>\n",
       "</div>"
      ],
      "text/plain": [
       "  bedrooms bathroom floors waterfront view condition grade  sqft_above  \\\n",
       "0        3      1.0    1.0          0    0         3     7        1180   \n",
       "1        3     2.25    2.0          0    0         3     7        2170   \n",
       "2        2      1.0    1.0          0    0         3     6         770   \n",
       "3        4      3.0    1.0          0    0         5     7        1050   \n",
       "4        3      2.0    1.0          0    0         3     8        1680   \n",
       "\n",
       "   sqft_basement  sqft_living15  sqft_lot15   price renovated built area  \n",
       "0              0           1340        5650  221900         0  1960    2  \n",
       "1            400           1690        7639  538000         3  1960    3  \n",
       "2              0           2720        8062  180000         0  1960    1  \n",
       "3            910           1360        5000  604000         0  1970    3  \n",
       "4              0           1800        7503  510000         0  1990    3  "
      ]
     },
     "execution_count": 59,
     "metadata": {},
     "output_type": "execute_result"
    }
   ],
   "source": [
    "cleandata.head()"
   ]
  },
  {
   "cell_type": "code",
   "execution_count": 60,
   "id": "latin-macro",
   "metadata": {},
   "outputs": [
    {
     "data": {
      "text/plain": [
       "bedrooms         object\n",
       "bathroom         object\n",
       "floors           object\n",
       "waterfront       object\n",
       "view             object\n",
       "condition        object\n",
       "grade            object\n",
       "sqft_above        int64\n",
       "sqft_basement     int64\n",
       "sqft_living15     int64\n",
       "sqft_lot15        int64\n",
       "price             int64\n",
       "renovated        object\n",
       "built            object\n",
       "area             object\n",
       "dtype: object"
      ]
     },
     "execution_count": 60,
     "metadata": {},
     "output_type": "execute_result"
    }
   ],
   "source": [
    "cleandata.dtypes"
   ]
  },
  {
   "cell_type": "markdown",
   "id": "living-upper",
   "metadata": {},
   "source": [
    "### Train and test set"
   ]
  },
  {
   "cell_type": "code",
   "execution_count": 61,
   "id": "amino-repair",
   "metadata": {},
   "outputs": [],
   "source": [
    "# first, split X-y (learning-target data)\n",
    "X = cleandata.drop(columns=['price'])\n",
    "y = cleandata['price']"
   ]
  },
  {
   "cell_type": "code",
   "execution_count": 62,
   "id": "faced-period",
   "metadata": {},
   "outputs": [
    {
     "name": "stdout",
     "output_type": "stream",
     "text": [
      "(21596, 14)\n",
      "(21596,)\n"
     ]
    }
   ],
   "source": [
    "# checking shape\n",
    "print(X.shape)\n",
    "print(y.shape)"
   ]
  },
  {
   "cell_type": "code",
   "execution_count": 63,
   "id": "dangerous-consensus",
   "metadata": {},
   "outputs": [],
   "source": [
    "# train_test_split\n",
    "from sklearn.model_selection import train_test_split as tts\n",
    "\n",
    "# train-test-split (4 sets)\n",
    "X_train, X_test, y_train, y_test=tts(X, y, test_size=0.7, random_state=42)  # random state fixed sample"
   ]
  },
  {
   "cell_type": "markdown",
   "id": "attempted-beatles",
   "metadata": {},
   "source": [
    "### First Iteration Modelling"
   ]
  },
  {
   "cell_type": "code",
   "execution_count": 64,
   "id": "rising-pollution",
   "metadata": {},
   "outputs": [],
   "source": [
    "# dropping bathroom_ just to check.... as the hyphen is causing issues\n",
    "#cleandata.drop(['bathroom'], axis=1, inplace=True)"
   ]
  },
  {
   "cell_type": "code",
   "execution_count": 65,
   "id": "demanding-jersey",
   "metadata": {},
   "outputs": [],
   "source": [
    "from sklearn.linear_model import LinearRegression as LinReg\n",
    "\n",
    "# create an (untrained) model \"instance\"\n",
    "linreg=LinReg()    \n",
    "\n",
    "# train the model\n",
    "linreg.fit(X_train, y_train)\n",
    "\n",
    "# predict target data from test features , that the model has never seen\n",
    "y_pred_linreg=linreg.predict(X_test)\n"
   ]
  },
  {
   "cell_type": "markdown",
   "id": "controlled-motivation",
   "metadata": {},
   "source": [
    "### Model Validation"
   ]
  },
  {
   "cell_type": "code",
   "execution_count": 66,
   "id": "recent-pillow",
   "metadata": {},
   "outputs": [],
   "source": [
    "models=[linreg,\n",
    "        # add more models here\n",
    "       ]\n",
    "model_names=['linreg',\n",
    "             # add more model strings here\n",
    "            ]\n",
    "preds=[y_pred_linreg,\n",
    "       # add more predicted labels here\n",
    "      ]"
   ]
  },
  {
   "cell_type": "code",
   "execution_count": 67,
   "id": "valid-manual",
   "metadata": {},
   "outputs": [
    {
     "name": "stdout",
     "output_type": "stream",
     "text": [
      "Model: linreg, train R2: 0.7315635451676319 -- test R2: 0.7224085926900964\n"
     ]
    }
   ],
   "source": [
    "# this for loop is actually not necessary when only 1 model is used.\n",
    "for i in range(len(models)):\n",
    "\n",
    "    train_score=models[i].score(X_train, y_train) #R2\n",
    "    test_score=models[i].score(X_test, y_test)\n",
    "\n",
    "    print ('Model: {}, train R2: {} -- test R2: {}'.format(model_names[i], train_score, test_score))"
   ]
  },
  {
   "cell_type": "code",
   "execution_count": 68,
   "id": "increasing-edinburgh",
   "metadata": {},
   "outputs": [
    {
     "data": {
      "image/png": "[encoded data removed]",
      "text/plain": [
       "<Figure size 864x576 with 1 Axes>"
      ]
     },
     "metadata": {
      "needs_background": "light"
     },
     "output_type": "display_data"
    }
   ],
   "source": [
    "# generating value pairs for an ideal model\n",
    "# which predicts the exact same y-value for a given test-y-value\n",
    "line_x = line_y = np.linspace(min(y_test), max(y_test), num=len(y_test))\n",
    "\n",
    "fig, ax = plt.subplots(figsize=(12,8))\n",
    "plt.plot(y_test, y_pred_linreg, ms=5, marker=\".\", ls='')\n",
    "\n",
    "# plot the ideal model together with our dots\n",
    "plt.plot(line_x, line_y, ms=0.1, marker=\".\", ls='-', c='r', label='ideal model')\n",
    "\n",
    "# show legend\n",
    "plt.legend();\n",
    "\n",
    "plt.xlabel('y_test (price in $)');\n",
    "plt.ylabel('y_predicted (price in $)');"
   ]
  },
  {
   "cell_type": "markdown",
   "id": "english-winner",
   "metadata": {},
   "source": [
    "## Optimizing the model"
   ]
  },
  {
   "cell_type": "markdown",
   "id": "moral-doubt",
   "metadata": {},
   "source": [
    "### Logarithmic transformation "
   ]
  },
  {
   "cell_type": "markdown",
   "id": "immediate-brazilian",
   "metadata": {},
   "source": [
    "sqft_above, sqft_basement, sqft_living15, sqft_lot15, price"
   ]
  },
  {
   "cell_type": "markdown",
   "id": "absolute-discrimination",
   "metadata": {},
   "source": [
    "#### sqft_above"
   ]
  },
  {
   "cell_type": "code",
   "execution_count": 69,
   "id": "advisory-origin",
   "metadata": {},
   "outputs": [
    {
     "data": {
      "image/png": "[encoded data removed]",
      "text/plain": [
       "<Figure size 360x360 with 1 Axes>"
      ]
     },
     "metadata": {
      "needs_background": "light"
     },
     "output_type": "display_data"
    }
   ],
   "source": [
    "sns.displot(cleandata['sqft_above'])\n",
    "plt.show()"
   ]
  },
  {
   "cell_type": "code",
   "execution_count": 70,
   "id": "becoming-impossible",
   "metadata": {},
   "outputs": [],
   "source": [
    "def log_transform_clean(x):\n",
    "    x = np.log(x)\n",
    "    if np.isfinite(x):\n",
    "        return x\n",
    "    else:\n",
    "        return 0"
   ]
  },
  {
   "cell_type": "code",
   "execution_count": 71,
   "id": "leading-rebate",
   "metadata": {},
   "outputs": [
    {
     "data": {
      "image/png": "[encoded data removed]",
      "text/plain": [
       "<Figure size 360x360 with 1 Axes>"
      ]
     },
     "metadata": {
      "needs_background": "light"
     },
     "output_type": "display_data"
    }
   ],
   "source": [
    "temp = cleandata['sqft_above'].apply(log_transform_clean)\n",
    "sns.displot(temp)\n",
    "plt.show()"
   ]
  },
  {
   "cell_type": "code",
   "execution_count": 72,
   "id": "nominated-painting",
   "metadata": {},
   "outputs": [],
   "source": [
    "import statsmodels.api as sm\n",
    "from scipy.stats import norm\n",
    "import pylab"
   ]
  },
  {
   "cell_type": "code",
   "execution_count": 73,
   "id": "younger-sterling",
   "metadata": {},
   "outputs": [
    {
     "data": {
      "image/png": "[encoded data removed]",
      "text/plain": [
       "<Figure size 432x288 with 1 Axes>"
      ]
     },
     "metadata": {
      "needs_background": "light"
     },
     "output_type": "display_data"
    }
   ],
   "source": [
    "# before\n",
    "sm.qqplot(cleandata['sqft_above'], line='r')\n",
    "pylab.show()"
   ]
  },
  {
   "cell_type": "code",
   "execution_count": 74,
   "id": "coordinated-panama",
   "metadata": {},
   "outputs": [
    {
     "data": {
      "image/png": "[encoded data removed]",
      "text/plain": [
       "<Figure size 432x288 with 1 Axes>"
      ]
     },
     "metadata": {
      "needs_background": "light"
     },
     "output_type": "display_data"
    }
   ],
   "source": [
    "# after\n",
    "sm.qqplot(temp, line='r')\n",
    "pylab.show()"
   ]
  },
  {
   "cell_type": "code",
   "execution_count": 75,
   "id": "assured-southwest",
   "metadata": {},
   "outputs": [],
   "source": [
    "cleandata['sqft_above']= temp"
   ]
  },
  {
   "cell_type": "markdown",
   "id": "chubby-honduras",
   "metadata": {},
   "source": [
    "#### sqft_basement"
   ]
  },
  {
   "cell_type": "code",
   "execution_count": 76,
   "id": "configured-lesson",
   "metadata": {},
   "outputs": [
    {
     "data": {
      "image/png": "[encoded data removed]",
      "text/plain": [
       "<Figure size 360x360 with 1 Axes>"
      ]
     },
     "metadata": {
      "needs_background": "light"
     },
     "output_type": "display_data"
    }
   ],
   "source": [
    "sns.displot(cleandata['sqft_basement'])\n",
    "plt.show()"
   ]
  },
  {
   "cell_type": "code",
   "execution_count": 77,
   "id": "foster-morrison",
   "metadata": {},
   "outputs": [
    {
     "data": {
      "image/png": "[encoded data removed]",
      "text/plain": [
       "<Figure size 360x360 with 1 Axes>"
      ]
     },
     "metadata": {
      "needs_background": "light"
     },
     "output_type": "display_data"
    }
   ],
   "source": [
    "temp2 = cleandata['sqft_basement'].apply(log_transform_clean)\n",
    "sns.displot(temp2)\n",
    "plt.show()"
   ]
  },
  {
   "cell_type": "code",
   "execution_count": 78,
   "id": "surface-secret",
   "metadata": {},
   "outputs": [
    {
     "data": {
      "image/png": "[encoded data removed]",
      "text/plain": [
       "<Figure size 432x288 with 1 Axes>"
      ]
     },
     "metadata": {
      "needs_background": "light"
     },
     "output_type": "display_data"
    }
   ],
   "source": [
    "# before\n",
    "sm.qqplot(cleandata['sqft_basement'], line='r')\n",
    "pylab.show()"
   ]
  },
  {
   "cell_type": "code",
   "execution_count": 79,
   "id": "loved-cabin",
   "metadata": {},
   "outputs": [
    {
     "data": {
      "image/png": "[encoded data removed]",
      "text/plain": [
       "<Figure size 432x288 with 1 Axes>"
      ]
     },
     "metadata": {
      "needs_background": "light"
     },
     "output_type": "display_data"
    }
   ],
   "source": [
    "# after\n",
    "sm.qqplot(temp2, line='r')\n",
    "pylab.show()"
   ]
  },
  {
   "cell_type": "markdown",
   "id": "built-waste",
   "metadata": {},
   "source": [
    "* not a goot fit, basement 1 no basement 0 would be an idea"
   ]
  },
  {
   "cell_type": "code",
   "execution_count": 80,
   "id": "timely-surprise",
   "metadata": {},
   "outputs": [],
   "source": [
    "#lets drop basement\n",
    "cleandata.drop(['sqft_basement'], axis=1, inplace=True)"
   ]
  },
  {
   "cell_type": "markdown",
   "id": "automatic-triumph",
   "metadata": {},
   "source": [
    "#### sqft_living15"
   ]
  },
  {
   "cell_type": "code",
   "execution_count": 81,
   "id": "southern-angola",
   "metadata": {},
   "outputs": [
    {
     "data": {
      "image/png": "[encoded data removed]",
      "text/plain": [
       "<Figure size 360x360 with 1 Axes>"
      ]
     },
     "metadata": {
      "needs_background": "light"
     },
     "output_type": "display_data"
    }
   ],
   "source": [
    "sns.displot(cleandata['sqft_living15'])\n",
    "plt.show()"
   ]
  },
  {
   "cell_type": "code",
   "execution_count": 82,
   "id": "toxic-serum",
   "metadata": {},
   "outputs": [
    {
     "data": {
      "image/png": "[encoded data removed]",
      "text/plain": [
       "<Figure size 360x360 with 1 Axes>"
      ]
     },
     "metadata": {
      "needs_background": "light"
     },
     "output_type": "display_data"
    }
   ],
   "source": [
    "temp3 = cleandata['sqft_living15'].apply(log_transform_clean)\n",
    "sns.displot(temp3)\n",
    "plt.show()"
   ]
  },
  {
   "cell_type": "code",
   "execution_count": 83,
   "id": "collect-nelson",
   "metadata": {},
   "outputs": [
    {
     "data": {
      "image/png": "[encoded data removed]",
      "text/plain": [
       "<Figure size 432x288 with 1 Axes>"
      ]
     },
     "metadata": {
      "needs_background": "light"
     },
     "output_type": "display_data"
    }
   ],
   "source": [
    "# before\n",
    "sm.qqplot(cleandata['sqft_living15'], line='r')\n",
    "pylab.show()"
   ]
  },
  {
   "cell_type": "code",
   "execution_count": 84,
   "id": "printable-triumph",
   "metadata": {},
   "outputs": [
    {
     "data": {
      "image/png": "[encoded data removed]",
      "text/plain": [
       "<Figure size 432x288 with 1 Axes>"
      ]
     },
     "metadata": {
      "needs_background": "light"
     },
     "output_type": "display_data"
    }
   ],
   "source": [
    "# after\n",
    "sm.qqplot(temp3, line='r')\n",
    "pylab.show()"
   ]
  },
  {
   "cell_type": "code",
   "execution_count": 85,
   "id": "right-chassis",
   "metadata": {},
   "outputs": [],
   "source": [
    "cleandata['sqft_living15']= temp3"
   ]
  },
  {
   "cell_type": "markdown",
   "id": "fleet-corps",
   "metadata": {},
   "source": [
    "### sqft_lot15"
   ]
  },
  {
   "cell_type": "code",
   "execution_count": 86,
   "id": "short-attention",
   "metadata": {},
   "outputs": [
    {
     "data": {
      "image/png": "[encoded data removed]",
      "text/plain": [
       "<Figure size 360x360 with 1 Axes>"
      ]
     },
     "metadata": {
      "needs_background": "light"
     },
     "output_type": "display_data"
    }
   ],
   "source": [
    "sns.displot(cleandata['sqft_lot15'])\n",
    "plt.show()"
   ]
  },
  {
   "cell_type": "code",
   "execution_count": 87,
   "id": "concrete-competition",
   "metadata": {},
   "outputs": [
    {
     "data": {
      "image/png": "[encoded data removed]",
      "text/plain": [
       "<Figure size 360x360 with 1 Axes>"
      ]
     },
     "metadata": {
      "needs_background": "light"
     },
     "output_type": "display_data"
    }
   ],
   "source": [
    "temp4 = cleandata['sqft_lot15'].apply(log_transform_clean)\n",
    "sns.displot(temp4)\n",
    "plt.show()"
   ]
  },
  {
   "cell_type": "code",
   "execution_count": 88,
   "id": "wanted-rates",
   "metadata": {},
   "outputs": [
    {
     "data": {
      "image/png": "[encoded data removed]",
      "text/plain": [
       "<Figure size 432x288 with 1 Axes>"
      ]
     },
     "metadata": {
      "needs_background": "light"
     },
     "output_type": "display_data"
    }
   ],
   "source": [
    "# before\n",
    "sm.qqplot(cleandata['sqft_lot15'], line='r')\n",
    "pylab.show()"
   ]
  },
  {
   "cell_type": "code",
   "execution_count": 89,
   "id": "thick-harrison",
   "metadata": {},
   "outputs": [
    {
     "data": {
      "image/png": "[encoded data removed]",
      "text/plain": [
       "<Figure size 432x288 with 1 Axes>"
      ]
     },
     "metadata": {
      "needs_background": "light"
     },
     "output_type": "display_data"
    }
   ],
   "source": [
    "# after\n",
    "sm.qqplot(temp4, line='r')\n",
    "pylab.show()"
   ]
  },
  {
   "cell_type": "markdown",
   "id": "optional-ridge",
   "metadata": {},
   "source": [
    "* not optimal in the last quantile, but better than before"
   ]
  },
  {
   "cell_type": "code",
   "execution_count": 90,
   "id": "apart-intent",
   "metadata": {},
   "outputs": [],
   "source": [
    "cleandata['sqft_lot15']= temp4"
   ]
  },
  {
   "cell_type": "code",
   "execution_count": 96,
   "id": "preliminary-representative",
   "metadata": {},
   "outputs": [],
   "source": [
    "cat_cols=[col for col in cleandata.columns if (cleandata[col].dtype==object)] \n",
    "num_cols=[col for col in cleandata.columns if (cleandata[col].dtype!=object)]"
   ]
  },
  {
   "cell_type": "code",
   "execution_count": 97,
   "id": "tamil-technique",
   "metadata": {},
   "outputs": [],
   "source": [
    "num_cols.remove('price')"
   ]
  },
  {
   "cell_type": "markdown",
   "id": "secondary-pressing",
   "metadata": {},
   "source": [
    "### Normalize & standardize"
   ]
  },
  {
   "cell_type": "code",
   "execution_count": 98,
   "id": "vertical-conviction",
   "metadata": {},
   "outputs": [],
   "source": [
    "from sklearn.preprocessing import MinMaxScaler\n",
    "cleandata['sqft_above']=MinMaxScaler().fit_transform(cleandata['sqft_above'].values.reshape(-1, 1))"
   ]
  },
  {
   "cell_type": "code",
   "execution_count": 99,
   "id": "governing-pharmaceutical",
   "metadata": {},
   "outputs": [],
   "source": [
    "cleandata['sqft_living15']=MinMaxScaler().fit_transform(cleandata['sqft_living15'].values.reshape(-1, 1))"
   ]
  },
  {
   "cell_type": "code",
   "execution_count": 100,
   "id": "liked-eugene",
   "metadata": {},
   "outputs": [],
   "source": [
    "cleandata['sqft_lot15']=MinMaxScaler().fit_transform(cleandata['sqft_lot15'].values.reshape(-1, 1))"
   ]
  },
  {
   "cell_type": "code",
   "execution_count": 101,
   "id": "alive-segment",
   "metadata": {},
   "outputs": [
    {
     "data": {
      "text/plain": [
       "['sqft_above', 'sqft_living15', 'sqft_lot15']"
      ]
     },
     "execution_count": 101,
     "metadata": {},
     "output_type": "execute_result"
    }
   ],
   "source": [
    "from sklearn.preprocessing import StandardScaler\n",
    "num_cols"
   ]
  },
  {
   "cell_type": "code",
   "execution_count": 102,
   "id": "multiple-commercial",
   "metadata": {},
   "outputs": [],
   "source": [
    "for c in num_cols[:-1]:   # we'll normalize all except the target column\n",
    "    cleandata[c]=StandardScaler().fit_transform(cleandata[c].values.reshape(-1, 1))"
   ]
  },
  {
   "cell_type": "markdown",
   "id": "capable-jamaica",
   "metadata": {},
   "source": [
    "## Second Iteration Modell"
   ]
  },
  {
   "cell_type": "code",
   "execution_count": 103,
   "id": "vietnamese-morrison",
   "metadata": {},
   "outputs": [],
   "source": [
    "# first, split X-y (learning-target data)\n",
    "X = cleandata.drop(columns=['price'])\n",
    "y = cleandata['price']"
   ]
  },
  {
   "cell_type": "code",
   "execution_count": 104,
   "id": "gothic-welcome",
   "metadata": {},
   "outputs": [
    {
     "name": "stdout",
     "output_type": "stream",
     "text": [
      "(21596, 13)\n",
      "(21596,)\n"
     ]
    }
   ],
   "source": [
    "# checking shape\n",
    "print(X.shape)\n",
    "print(y.shape)"
   ]
  },
  {
   "cell_type": "code",
   "execution_count": 105,
   "id": "clean-groove",
   "metadata": {},
   "outputs": [],
   "source": [
    "# train_test_split\n",
    "from sklearn.model_selection import train_test_split as tts\n",
    "\n",
    "# train-test-split (4 sets)\n",
    "X_train, X_test, y_train, y_test=tts(X, y, test_size=0.7, random_state=42)  # random state fixed sample"
   ]
  },
  {
   "cell_type": "code",
   "execution_count": 106,
   "id": "limited-deviation",
   "metadata": {},
   "outputs": [],
   "source": [
    "from sklearn.linear_model import LinearRegression as LinReg\n",
    "\n",
    "# create an (untrained) model \"instance\"\n",
    "linreg=LinReg()    \n",
    "\n",
    "# train the model\n",
    "linreg.fit(X_train, y_train)\n",
    "\n",
    "# predict target data from test features , that the model has never seen\n",
    "y_pred_linreg=linreg.predict(X_test)"
   ]
  },
  {
   "cell_type": "code",
   "execution_count": 107,
   "id": "moderate-palmer",
   "metadata": {},
   "outputs": [],
   "source": [
    "models=[linreg,\n",
    "        # add more models here\n",
    "       ]\n",
    "model_names=['linreg',\n",
    "             # add more model strings here\n",
    "            ]\n",
    "preds=[y_pred_linreg,\n",
    "       # add more predicted labels here\n",
    "      ]"
   ]
  },
  {
   "cell_type": "code",
   "execution_count": 108,
   "id": "potential-change",
   "metadata": {},
   "outputs": [
    {
     "name": "stdout",
     "output_type": "stream",
     "text": [
      "Model: linreg, train R2: 0.6972306390407688 -- test R2: 0.6759032447104818\n"
     ]
    }
   ],
   "source": [
    "# this for loop is actually not necessary when only 1 model is used.\n",
    "for i in range(len(models)):\n",
    "\n",
    "    train_score=models[i].score(X_train, y_train) #R2\n",
    "    test_score=models[i].score(X_test, y_test)\n",
    "\n",
    "    print ('Model: {}, train R2: {} -- test R2: {}'.format(model_names[i], train_score, test_score))"
   ]
  },
  {
   "cell_type": "code",
   "execution_count": 109,
   "id": "announced-machine",
   "metadata": {},
   "outputs": [
    {
     "data": {
      "image/png": "[encoded data removed]",
      "text/plain": [
       "<Figure size 864x576 with 1 Axes>"
      ]
     },
     "metadata": {
      "needs_background": "light"
     },
     "output_type": "display_data"
    }
   ],
   "source": [
    "# generating value pairs for an ideal model\n",
    "# which predicts the exact same y-value for a given test-y-value\n",
    "line_x = line_y = np.linspace(min(y_test), max(y_test), num=len(y_test))\n",
    "\n",
    "fig, ax = plt.subplots(figsize=(12,8))\n",
    "plt.plot(y_test, y_pred_linreg, ms=5, marker=\".\", ls='')\n",
    "\n",
    "# plot the ideal model together with our dots\n",
    "plt.plot(line_x, line_y, ms=0.1, marker=\".\", ls='-', c='r', label='ideal model')\n",
    "\n",
    "# show legend\n",
    "plt.legend();\n",
    "\n",
    "plt.xlabel('y_test (price in $)');\n",
    "plt.ylabel('y_predicted (price in $)');"
   ]
  },
  {
   "cell_type": "code",
   "execution_count": 110,
   "id": "incident-beads",
   "metadata": {},
   "outputs": [
    {
     "data": {
      "text/html": [
       "<div>\n",
       "<style scoped>\n",
       "    .dataframe tbody tr th:only-of-type {\n",
       "        vertical-align: middle;\n",
       "    }\n",
       "\n",
       "    .dataframe tbody tr th {\n",
       "        vertical-align: top;\n",
       "    }\n",
       "\n",
       "    .dataframe thead th {\n",
       "        text-align: right;\n",
       "    }\n",
       "</style>\n",
       "<table border=\"1\" class=\"dataframe\">\n",
       "  <thead>\n",
       "    <tr style=\"text-align: right;\">\n",
       "      <th></th>\n",
       "      <th>bedrooms</th>\n",
       "      <th>bathroom</th>\n",
       "      <th>floors</th>\n",
       "      <th>waterfront</th>\n",
       "      <th>view</th>\n",
       "      <th>condition</th>\n",
       "      <th>grade</th>\n",
       "      <th>sqft_above</th>\n",
       "      <th>sqft_living15</th>\n",
       "      <th>sqft_lot15</th>\n",
       "      <th>price</th>\n",
       "      <th>renovated</th>\n",
       "      <th>built</th>\n",
       "      <th>area</th>\n",
       "    </tr>\n",
       "  </thead>\n",
       "  <tbody>\n",
       "    <tr>\n",
       "      <th>0</th>\n",
       "      <td>3</td>\n",
       "      <td>1.0</td>\n",
       "      <td>1.0</td>\n",
       "      <td>0</td>\n",
       "      <td>0</td>\n",
       "      <td>3</td>\n",
       "      <td>7</td>\n",
       "      <td>-0.753633</td>\n",
       "      <td>-1.035505</td>\n",
       "      <td>0.300162</td>\n",
       "      <td>221900</td>\n",
       "      <td>0</td>\n",
       "      <td>1960</td>\n",
       "      <td>2</td>\n",
       "    </tr>\n",
       "    <tr>\n",
       "      <th>1</th>\n",
       "      <td>3</td>\n",
       "      <td>2.25</td>\n",
       "      <td>2.0</td>\n",
       "      <td>0</td>\n",
       "      <td>0</td>\n",
       "      <td>3</td>\n",
       "      <td>7</td>\n",
       "      <td>0.672662</td>\n",
       "      <td>-0.326839</td>\n",
       "      <td>0.342058</td>\n",
       "      <td>538000</td>\n",
       "      <td>3</td>\n",
       "      <td>1960</td>\n",
       "      <td>3</td>\n",
       "    </tr>\n",
       "    <tr>\n",
       "      <th>2</th>\n",
       "      <td>2</td>\n",
       "      <td>1.0</td>\n",
       "      <td>1.0</td>\n",
       "      <td>0</td>\n",
       "      <td>0</td>\n",
       "      <td>3</td>\n",
       "      <td>6</td>\n",
       "      <td>-1.753047</td>\n",
       "      <td>1.126485</td>\n",
       "      <td>0.349544</td>\n",
       "      <td>180000</td>\n",
       "      <td>0</td>\n",
       "      <td>1960</td>\n",
       "      <td>1</td>\n",
       "    </tr>\n",
       "    <tr>\n",
       "      <th>3</th>\n",
       "      <td>4</td>\n",
       "      <td>3.0</td>\n",
       "      <td>1.0</td>\n",
       "      <td>0</td>\n",
       "      <td>0</td>\n",
       "      <td>5</td>\n",
       "      <td>7</td>\n",
       "      <td>-1.026909</td>\n",
       "      <td>-0.990262</td>\n",
       "      <td>0.283185</td>\n",
       "      <td>604000</td>\n",
       "      <td>0</td>\n",
       "      <td>1970</td>\n",
       "      <td>3</td>\n",
       "    </tr>\n",
       "    <tr>\n",
       "      <th>4</th>\n",
       "      <td>3</td>\n",
       "      <td>2.0</td>\n",
       "      <td>1.0</td>\n",
       "      <td>0</td>\n",
       "      <td>0</td>\n",
       "      <td>3</td>\n",
       "      <td>8</td>\n",
       "      <td>0.073468</td>\n",
       "      <td>-0.134270</td>\n",
       "      <td>0.339562</td>\n",
       "      <td>510000</td>\n",
       "      <td>0</td>\n",
       "      <td>1990</td>\n",
       "      <td>3</td>\n",
       "    </tr>\n",
       "  </tbody>\n",
       "</table>\n",
       "</div>"
      ],
      "text/plain": [
       "  bedrooms bathroom floors waterfront view condition grade  sqft_above  \\\n",
       "0        3      1.0    1.0          0    0         3     7   -0.753633   \n",
       "1        3     2.25    2.0          0    0         3     7    0.672662   \n",
       "2        2      1.0    1.0          0    0         3     6   -1.753047   \n",
       "3        4      3.0    1.0          0    0         5     7   -1.026909   \n",
       "4        3      2.0    1.0          0    0         3     8    0.073468   \n",
       "\n",
       "   sqft_living15  sqft_lot15   price renovated built area  \n",
       "0      -1.035505    0.300162  221900         0  1960    2  \n",
       "1      -0.326839    0.342058  538000         3  1960    3  \n",
       "2       1.126485    0.349544  180000         0  1960    1  \n",
       "3      -0.990262    0.283185  604000         0  1970    3  \n",
       "4      -0.134270    0.339562  510000         0  1990    3  "
      ]
     },
     "execution_count": 110,
     "metadata": {},
     "output_type": "execute_result"
    }
   ],
   "source": [
    "cleandata.head()"
   ]
  },
  {
   "cell_type": "markdown",
   "id": "muslim-behavior",
   "metadata": {},
   "source": [
    "#### Encoding categorical columns"
   ]
  },
  {
   "cell_type": "markdown",
   "id": "waiting-examination",
   "metadata": {},
   "source": [
    " bedrooms, bathroom, floors, waterfront, view, condition, grade, renovation_bin_labels, yr_build, area"
   ]
  },
  {
   "cell_type": "code",
   "execution_count": 111,
   "id": "clean-webcam",
   "metadata": {},
   "outputs": [
    {
     "data": {
      "text/plain": [
       "bedrooms          object\n",
       "bathroom          object\n",
       "floors            object\n",
       "waterfront        object\n",
       "view              object\n",
       "condition         object\n",
       "grade             object\n",
       "sqft_above       float64\n",
       "sqft_living15    float64\n",
       "sqft_lot15       float64\n",
       "price              int64\n",
       "renovated         object\n",
       "built             object\n",
       "area              object\n",
       "dtype: object"
      ]
     },
     "execution_count": 111,
     "metadata": {},
     "output_type": "execute_result"
    }
   ],
   "source": [
    "cleandata.dtypes"
   ]
  },
  {
   "cell_type": "code",
   "execution_count": 112,
   "id": "fatal-yugoslavia",
   "metadata": {},
   "outputs": [],
   "source": [
    "#cat_cols=[col for col in cleandata.columns if (cleandata[col].dtype==object)] \n",
    "#num_cols=[col for col in cleandata.columns if (cleandata[col].dtype!=object)]"
   ]
  },
  {
   "cell_type": "code",
   "execution_count": 113,
   "id": "cross-aurora",
   "metadata": {},
   "outputs": [
    {
     "data": {
      "text/html": [
       "<div>\n",
       "<style scoped>\n",
       "    .dataframe tbody tr th:only-of-type {\n",
       "        vertical-align: middle;\n",
       "    }\n",
       "\n",
       "    .dataframe tbody tr th {\n",
       "        vertical-align: top;\n",
       "    }\n",
       "\n",
       "    .dataframe thead th {\n",
       "        text-align: right;\n",
       "    }\n",
       "</style>\n",
       "<table border=\"1\" class=\"dataframe\">\n",
       "  <thead>\n",
       "    <tr style=\"text-align: right;\">\n",
       "      <th></th>\n",
       "      <th>bedrooms_10</th>\n",
       "      <th>bedrooms_11</th>\n",
       "      <th>bedrooms_2</th>\n",
       "      <th>bedrooms_3</th>\n",
       "      <th>bedrooms_4</th>\n",
       "      <th>bedrooms_5</th>\n",
       "      <th>bedrooms_6</th>\n",
       "      <th>bedrooms_7</th>\n",
       "      <th>bedrooms_8</th>\n",
       "      <th>bedrooms_9</th>\n",
       "      <th>...</th>\n",
       "      <th>renovated_1</th>\n",
       "      <th>renovated_2</th>\n",
       "      <th>renovated_3</th>\n",
       "      <th>built_1970</th>\n",
       "      <th>built_1990</th>\n",
       "      <th>built_2000</th>\n",
       "      <th>built_2015</th>\n",
       "      <th>area_2</th>\n",
       "      <th>area_3</th>\n",
       "      <th>area_4</th>\n",
       "    </tr>\n",
       "  </thead>\n",
       "  <tbody>\n",
       "    <tr>\n",
       "      <th>0</th>\n",
       "      <td>0</td>\n",
       "      <td>0</td>\n",
       "      <td>0</td>\n",
       "      <td>1</td>\n",
       "      <td>0</td>\n",
       "      <td>0</td>\n",
       "      <td>0</td>\n",
       "      <td>0</td>\n",
       "      <td>0</td>\n",
       "      <td>0</td>\n",
       "      <td>...</td>\n",
       "      <td>0</td>\n",
       "      <td>0</td>\n",
       "      <td>0</td>\n",
       "      <td>0</td>\n",
       "      <td>0</td>\n",
       "      <td>0</td>\n",
       "      <td>0</td>\n",
       "      <td>1</td>\n",
       "      <td>0</td>\n",
       "      <td>0</td>\n",
       "    </tr>\n",
       "    <tr>\n",
       "      <th>1</th>\n",
       "      <td>0</td>\n",
       "      <td>0</td>\n",
       "      <td>0</td>\n",
       "      <td>1</td>\n",
       "      <td>0</td>\n",
       "      <td>0</td>\n",
       "      <td>0</td>\n",
       "      <td>0</td>\n",
       "      <td>0</td>\n",
       "      <td>0</td>\n",
       "      <td>...</td>\n",
       "      <td>0</td>\n",
       "      <td>0</td>\n",
       "      <td>1</td>\n",
       "      <td>0</td>\n",
       "      <td>0</td>\n",
       "      <td>0</td>\n",
       "      <td>0</td>\n",
       "      <td>0</td>\n",
       "      <td>1</td>\n",
       "      <td>0</td>\n",
       "    </tr>\n",
       "    <tr>\n",
       "      <th>2</th>\n",
       "      <td>0</td>\n",
       "      <td>0</td>\n",
       "      <td>1</td>\n",
       "      <td>0</td>\n",
       "      <td>0</td>\n",
       "      <td>0</td>\n",
       "      <td>0</td>\n",
       "      <td>0</td>\n",
       "      <td>0</td>\n",
       "      <td>0</td>\n",
       "      <td>...</td>\n",
       "      <td>0</td>\n",
       "      <td>0</td>\n",
       "      <td>0</td>\n",
       "      <td>0</td>\n",
       "      <td>0</td>\n",
       "      <td>0</td>\n",
       "      <td>0</td>\n",
       "      <td>0</td>\n",
       "      <td>0</td>\n",
       "      <td>0</td>\n",
       "    </tr>\n",
       "    <tr>\n",
       "      <th>3</th>\n",
       "      <td>0</td>\n",
       "      <td>0</td>\n",
       "      <td>0</td>\n",
       "      <td>0</td>\n",
       "      <td>1</td>\n",
       "      <td>0</td>\n",
       "      <td>0</td>\n",
       "      <td>0</td>\n",
       "      <td>0</td>\n",
       "      <td>0</td>\n",
       "      <td>...</td>\n",
       "      <td>0</td>\n",
       "      <td>0</td>\n",
       "      <td>0</td>\n",
       "      <td>1</td>\n",
       "      <td>0</td>\n",
       "      <td>0</td>\n",
       "      <td>0</td>\n",
       "      <td>0</td>\n",
       "      <td>1</td>\n",
       "      <td>0</td>\n",
       "    </tr>\n",
       "    <tr>\n",
       "      <th>4</th>\n",
       "      <td>0</td>\n",
       "      <td>0</td>\n",
       "      <td>0</td>\n",
       "      <td>1</td>\n",
       "      <td>0</td>\n",
       "      <td>0</td>\n",
       "      <td>0</td>\n",
       "      <td>0</td>\n",
       "      <td>0</td>\n",
       "      <td>0</td>\n",
       "      <td>...</td>\n",
       "      <td>0</td>\n",
       "      <td>0</td>\n",
       "      <td>0</td>\n",
       "      <td>0</td>\n",
       "      <td>1</td>\n",
       "      <td>0</td>\n",
       "      <td>0</td>\n",
       "      <td>0</td>\n",
       "      <td>1</td>\n",
       "      <td>0</td>\n",
       "    </tr>\n",
       "  </tbody>\n",
       "</table>\n",
       "<p>5 rows × 72 columns</p>\n",
       "</div>"
      ],
      "text/plain": [
       "   bedrooms_10  bedrooms_11  bedrooms_2  bedrooms_3  bedrooms_4  bedrooms_5  \\\n",
       "0            0            0           0           1           0           0   \n",
       "1            0            0           0           1           0           0   \n",
       "2            0            0           1           0           0           0   \n",
       "3            0            0           0           0           1           0   \n",
       "4            0            0           0           1           0           0   \n",
       "\n",
       "   bedrooms_6  bedrooms_7  bedrooms_8  bedrooms_9  ...  renovated_1  \\\n",
       "0           0           0           0           0  ...            0   \n",
       "1           0           0           0           0  ...            0   \n",
       "2           0           0           0           0  ...            0   \n",
       "3           0           0           0           0  ...            0   \n",
       "4           0           0           0           0  ...            0   \n",
       "\n",
       "   renovated_2  renovated_3  built_1970  built_1990  built_2000  built_2015  \\\n",
       "0            0            0           0           0           0           0   \n",
       "1            0            1           0           0           0           0   \n",
       "2            0            0           0           0           0           0   \n",
       "3            0            0           1           0           0           0   \n",
       "4            0            0           0           1           0           0   \n",
       "\n",
       "   area_2  area_3  area_4  \n",
       "0       1       0       0  \n",
       "1       0       1       0  \n",
       "2       0       0       0  \n",
       "3       0       1       0  \n",
       "4       0       1       0  \n",
       "\n",
       "[5 rows x 72 columns]"
      ]
     },
     "execution_count": 113,
     "metadata": {},
     "output_type": "execute_result"
    }
   ],
   "source": [
    "one_hot_data=pd.get_dummies(cleandata[cat_cols], drop_first=True)   # one hot encoding categorical variables\n",
    "\n",
    "one_hot_data.head()"
   ]
  },
  {
   "cell_type": "code",
   "execution_count": 114,
   "id": "raising-subscription",
   "metadata": {},
   "outputs": [
    {
     "data": {
      "text/html": [
       "<div>\n",
       "<style scoped>\n",
       "    .dataframe tbody tr th:only-of-type {\n",
       "        vertical-align: middle;\n",
       "    }\n",
       "\n",
       "    .dataframe tbody tr th {\n",
       "        vertical-align: top;\n",
       "    }\n",
       "\n",
       "    .dataframe thead th {\n",
       "        text-align: right;\n",
       "    }\n",
       "</style>\n",
       "<table border=\"1\" class=\"dataframe\">\n",
       "  <thead>\n",
       "    <tr style=\"text-align: right;\">\n",
       "      <th></th>\n",
       "      <th>sqft_above</th>\n",
       "      <th>sqft_living15</th>\n",
       "      <th>sqft_lot15</th>\n",
       "      <th>bedrooms_10</th>\n",
       "      <th>bedrooms_11</th>\n",
       "      <th>bedrooms_2</th>\n",
       "      <th>bedrooms_3</th>\n",
       "      <th>bedrooms_4</th>\n",
       "      <th>bedrooms_5</th>\n",
       "      <th>bedrooms_6</th>\n",
       "      <th>...</th>\n",
       "      <th>renovated_1</th>\n",
       "      <th>renovated_2</th>\n",
       "      <th>renovated_3</th>\n",
       "      <th>built_1970</th>\n",
       "      <th>built_1990</th>\n",
       "      <th>built_2000</th>\n",
       "      <th>built_2015</th>\n",
       "      <th>area_2</th>\n",
       "      <th>area_3</th>\n",
       "      <th>area_4</th>\n",
       "    </tr>\n",
       "  </thead>\n",
       "  <tbody>\n",
       "    <tr>\n",
       "      <th>0</th>\n",
       "      <td>-0.753633</td>\n",
       "      <td>-1.035505</td>\n",
       "      <td>0.300162</td>\n",
       "      <td>0</td>\n",
       "      <td>0</td>\n",
       "      <td>0</td>\n",
       "      <td>1</td>\n",
       "      <td>0</td>\n",
       "      <td>0</td>\n",
       "      <td>0</td>\n",
       "      <td>...</td>\n",
       "      <td>0</td>\n",
       "      <td>0</td>\n",
       "      <td>0</td>\n",
       "      <td>0</td>\n",
       "      <td>0</td>\n",
       "      <td>0</td>\n",
       "      <td>0</td>\n",
       "      <td>1</td>\n",
       "      <td>0</td>\n",
       "      <td>0</td>\n",
       "    </tr>\n",
       "    <tr>\n",
       "      <th>1</th>\n",
       "      <td>0.672662</td>\n",
       "      <td>-0.326839</td>\n",
       "      <td>0.342058</td>\n",
       "      <td>0</td>\n",
       "      <td>0</td>\n",
       "      <td>0</td>\n",
       "      <td>1</td>\n",
       "      <td>0</td>\n",
       "      <td>0</td>\n",
       "      <td>0</td>\n",
       "      <td>...</td>\n",
       "      <td>0</td>\n",
       "      <td>0</td>\n",
       "      <td>1</td>\n",
       "      <td>0</td>\n",
       "      <td>0</td>\n",
       "      <td>0</td>\n",
       "      <td>0</td>\n",
       "      <td>0</td>\n",
       "      <td>1</td>\n",
       "      <td>0</td>\n",
       "    </tr>\n",
       "    <tr>\n",
       "      <th>2</th>\n",
       "      <td>-1.753047</td>\n",
       "      <td>1.126485</td>\n",
       "      <td>0.349544</td>\n",
       "      <td>0</td>\n",
       "      <td>0</td>\n",
       "      <td>1</td>\n",
       "      <td>0</td>\n",
       "      <td>0</td>\n",
       "      <td>0</td>\n",
       "      <td>0</td>\n",
       "      <td>...</td>\n",
       "      <td>0</td>\n",
       "      <td>0</td>\n",
       "      <td>0</td>\n",
       "      <td>0</td>\n",
       "      <td>0</td>\n",
       "      <td>0</td>\n",
       "      <td>0</td>\n",
       "      <td>0</td>\n",
       "      <td>0</td>\n",
       "      <td>0</td>\n",
       "    </tr>\n",
       "    <tr>\n",
       "      <th>3</th>\n",
       "      <td>-1.026909</td>\n",
       "      <td>-0.990262</td>\n",
       "      <td>0.283185</td>\n",
       "      <td>0</td>\n",
       "      <td>0</td>\n",
       "      <td>0</td>\n",
       "      <td>0</td>\n",
       "      <td>1</td>\n",
       "      <td>0</td>\n",
       "      <td>0</td>\n",
       "      <td>...</td>\n",
       "      <td>0</td>\n",
       "      <td>0</td>\n",
       "      <td>0</td>\n",
       "      <td>1</td>\n",
       "      <td>0</td>\n",
       "      <td>0</td>\n",
       "      <td>0</td>\n",
       "      <td>0</td>\n",
       "      <td>1</td>\n",
       "      <td>0</td>\n",
       "    </tr>\n",
       "    <tr>\n",
       "      <th>4</th>\n",
       "      <td>0.073468</td>\n",
       "      <td>-0.134270</td>\n",
       "      <td>0.339562</td>\n",
       "      <td>0</td>\n",
       "      <td>0</td>\n",
       "      <td>0</td>\n",
       "      <td>1</td>\n",
       "      <td>0</td>\n",
       "      <td>0</td>\n",
       "      <td>0</td>\n",
       "      <td>...</td>\n",
       "      <td>0</td>\n",
       "      <td>0</td>\n",
       "      <td>0</td>\n",
       "      <td>0</td>\n",
       "      <td>1</td>\n",
       "      <td>0</td>\n",
       "      <td>0</td>\n",
       "      <td>0</td>\n",
       "      <td>1</td>\n",
       "      <td>0</td>\n",
       "    </tr>\n",
       "  </tbody>\n",
       "</table>\n",
       "<p>5 rows × 75 columns</p>\n",
       "</div>"
      ],
      "text/plain": [
       "   sqft_above  sqft_living15  sqft_lot15  bedrooms_10  bedrooms_11  \\\n",
       "0   -0.753633      -1.035505    0.300162            0            0   \n",
       "1    0.672662      -0.326839    0.342058            0            0   \n",
       "2   -1.753047       1.126485    0.349544            0            0   \n",
       "3   -1.026909      -0.990262    0.283185            0            0   \n",
       "4    0.073468      -0.134270    0.339562            0            0   \n",
       "\n",
       "   bedrooms_2  bedrooms_3  bedrooms_4  bedrooms_5  bedrooms_6  ...  \\\n",
       "0           0           1           0           0           0  ...   \n",
       "1           0           1           0           0           0  ...   \n",
       "2           1           0           0           0           0  ...   \n",
       "3           0           0           1           0           0  ...   \n",
       "4           0           1           0           0           0  ...   \n",
       "\n",
       "   renovated_1  renovated_2  renovated_3  built_1970  built_1990  built_2000  \\\n",
       "0            0            0            0           0           0           0   \n",
       "1            0            0            1           0           0           0   \n",
       "2            0            0            0           0           0           0   \n",
       "3            0            0            0           1           0           0   \n",
       "4            0            0            0           0           1           0   \n",
       "\n",
       "   built_2015  area_2  area_3  area_4  \n",
       "0           0       1       0       0  \n",
       "1           0       0       1       0  \n",
       "2           0       0       0       0  \n",
       "3           0       0       1       0  \n",
       "4           0       0       1       0  \n",
       "\n",
       "[5 rows x 75 columns]"
      ]
     },
     "execution_count": 114,
     "metadata": {},
     "output_type": "execute_result"
    }
   ],
   "source": [
    "hotdata =pd.concat([cleandata[num_cols], one_hot_data], axis=1)   # concat dataframes\n",
    "hotdata.head()"
   ]
  },
  {
   "cell_type": "code",
   "execution_count": 115,
   "id": "ultimate-variety",
   "metadata": {},
   "outputs": [],
   "source": [
    "# first, split X-y (learning-target data)\n",
    "X = hotdata\n",
    "y = cleandata['price']"
   ]
  },
  {
   "cell_type": "code",
   "execution_count": 116,
   "id": "collectible-importance",
   "metadata": {},
   "outputs": [
    {
     "name": "stdout",
     "output_type": "stream",
     "text": [
      "(21596, 75)\n",
      "(21596,)\n"
     ]
    }
   ],
   "source": [
    "# checking shape\n",
    "print(X.shape)\n",
    "print(y.shape)"
   ]
  },
  {
   "cell_type": "markdown",
   "id": "spiritual-madness",
   "metadata": {},
   "source": [
    "## Third Iteration"
   ]
  },
  {
   "cell_type": "code",
   "execution_count": 117,
   "id": "familiar-shaft",
   "metadata": {},
   "outputs": [],
   "source": [
    "# train_test_split\n",
    "from sklearn.model_selection import train_test_split as tts\n",
    "\n",
    "# train-test-split (4 sets)\n",
    "X_train, X_test, y_train, y_test=tts(X, y, test_size=0.2, random_state=42)  # random state fixed sample"
   ]
  },
  {
   "cell_type": "code",
   "execution_count": 118,
   "id": "former-proportion",
   "metadata": {},
   "outputs": [],
   "source": [
    "from sklearn.linear_model import LinearRegression as LinReg\n",
    "\n",
    "# create an (untrained) model \"instance\"\n",
    "linreg=LinReg()    \n",
    "\n",
    "# train the model\n",
    "linreg.fit(X_train, y_train)\n",
    "\n",
    "# predict target data from test features , that the model has never seen\n",
    "y_pred_linreg=linreg.predict(X_test)\n"
   ]
  },
  {
   "cell_type": "code",
   "execution_count": 119,
   "id": "enabling-rebate",
   "metadata": {},
   "outputs": [],
   "source": [
    "models=[linreg,\n",
    "        # add more models here\n",
    "       ]\n",
    "model_names=['linreg',\n",
    "             # add more model strings here\n",
    "            ]\n",
    "preds=[y_pred_linreg,\n",
    "       # add more predicted labels here\n",
    "      ]"
   ]
  },
  {
   "cell_type": "code",
   "execution_count": 120,
   "id": "technical-hammer",
   "metadata": {},
   "outputs": [
    {
     "name": "stdout",
     "output_type": "stream",
     "text": [
      "Model: linreg, train R2: 0.7755370008945633 -- test R2: 0.732456679299226\n"
     ]
    }
   ],
   "source": [
    "# this for loop is actually not necessary when only 1 model is used.\n",
    "for i in range(len(models)):\n",
    "\n",
    "    train_score=models[i].score(X_train, y_train) #R2\n",
    "    test_score=models[i].score(X_test, y_test)\n",
    "\n",
    "    print ('Model: {}, train R2: {} -- test R2: {}'.format(model_names[i], train_score, test_score))"
   ]
  },
  {
   "cell_type": "code",
   "execution_count": 121,
   "id": "olympic-venice",
   "metadata": {},
   "outputs": [
    {
     "data": {
      "image/png": "[encoded data removed]",
      "text/plain": [
       "<Figure size 864x576 with 1 Axes>"
      ]
     },
     "metadata": {
      "needs_background": "light"
     },
     "output_type": "display_data"
    }
   ],
   "source": [
    "# generating value pairs for an ideal model\n",
    "# which predicts the exact same y-value for a given test-y-value\n",
    "line_x = line_y = np.linspace(min(y_test), max(y_test), num=len(y_test))\n",
    "\n",
    "fig, ax = plt.subplots(figsize=(12,8))\n",
    "plt.plot(y_test, y_pred_linreg, ms=5, marker=\".\", ls='')\n",
    "\n",
    "# plot the ideal model together with our dots\n",
    "plt.plot(line_x, line_y, ms=0.1, marker=\".\", ls='-', c='r', label='ideal model')\n",
    "\n",
    "# show legend\n",
    "plt.legend();\n",
    "\n",
    "plt.xlabel('y_test');\n",
    "plt.ylabel('y_predicted');\n"
   ]
  },
  {
   "cell_type": "code",
   "execution_count": 122,
   "id": "posted-caribbean",
   "metadata": {},
   "outputs": [
    {
     "data": {
      "image/png": "[encoded data removed]",
      "text/plain": [
       "<Figure size 864x576 with 1 Axes>"
      ]
     },
     "metadata": {
      "needs_background": "light"
     },
     "output_type": "display_data"
    }
   ],
   "source": [
    "fig, ax = plt.subplots(figsize=(12,8))\n",
    "plt.hist(y_test-y_pred_linreg, bins = 100);"
   ]
  },
  {
   "cell_type": "code",
   "execution_count": 123,
   "id": "preceding-floor",
   "metadata": {},
   "outputs": [
    {
     "name": "stdout",
     "output_type": "stream",
     "text": [
      "Model: linreg, train MSE: 30513822595.254704 -- test MSE: 35051656350.46798\n"
     ]
    }
   ],
   "source": [
    "from sklearn.metrics import mean_squared_error as mse\n",
    "\n",
    "for i in range(len(models)):\n",
    "\n",
    "    train_mse=mse(models[i].predict(X_train), y_train) #MSE\n",
    "    test_mse=mse(preds[i], y_test)\n",
    "\n",
    "    print ('Model: {}, train MSE: {} -- test MSE: {}'.format(model_names[i], train_mse, test_mse))"
   ]
  },
  {
   "cell_type": "code",
   "execution_count": 124,
   "id": "unlikely-intensity",
   "metadata": {},
   "outputs": [
    {
     "name": "stdout",
     "output_type": "stream",
     "text": [
      "Model: linreg, train RMSE: 174682.06145810938 -- test RMSE: 187220.87584045745\n"
     ]
    }
   ],
   "source": [
    "for i in range(len(models)):\n",
    "\n",
    "    train_rmse=mse(models[i].predict(X_train), y_train)**0.5 #RMSE\n",
    "    test_rmse=mse(preds[i], y_test)**0.5\n",
    "\n",
    "    print ('Model: {}, train RMSE: {} -- test RMSE: {}'.format(model_names[i], train_rmse, test_rmse))"
   ]
  },
  {
   "cell_type": "code",
   "execution_count": 125,
   "id": "numeric-worcester",
   "metadata": {},
   "outputs": [
    {
     "name": "stdout",
     "output_type": "stream",
     "text": [
      "Model: linreg, train MAE: 112022.88338452287 -- test MAE: 113325.05564077166\n"
     ]
    }
   ],
   "source": [
    "from sklearn.metrics import mean_absolute_error as mae\n",
    "for i in range(len(models)):\n",
    "    train_mae=mae(models[i].predict(X_train), y_train) #MAE\n",
    "    test_mae=mae(preds[i], y_test)\n",
    "\n",
    "    print ('Model: {}, train MAE: {} -- test MAE: {}'.format(model_names[i], train_mae, test_mae))"
   ]
  },
  {
   "cell_type": "markdown",
   "id": "fitted-friday",
   "metadata": {},
   "source": [
    "# Outlook"
   ]
  },
  {
   "cell_type": "markdown",
   "id": "provincial-emerald",
   "metadata": {},
   "source": [
    "#### A next step to improve the model: Dealing with outliers"
   ]
  },
  {
   "cell_type": "code",
   "execution_count": 127,
   "id": "characteristic-error",
   "metadata": {},
   "outputs": [],
   "source": [
    "# e.g. 3*IQR in a column\n",
    "q1=np.percentile(cleandata['sqft_lot15'], 25)   # percentile 25\n",
    "q3=np.percentile(cleandata['sqft_lot15'], 75)   # percentile 75\n",
    "\n",
    "iqr=q3-q1  # IQR\n",
    "\n",
    "upper=q3+3*iqr   # upper boundary\n",
    "lower=q1-3*iqr   # lower boundary"
   ]
  },
  {
   "cell_type": "code",
   "execution_count": 128,
   "id": "flexible-cleanup",
   "metadata": {},
   "outputs": [
    {
     "data": {
      "text/plain": [
       "2"
      ]
     },
     "execution_count": 128,
     "metadata": {},
     "output_type": "execute_result"
    }
   ],
   "source": [
    "# how many rows would be outliers in that sense (below the threshold)?\n",
    "len(cleandata[cleandata['sqft_lot15'] < lower])"
   ]
  },
  {
   "cell_type": "code",
   "execution_count": 129,
   "id": "silent-rider",
   "metadata": {},
   "outputs": [
    {
     "data": {
      "text/plain": [
       "440"
      ]
     },
     "execution_count": 129,
     "metadata": {},
     "output_type": "execute_result"
    }
   ],
   "source": [
    "# how many rows would be outliers in that sense (above the threshold)?\n",
    "len(cleandata[cleandata['sqft_lot15'] > upper])"
   ]
  }
 ],
 "metadata": {
  "kernelspec": {
   "display_name": "Python 3",
   "language": "python",
   "name": "python3"
  },
  "language_info": {
   "codemirror_mode": {
    "name": "ipython",
    "version": 3
   },
   "file_extension": ".py",
   "mimetype": "text/x-python",
   "name": "python",
   "nbconvert_exporter": "python",
   "pygments_lexer": "ipython3",
   "version": "3.8.8"
  }
 },
 "nbformat": 4,
 "nbformat_minor": 5
}
