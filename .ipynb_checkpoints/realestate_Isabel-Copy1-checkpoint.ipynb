{
 "cells": [
  {
   "cell_type": "code",
   "execution_count": 1,
   "id": "aging-economics",
   "metadata": {},
   "outputs": [],
   "source": [
    "import pandas as pd\n",
    "import numpy as np\n",
    "import re\n",
    "import datetime\n",
    "import matplotlib.pyplot as plt\n",
    "import seaborn as sns"
   ]
  },
  {
   "cell_type": "markdown",
   "id": "greater-active",
   "metadata": {},
   "source": [
    "# 1. EDA"
   ]
  },
  {
   "cell_type": "markdown",
   "id": "theoretical-spending",
   "metadata": {},
   "source": [
    "## Understanding the data and taking notes for desicions"
   ]
  },
  {
   "cell_type": "code",
   "execution_count": 2,
   "id": "incorporate-wagner",
   "metadata": {},
   "outputs": [
    {
     "data": {
      "text/html": [
       "<div>\n",
       "<style scoped>\n",
       "    .dataframe tbody tr th:only-of-type {\n",
       "        vertical-align: middle;\n",
       "    }\n",
       "\n",
       "    .dataframe tbody tr th {\n",
       "        vertical-align: top;\n",
       "    }\n",
       "\n",
       "    .dataframe thead th {\n",
       "        text-align: right;\n",
       "    }\n",
       "</style>\n",
       "<table border=\"1\" class=\"dataframe\">\n",
       "  <thead>\n",
       "    <tr style=\"text-align: right;\">\n",
       "      <th></th>\n",
       "      <th>id</th>\n",
       "      <th>date</th>\n",
       "      <th>bedrooms</th>\n",
       "      <th>bathroom</th>\n",
       "      <th>sqft_living</th>\n",
       "      <th>sqft_lot</th>\n",
       "      <th>floors</th>\n",
       "      <th>waterfront</th>\n",
       "      <th>view</th>\n",
       "      <th>condition</th>\n",
       "      <th>...</th>\n",
       "      <th>sqft_above</th>\n",
       "      <th>sqft_basement</th>\n",
       "      <th>yr_built</th>\n",
       "      <th>yr_renovated</th>\n",
       "      <th>zipcode</th>\n",
       "      <th>lat</th>\n",
       "      <th>long</th>\n",
       "      <th>sqft_living15</th>\n",
       "      <th>sqft_lot15</th>\n",
       "      <th>price</th>\n",
       "    </tr>\n",
       "  </thead>\n",
       "  <tbody>\n",
       "    <tr>\n",
       "      <th>0</th>\n",
       "      <td>7129300520</td>\n",
       "      <td>10/13/14</td>\n",
       "      <td>3</td>\n",
       "      <td>1.00</td>\n",
       "      <td>1180</td>\n",
       "      <td>5650</td>\n",
       "      <td>1.0</td>\n",
       "      <td>0</td>\n",
       "      <td>0</td>\n",
       "      <td>3</td>\n",
       "      <td>...</td>\n",
       "      <td>1180</td>\n",
       "      <td>0</td>\n",
       "      <td>1955</td>\n",
       "      <td>0</td>\n",
       "      <td>98178</td>\n",
       "      <td>47.5112</td>\n",
       "      <td>-122.257</td>\n",
       "      <td>1340</td>\n",
       "      <td>5650</td>\n",
       "      <td>221900</td>\n",
       "    </tr>\n",
       "    <tr>\n",
       "      <th>1</th>\n",
       "      <td>6414100192</td>\n",
       "      <td>12/9/14</td>\n",
       "      <td>3</td>\n",
       "      <td>2.25</td>\n",
       "      <td>2570</td>\n",
       "      <td>7242</td>\n",
       "      <td>2.0</td>\n",
       "      <td>0</td>\n",
       "      <td>0</td>\n",
       "      <td>3</td>\n",
       "      <td>...</td>\n",
       "      <td>2170</td>\n",
       "      <td>400</td>\n",
       "      <td>1951</td>\n",
       "      <td>1991</td>\n",
       "      <td>98125</td>\n",
       "      <td>47.7210</td>\n",
       "      <td>-122.319</td>\n",
       "      <td>1690</td>\n",
       "      <td>7639</td>\n",
       "      <td>538000</td>\n",
       "    </tr>\n",
       "    <tr>\n",
       "      <th>2</th>\n",
       "      <td>5631500400</td>\n",
       "      <td>2/25/15</td>\n",
       "      <td>2</td>\n",
       "      <td>1.00</td>\n",
       "      <td>770</td>\n",
       "      <td>10000</td>\n",
       "      <td>1.0</td>\n",
       "      <td>0</td>\n",
       "      <td>0</td>\n",
       "      <td>3</td>\n",
       "      <td>...</td>\n",
       "      <td>770</td>\n",
       "      <td>0</td>\n",
       "      <td>1933</td>\n",
       "      <td>0</td>\n",
       "      <td>98028</td>\n",
       "      <td>47.7379</td>\n",
       "      <td>-122.233</td>\n",
       "      <td>2720</td>\n",
       "      <td>8062</td>\n",
       "      <td>180000</td>\n",
       "    </tr>\n",
       "    <tr>\n",
       "      <th>3</th>\n",
       "      <td>2487200875</td>\n",
       "      <td>12/9/14</td>\n",
       "      <td>4</td>\n",
       "      <td>3.00</td>\n",
       "      <td>1960</td>\n",
       "      <td>5000</td>\n",
       "      <td>1.0</td>\n",
       "      <td>0</td>\n",
       "      <td>0</td>\n",
       "      <td>5</td>\n",
       "      <td>...</td>\n",
       "      <td>1050</td>\n",
       "      <td>910</td>\n",
       "      <td>1965</td>\n",
       "      <td>0</td>\n",
       "      <td>98136</td>\n",
       "      <td>47.5208</td>\n",
       "      <td>-122.393</td>\n",
       "      <td>1360</td>\n",
       "      <td>5000</td>\n",
       "      <td>604000</td>\n",
       "    </tr>\n",
       "    <tr>\n",
       "      <th>4</th>\n",
       "      <td>1954400510</td>\n",
       "      <td>2/18/15</td>\n",
       "      <td>3</td>\n",
       "      <td>2.00</td>\n",
       "      <td>1680</td>\n",
       "      <td>8080</td>\n",
       "      <td>1.0</td>\n",
       "      <td>0</td>\n",
       "      <td>0</td>\n",
       "      <td>3</td>\n",
       "      <td>...</td>\n",
       "      <td>1680</td>\n",
       "      <td>0</td>\n",
       "      <td>1987</td>\n",
       "      <td>0</td>\n",
       "      <td>98074</td>\n",
       "      <td>47.6168</td>\n",
       "      <td>-122.045</td>\n",
       "      <td>1800</td>\n",
       "      <td>7503</td>\n",
       "      <td>510000</td>\n",
       "    </tr>\n",
       "  </tbody>\n",
       "</table>\n",
       "<p>5 rows × 21 columns</p>\n",
       "</div>"
      ],
      "text/plain": [
       "           id      date  bedrooms  bathroom  sqft_living  sqft_lot  floors  \\\n",
       "0  7129300520  10/13/14         3      1.00         1180      5650     1.0   \n",
       "1  6414100192   12/9/14         3      2.25         2570      7242     2.0   \n",
       "2  5631500400   2/25/15         2      1.00          770     10000     1.0   \n",
       "3  2487200875   12/9/14         4      3.00         1960      5000     1.0   \n",
       "4  1954400510   2/18/15         3      2.00         1680      8080     1.0   \n",
       "\n",
       "   waterfront  view  condition  ...  sqft_above  sqft_basement  yr_built  \\\n",
       "0           0     0          3  ...        1180              0      1955   \n",
       "1           0     0          3  ...        2170            400      1951   \n",
       "2           0     0          3  ...         770              0      1933   \n",
       "3           0     0          5  ...        1050            910      1965   \n",
       "4           0     0          3  ...        1680              0      1987   \n",
       "\n",
       "   yr_renovated  zipcode      lat     long  sqft_living15  sqft_lot15   price  \n",
       "0             0    98178  47.5112 -122.257           1340        5650  221900  \n",
       "1          1991    98125  47.7210 -122.319           1690        7639  538000  \n",
       "2             0    98028  47.7379 -122.233           2720        8062  180000  \n",
       "3             0    98136  47.5208 -122.393           1360        5000  604000  \n",
       "4             0    98074  47.6168 -122.045           1800        7503  510000  \n",
       "\n",
       "[5 rows x 21 columns]"
      ]
     },
     "execution_count": 2,
     "metadata": {},
     "output_type": "execute_result"
    }
   ],
   "source": [
    "data = pd.read_csv('regression_data.csv',index_col=None, names= ['id', 'date', 'bedrooms','bathroom','sqft_living', 'sqft_lot','floors', 'waterfront','view', 'condition','grade','sqft_above','sqft_basement', 'yr_built','yr_renovated','zipcode','lat','long','sqft_living15','sqft_lot15','price'])\n",
    "data.head()"
   ]
  },
  {
   "cell_type": "code",
   "execution_count": 3,
   "id": "conditional-adoption",
   "metadata": {},
   "outputs": [
    {
     "data": {
      "text/plain": [
       "array([   0, 1991, 2002, 2010, 1999, 1992, 2013, 1994, 1978, 2005, 2008,\n",
       "       2003, 1984, 1954, 2014, 2011, 1974, 1983, 1945, 1990, 1988, 1957,\n",
       "       1977, 1981, 1995, 2000, 1998, 1970, 1989, 2004, 1986, 2009, 2007,\n",
       "       1987, 1973, 2006, 1985, 2001, 1980, 1971, 1979, 1997, 1950, 1969,\n",
       "       1948, 2015, 1968, 2012, 1963, 1951, 1993, 1962, 1996, 1972, 1953,\n",
       "       1955, 1982, 1956, 1940, 1976, 1946, 1975, 1958, 1964, 1959, 1960,\n",
       "       1967, 1965, 1934, 1944])"
      ]
     },
     "execution_count": 3,
     "metadata": {},
     "output_type": "execute_result"
    }
   ],
   "source": [
    "data['yr_renovated'].unique()"
   ]
  },
  {
   "cell_type": "code",
   "execution_count": 4,
   "id": "increasing-latitude",
   "metadata": {},
   "outputs": [
    {
     "data": {
      "text/plain": [
       "0       20683\n",
       "2014       91\n",
       "2013       37\n",
       "2003       36\n",
       "2007       35\n",
       "        ...  \n",
       "1948        1\n",
       "1954        1\n",
       "1951        1\n",
       "1944        1\n",
       "1959        1\n",
       "Name: yr_renovated, Length: 70, dtype: int64"
      ]
     },
     "execution_count": 4,
     "metadata": {},
     "output_type": "execute_result"
    }
   ],
   "source": [
    "data['yr_renovated'].value_counts()"
   ]
  },
  {
   "cell_type": "markdown",
   "id": "corresponding-physiology",
   "metadata": {},
   "source": [
    "* Note: lots of unique values, also 0 for not renovated houses --> new column: renovated after 1990 True or False "
   ]
  },
  {
   "cell_type": "code",
   "execution_count": 5,
   "id": "breathing-place",
   "metadata": {},
   "outputs": [
    {
     "data": {
      "text/plain": [
       "id                 int64\n",
       "date              object\n",
       "bedrooms           int64\n",
       "bathroom         float64\n",
       "sqft_living        int64\n",
       "sqft_lot           int64\n",
       "floors           float64\n",
       "waterfront         int64\n",
       "view               int64\n",
       "condition          int64\n",
       "grade              int64\n",
       "sqft_above         int64\n",
       "sqft_basement      int64\n",
       "yr_built           int64\n",
       "yr_renovated       int64\n",
       "zipcode            int64\n",
       "lat              float64\n",
       "long             float64\n",
       "sqft_living15      int64\n",
       "sqft_lot15         int64\n",
       "price              int64\n",
       "dtype: object"
      ]
     },
     "execution_count": 5,
     "metadata": {},
     "output_type": "execute_result"
    }
   ],
   "source": [
    "data.dtypes"
   ]
  },
  {
   "cell_type": "markdown",
   "id": "intimate-think",
   "metadata": {},
   "source": [
    "* change the date in datetime format - do we need the selling date?"
   ]
  },
  {
   "cell_type": "code",
   "execution_count": 6,
   "id": "honey-reunion",
   "metadata": {},
   "outputs": [
    {
     "name": "stdout",
     "output_type": "stream",
     "text": [
      "<class 'pandas.core.frame.DataFrame'>\n",
      "RangeIndex: 21597 entries, 0 to 21596\n",
      "Data columns (total 21 columns):\n",
      " #   Column         Non-Null Count  Dtype  \n",
      "---  ------         --------------  -----  \n",
      " 0   id             21597 non-null  int64  \n",
      " 1   date           21597 non-null  object \n",
      " 2   bedrooms       21597 non-null  int64  \n",
      " 3   bathroom       21597 non-null  float64\n",
      " 4   sqft_living    21597 non-null  int64  \n",
      " 5   sqft_lot       21597 non-null  int64  \n",
      " 6   floors         21597 non-null  float64\n",
      " 7   waterfront     21597 non-null  int64  \n",
      " 8   view           21597 non-null  int64  \n",
      " 9   condition      21597 non-null  int64  \n",
      " 10  grade          21597 non-null  int64  \n",
      " 11  sqft_above     21597 non-null  int64  \n",
      " 12  sqft_basement  21597 non-null  int64  \n",
      " 13  yr_built       21597 non-null  int64  \n",
      " 14  yr_renovated   21597 non-null  int64  \n",
      " 15  zipcode        21597 non-null  int64  \n",
      " 16  lat            21597 non-null  float64\n",
      " 17  long           21597 non-null  float64\n",
      " 18  sqft_living15  21597 non-null  int64  \n",
      " 19  sqft_lot15     21597 non-null  int64  \n",
      " 20  price          21597 non-null  int64  \n",
      "dtypes: float64(4), int64(16), object(1)\n",
      "memory usage: 3.5+ MB\n"
     ]
    }
   ],
   "source": [
    "data.info()"
   ]
  },
  {
   "cell_type": "markdown",
   "id": "straight-identifier",
   "metadata": {},
   "source": [
    "* we do not have null values"
   ]
  },
  {
   "cell_type": "code",
   "execution_count": 7,
   "id": "bulgarian-stand",
   "metadata": {},
   "outputs": [
    {
     "data": {
      "text/html": [
       "<div>\n",
       "<style scoped>\n",
       "    .dataframe tbody tr th:only-of-type {\n",
       "        vertical-align: middle;\n",
       "    }\n",
       "\n",
       "    .dataframe tbody tr th {\n",
       "        vertical-align: top;\n",
       "    }\n",
       "\n",
       "    .dataframe thead th {\n",
       "        text-align: right;\n",
       "    }\n",
       "</style>\n",
       "<table border=\"1\" class=\"dataframe\">\n",
       "  <thead>\n",
       "    <tr style=\"text-align: right;\">\n",
       "      <th></th>\n",
       "      <th>id</th>\n",
       "      <th>bedrooms</th>\n",
       "      <th>bathroom</th>\n",
       "      <th>sqft_living</th>\n",
       "      <th>sqft_lot</th>\n",
       "      <th>floors</th>\n",
       "      <th>waterfront</th>\n",
       "      <th>view</th>\n",
       "      <th>condition</th>\n",
       "      <th>grade</th>\n",
       "      <th>sqft_above</th>\n",
       "      <th>sqft_basement</th>\n",
       "      <th>yr_built</th>\n",
       "      <th>yr_renovated</th>\n",
       "      <th>zipcode</th>\n",
       "      <th>lat</th>\n",
       "      <th>long</th>\n",
       "      <th>sqft_living15</th>\n",
       "      <th>sqft_lot15</th>\n",
       "      <th>price</th>\n",
       "    </tr>\n",
       "  </thead>\n",
       "  <tbody>\n",
       "    <tr>\n",
       "      <th>count</th>\n",
       "      <td>2.159700e+04</td>\n",
       "      <td>21597.000000</td>\n",
       "      <td>21597.000000</td>\n",
       "      <td>21597.000000</td>\n",
       "      <td>2.159700e+04</td>\n",
       "      <td>21597.000000</td>\n",
       "      <td>21597.000000</td>\n",
       "      <td>21597.000000</td>\n",
       "      <td>21597.000000</td>\n",
       "      <td>21597.000000</td>\n",
       "      <td>21597.000000</td>\n",
       "      <td>21597.000000</td>\n",
       "      <td>21597.000000</td>\n",
       "      <td>21597.000000</td>\n",
       "      <td>21597.000000</td>\n",
       "      <td>21597.000000</td>\n",
       "      <td>21597.000000</td>\n",
       "      <td>21597.000000</td>\n",
       "      <td>21597.000000</td>\n",
       "      <td>2.159700e+04</td>\n",
       "    </tr>\n",
       "    <tr>\n",
       "      <th>mean</th>\n",
       "      <td>4.580474e+09</td>\n",
       "      <td>3.373200</td>\n",
       "      <td>2.115826</td>\n",
       "      <td>2080.321850</td>\n",
       "      <td>1.509941e+04</td>\n",
       "      <td>1.494096</td>\n",
       "      <td>0.007547</td>\n",
       "      <td>0.234292</td>\n",
       "      <td>3.409825</td>\n",
       "      <td>7.657915</td>\n",
       "      <td>1788.596842</td>\n",
       "      <td>291.725008</td>\n",
       "      <td>1970.999676</td>\n",
       "      <td>84.464787</td>\n",
       "      <td>98077.951845</td>\n",
       "      <td>47.560093</td>\n",
       "      <td>-122.213982</td>\n",
       "      <td>1986.620318</td>\n",
       "      <td>12758.283512</td>\n",
       "      <td>5.402966e+05</td>\n",
       "    </tr>\n",
       "    <tr>\n",
       "      <th>std</th>\n",
       "      <td>2.876736e+09</td>\n",
       "      <td>0.926299</td>\n",
       "      <td>0.768984</td>\n",
       "      <td>918.106125</td>\n",
       "      <td>4.141264e+04</td>\n",
       "      <td>0.539683</td>\n",
       "      <td>0.086549</td>\n",
       "      <td>0.766390</td>\n",
       "      <td>0.650546</td>\n",
       "      <td>1.173200</td>\n",
       "      <td>827.759761</td>\n",
       "      <td>442.667800</td>\n",
       "      <td>29.375234</td>\n",
       "      <td>401.821438</td>\n",
       "      <td>53.513072</td>\n",
       "      <td>0.138552</td>\n",
       "      <td>0.140724</td>\n",
       "      <td>685.230472</td>\n",
       "      <td>27274.441950</td>\n",
       "      <td>3.673681e+05</td>\n",
       "    </tr>\n",
       "    <tr>\n",
       "      <th>min</th>\n",
       "      <td>1.000102e+06</td>\n",
       "      <td>1.000000</td>\n",
       "      <td>0.500000</td>\n",
       "      <td>370.000000</td>\n",
       "      <td>5.200000e+02</td>\n",
       "      <td>1.000000</td>\n",
       "      <td>0.000000</td>\n",
       "      <td>0.000000</td>\n",
       "      <td>1.000000</td>\n",
       "      <td>3.000000</td>\n",
       "      <td>370.000000</td>\n",
       "      <td>0.000000</td>\n",
       "      <td>1900.000000</td>\n",
       "      <td>0.000000</td>\n",
       "      <td>98001.000000</td>\n",
       "      <td>47.155900</td>\n",
       "      <td>-122.519000</td>\n",
       "      <td>399.000000</td>\n",
       "      <td>651.000000</td>\n",
       "      <td>7.800000e+04</td>\n",
       "    </tr>\n",
       "    <tr>\n",
       "      <th>25%</th>\n",
       "      <td>2.123049e+09</td>\n",
       "      <td>3.000000</td>\n",
       "      <td>1.750000</td>\n",
       "      <td>1430.000000</td>\n",
       "      <td>5.040000e+03</td>\n",
       "      <td>1.000000</td>\n",
       "      <td>0.000000</td>\n",
       "      <td>0.000000</td>\n",
       "      <td>3.000000</td>\n",
       "      <td>7.000000</td>\n",
       "      <td>1190.000000</td>\n",
       "      <td>0.000000</td>\n",
       "      <td>1951.000000</td>\n",
       "      <td>0.000000</td>\n",
       "      <td>98033.000000</td>\n",
       "      <td>47.471100</td>\n",
       "      <td>-122.328000</td>\n",
       "      <td>1490.000000</td>\n",
       "      <td>5100.000000</td>\n",
       "      <td>3.220000e+05</td>\n",
       "    </tr>\n",
       "    <tr>\n",
       "      <th>50%</th>\n",
       "      <td>3.904930e+09</td>\n",
       "      <td>3.000000</td>\n",
       "      <td>2.250000</td>\n",
       "      <td>1910.000000</td>\n",
       "      <td>7.618000e+03</td>\n",
       "      <td>1.500000</td>\n",
       "      <td>0.000000</td>\n",
       "      <td>0.000000</td>\n",
       "      <td>3.000000</td>\n",
       "      <td>7.000000</td>\n",
       "      <td>1560.000000</td>\n",
       "      <td>0.000000</td>\n",
       "      <td>1975.000000</td>\n",
       "      <td>0.000000</td>\n",
       "      <td>98065.000000</td>\n",
       "      <td>47.571800</td>\n",
       "      <td>-122.231000</td>\n",
       "      <td>1840.000000</td>\n",
       "      <td>7620.000000</td>\n",
       "      <td>4.500000e+05</td>\n",
       "    </tr>\n",
       "    <tr>\n",
       "      <th>75%</th>\n",
       "      <td>7.308900e+09</td>\n",
       "      <td>4.000000</td>\n",
       "      <td>2.500000</td>\n",
       "      <td>2550.000000</td>\n",
       "      <td>1.068500e+04</td>\n",
       "      <td>2.000000</td>\n",
       "      <td>0.000000</td>\n",
       "      <td>0.000000</td>\n",
       "      <td>4.000000</td>\n",
       "      <td>8.000000</td>\n",
       "      <td>2210.000000</td>\n",
       "      <td>560.000000</td>\n",
       "      <td>1997.000000</td>\n",
       "      <td>0.000000</td>\n",
       "      <td>98118.000000</td>\n",
       "      <td>47.678000</td>\n",
       "      <td>-122.125000</td>\n",
       "      <td>2360.000000</td>\n",
       "      <td>10083.000000</td>\n",
       "      <td>6.450000e+05</td>\n",
       "    </tr>\n",
       "    <tr>\n",
       "      <th>max</th>\n",
       "      <td>9.900000e+09</td>\n",
       "      <td>33.000000</td>\n",
       "      <td>8.000000</td>\n",
       "      <td>13540.000000</td>\n",
       "      <td>1.651359e+06</td>\n",
       "      <td>3.500000</td>\n",
       "      <td>1.000000</td>\n",
       "      <td>4.000000</td>\n",
       "      <td>5.000000</td>\n",
       "      <td>13.000000</td>\n",
       "      <td>9410.000000</td>\n",
       "      <td>4820.000000</td>\n",
       "      <td>2015.000000</td>\n",
       "      <td>2015.000000</td>\n",
       "      <td>98199.000000</td>\n",
       "      <td>47.777600</td>\n",
       "      <td>-121.315000</td>\n",
       "      <td>6210.000000</td>\n",
       "      <td>871200.000000</td>\n",
       "      <td>7.700000e+06</td>\n",
       "    </tr>\n",
       "  </tbody>\n",
       "</table>\n",
       "</div>"
      ],
      "text/plain": [
       "                 id      bedrooms      bathroom   sqft_living      sqft_lot  \\\n",
       "count  2.159700e+04  21597.000000  21597.000000  21597.000000  2.159700e+04   \n",
       "mean   4.580474e+09      3.373200      2.115826   2080.321850  1.509941e+04   \n",
       "std    2.876736e+09      0.926299      0.768984    918.106125  4.141264e+04   \n",
       "min    1.000102e+06      1.000000      0.500000    370.000000  5.200000e+02   \n",
       "25%    2.123049e+09      3.000000      1.750000   1430.000000  5.040000e+03   \n",
       "50%    3.904930e+09      3.000000      2.250000   1910.000000  7.618000e+03   \n",
       "75%    7.308900e+09      4.000000      2.500000   2550.000000  1.068500e+04   \n",
       "max    9.900000e+09     33.000000      8.000000  13540.000000  1.651359e+06   \n",
       "\n",
       "             floors    waterfront          view     condition         grade  \\\n",
       "count  21597.000000  21597.000000  21597.000000  21597.000000  21597.000000   \n",
       "mean       1.494096      0.007547      0.234292      3.409825      7.657915   \n",
       "std        0.539683      0.086549      0.766390      0.650546      1.173200   \n",
       "min        1.000000      0.000000      0.000000      1.000000      3.000000   \n",
       "25%        1.000000      0.000000      0.000000      3.000000      7.000000   \n",
       "50%        1.500000      0.000000      0.000000      3.000000      7.000000   \n",
       "75%        2.000000      0.000000      0.000000      4.000000      8.000000   \n",
       "max        3.500000      1.000000      4.000000      5.000000     13.000000   \n",
       "\n",
       "         sqft_above  sqft_basement      yr_built  yr_renovated       zipcode  \\\n",
       "count  21597.000000   21597.000000  21597.000000  21597.000000  21597.000000   \n",
       "mean    1788.596842     291.725008   1970.999676     84.464787  98077.951845   \n",
       "std      827.759761     442.667800     29.375234    401.821438     53.513072   \n",
       "min      370.000000       0.000000   1900.000000      0.000000  98001.000000   \n",
       "25%     1190.000000       0.000000   1951.000000      0.000000  98033.000000   \n",
       "50%     1560.000000       0.000000   1975.000000      0.000000  98065.000000   \n",
       "75%     2210.000000     560.000000   1997.000000      0.000000  98118.000000   \n",
       "max     9410.000000    4820.000000   2015.000000   2015.000000  98199.000000   \n",
       "\n",
       "                lat          long  sqft_living15     sqft_lot15         price  \n",
       "count  21597.000000  21597.000000   21597.000000   21597.000000  2.159700e+04  \n",
       "mean      47.560093   -122.213982    1986.620318   12758.283512  5.402966e+05  \n",
       "std        0.138552      0.140724     685.230472   27274.441950  3.673681e+05  \n",
       "min       47.155900   -122.519000     399.000000     651.000000  7.800000e+04  \n",
       "25%       47.471100   -122.328000    1490.000000    5100.000000  3.220000e+05  \n",
       "50%       47.571800   -122.231000    1840.000000    7620.000000  4.500000e+05  \n",
       "75%       47.678000   -122.125000    2360.000000   10083.000000  6.450000e+05  \n",
       "max       47.777600   -121.315000    6210.000000  871200.000000  7.700000e+06  "
      ]
     },
     "execution_count": 7,
     "metadata": {},
     "output_type": "execute_result"
    }
   ],
   "source": [
    "data.describe()"
   ]
  },
  {
   "cell_type": "code",
   "execution_count": 8,
   "id": "charming-distance",
   "metadata": {},
   "outputs": [
    {
     "data": {
      "image/png": "[encoded data removed]",
      "text/plain": [
       "<Figure size 1080x1080 with 20 Axes>"
      ]
     },
     "metadata": {
      "needs_background": "light"
     },
     "output_type": "display_data"
    }
   ],
   "source": [
    "data.hist(bins=25,figsize=(15, 15), layout=(5, 4));\n",
    "plt.show()"
   ]
  },
  {
   "cell_type": "code",
   "execution_count": 9,
   "id": "molecular-provision",
   "metadata": {},
   "outputs": [
    {
     "data": {
      "text/plain": [
       "<AxesSubplot:>"
      ]
     },
     "execution_count": 9,
     "metadata": {},
     "output_type": "execute_result"
    },
    {
     "data": {
      "image/png": "[encoded data removed]",
      "text/plain": [
       "<Figure size 432x288 with 1 Axes>"
      ]
     },
     "metadata": {
      "needs_background": "light"
     },
     "output_type": "display_data"
    }
   ],
   "source": [
    "data.boxplot(column=['bedrooms', 'bathroom'])"
   ]
  },
  {
   "cell_type": "markdown",
   "id": "spare-tournament",
   "metadata": {},
   "source": [
    "* bedrooms - remove outlier"
   ]
  },
  {
   "cell_type": "code",
   "execution_count": 10,
   "id": "blind-vegetarian",
   "metadata": {},
   "outputs": [
    {
     "data": {
      "text/plain": [
       "<AxesSubplot:>"
      ]
     },
     "execution_count": 10,
     "metadata": {},
     "output_type": "execute_result"
    },
    {
     "data": {
      "image/png": "[encoded data removed]",
      "text/plain": [
       "<Figure size 432x288 with 1 Axes>"
      ]
     },
     "metadata": {
      "needs_background": "light"
     },
     "output_type": "display_data"
    }
   ],
   "source": [
    "data.boxplot(column=['sqft_living','sqft_living15', 'sqft_above', 'sqft_basement',])"
   ]
  },
  {
   "cell_type": "code",
   "execution_count": 11,
   "id": "played-diabetes",
   "metadata": {},
   "outputs": [
    {
     "data": {
      "text/plain": [
       "<AxesSubplot:>"
      ]
     },
     "execution_count": 11,
     "metadata": {},
     "output_type": "execute_result"
    },
    {
     "data": {
      "image/png": "[encoded data removed]",
      "text/plain": [
       "<Figure size 432x288 with 1 Axes>"
      ]
     },
     "metadata": {
      "needs_background": "light"
     },
     "output_type": "display_data"
    }
   ],
   "source": [
    "data.boxplot(column=['price'])"
   ]
  },
  {
   "cell_type": "code",
   "execution_count": 12,
   "id": "romantic-stylus",
   "metadata": {},
   "outputs": [
    {
     "data": {
      "text/plain": [
       "array([ 7,  6,  8, 11,  9,  5, 10, 12,  4,  3, 13])"
      ]
     },
     "execution_count": 12,
     "metadata": {},
     "output_type": "execute_result"
    }
   ],
   "source": [
    "data['grade'].unique()"
   ]
  },
  {
   "cell_type": "code",
   "execution_count": 13,
   "id": "conceptual-dubai",
   "metadata": {},
   "outputs": [
    {
     "data": {
      "text/plain": [
       "array([3, 5, 4, 1, 2])"
      ]
     },
     "execution_count": 13,
     "metadata": {},
     "output_type": "execute_result"
    }
   ],
   "source": [
    "data['condition'].unique()"
   ]
  },
  {
   "cell_type": "code",
   "execution_count": 14,
   "id": "surprised-fluid",
   "metadata": {},
   "outputs": [
    {
     "data": {
      "text/plain": [
       "array([0, 1])"
      ]
     },
     "execution_count": 14,
     "metadata": {},
     "output_type": "execute_result"
    }
   ],
   "source": [
    "data['waterfront'].unique()"
   ]
  },
  {
   "cell_type": "code",
   "execution_count": 15,
   "id": "finite-somalia",
   "metadata": {},
   "outputs": [
    {
     "data": {
      "text/plain": [
       "array([1340, 1690, 2720, 1360, 1800, 4760, 2238, 1650, 1780, 2390, 2210,\n",
       "       1330, 1370, 2140, 1890, 1610, 1060, 1280, 1400, 4110, 2240, 1220,\n",
       "       2200, 1030, 1760, 1860, 1520, 2630, 2580, 1390, 1460, 1570, 2020,\n",
       "       1590, 2160, 1730, 1290, 2620, 2470, 2410, 3625, 1580, 3050, 1228,\n",
       "       2680,  970, 1190, 1990, 1410, 1480, 2730, 1950, 2250, 2690, 2960,\n",
       "       2270, 2570, 2500, 1440, 2750, 2221, 1010, 3390, 3530, 1640, 1510,\n",
       "       2420, 1940, 3240, 1680,  890, 1130, 3350, 2350, 1870, 1720, 1850,\n",
       "       1900, 1980, 2520, 1350, 1750, 1160, 2550, 2370, 1240, 1270, 2990,\n",
       "       1380, 1540, 2090, 2640, 1830, 1620, 1880, 2340, 1710, 2700, 3060,\n",
       "       2660, 1700, 1970, 1420, 2060, 2480, 1550, 1170, 2820, 1560, 2230,\n",
       "       2840, 1450, 1500, 3160, 1200, 3400, 2110, 2920, 1770, 1070, 1930,\n",
       "       3740, 2260, 1670, 2290, 1050, 2540, 2190, 2030, 1230, 2330, 1300,\n",
       "       1430, 2770, 1250, 1630, 2590, 2130, 1100, 3836, 1320, 2120, 3070,\n",
       "       1910, 2080, 1960, 2280, 1150, 3430, 2070, 2600,  830, 1260, 3120,\n",
       "       2010, 1660, 1600, 2380, 3890, 4180, 2653, 2670, 3920, 2300, 2310,\n",
       "       2320, 3150, 1740, 2400, 4550, 2510, 2440, 2880, 3860, 2150, 1310,\n",
       "       1820, 3080,  880, 2560, 3470, 1020, 2040, 2610, 1810, 2860, 3480,\n",
       "       3130, 3360, 4050, 2450, 1790, 3180, 3600, 2000, 2430, 2850, 4680,\n",
       "       2360, 3930, 1490, 2460, 2077, 1920, 3630, 3220, 2100, 3230, 4300,\n",
       "       3850, 2424, 2530, 3030, 2830, 2900, 2950, 1470,  940, 2740, 4210,\n",
       "       3340, 3980, 2180, 3715, 2050, 1080, 2095, 1000, 3330, 2170, 1408,\n",
       "       1530, 2760, 3110,  950, 3000, 1307, 2220, 4190, 3440, 3250, 1110,\n",
       "       2870, 1210, 2910, 1120, 4230, 1708, 3090, 3270, 2970, 1180, 3100,\n",
       "       4100, 2930, 3510, 2688, 1840, 2490, 4090, 2810, 3260, 3680, 3420,\n",
       "       1654, 1365,  980, 1677, 1140, 3640, 3460, 3140, 1502, 3720, 2790,\n",
       "       2940,  990, 2890,  860, 4750, 1525, 3950, 5790,  760, 2234,  960,\n",
       "       3210, 2780, 2800, 2305, 2665, 3620, 2710, 4320, 2650, 3370, 1509,\n",
       "       1277, 1981, 2434, 4640, 2242, 3040, 3970, 3200, 4600,  840, 3290,\n",
       "       2214, 1162, 3010, 5600, 3820, 3540, 1975, 4800,  740, 3990, 3170,\n",
       "       1576, 1768, 3310, 2980, 1429, 3900, 3380,  820, 1090, 4060, 3910,\n",
       "       3190, 3450, 3730,  620, 3020, 3760, 3320, 1132, 3300, 3770, 3960,\n",
       "        870, 3560, 4620, 3520, 1572, 3490, 1088, 3159, 4470, 3570, 4890,\n",
       "       3690, 3280, 2083, 3780,  920, 1941, 1566,  850, 2496, 1040, 3410,\n",
       "       4240, 4670, 4350, 1714, 5380, 4330, 3830, 5000, 2144, 1494, 1357,\n",
       "        930, 3580, 4250, 4080, 3660, 1458, 3736, 1894, 2037, 1295, 4170,\n",
       "       3750, 3550, 4630, 1439, 3500, 2091,  900, 3880, 3710, 1616,  720,\n",
       "        800, 2315, 1564, 2767, 3721, 4650, 4020,  780, 1728, 2027, 1264,\n",
       "       1404, 1459, 2028, 3639, 1943, 3425, 2641, 2114, 1309, 2412, 2517,\n",
       "       1802, 2011, 1466, 1414, 3193, 1845, 1156, 3670, 1696, 5340, 4440,\n",
       "       1745, 1884, 4690, 4920, 2406, 4160, 3810, 4480, 2848, 1746, 2634,\n",
       "       2049, 5330, 1536, 2273, 3056, 4010, 4700,  910, 2125, 1665, 2683,\n",
       "       3790,  700, 1855,  750, 1078, 4150, 4340, 2344, 1098, 1175, 1188,\n",
       "       3700, 3840, 4042, 2518, 3800, 2488, 3590, 2052,  810, 1528, 5030,\n",
       "       5070, 2967, 4280, 2724, 3610, 3940, 4940, 4770, 1811, 4830, 2876,\n",
       "       1805, 1216, 5170, 1304, 2474, 4590, 4130, 1492, 1364, 2168, 4140,\n",
       "       3543, 1303, 2005, 3650, 2583, 4310, 2451, 1448, 2955, 2142,  790,\n",
       "       1638, 2554, 2441, 2216, 4220, 1961, 4540,  770, 4200, 3413, 1664,\n",
       "       2136, 3568, 4510, 1484, 1358, 2106, 1834, 2014, 4390, 4570, 2175,\n",
       "       6110, 4260,  710, 2112, 1934, 1518, 1302, 2622, 2619, 2382, 4290,\n",
       "       4560, 4000, 1336, 3112, 4070, 1468, 1571, 2605, 1138, 5110, 4850,\n",
       "       2165, 4410, 1678, 5610, 1984, 4660, 3870, 4370,  460, 4610, 1914,\n",
       "       3515, 2246, 1786, 2109, 2326, 4740, 2728, 4400, 4950, 1767, 2054,\n",
       "       5500, 2555, 3674, 2765, 1862, 1352, 4030,  399, 2415, 2901, 1815,\n",
       "       2236, 2253, 2004, 1356, 2403, 1137, 1256, 4930, 4040, 2376, 4520,\n",
       "       4490, 2189, 2566, 2396, 1282, 2155, 1056, 2389, 2256, 3618, 1326,\n",
       "       1168, 4913,  806, 1369, 2405, 2875, 1425, 5220, 1442, 2333, 3335,\n",
       "       1321, 3045, 1546, 4730, 2697, 2822, 2076, 1757, 4780,  952, 4270,\n",
       "       2075, 2667, 1092, 1217, 1716, 1792, 2961, 1125, 1463, 1886,  670,\n",
       "       4460, 2336, 3557, 5200, 2258, 1377, 2019, 2092, 4900, 2615, 1639,\n",
       "       1765, 1554, 1381, 4120, 5080, 1445, 2793, 2475,  998, 2384, 2575,\n",
       "       1398, 1584, 2439, 2197, 2029, 4362, 1443, 4420, 1691, 2495, 2437,\n",
       "       2547, 6210, 2009, 1847, 1346, 2578, 2879, 2255, 2815, 1608,  690,\n",
       "       2425, 1481, 2458, 2358, 2056, 1921, 2419, 2996, 2502, 1798, 3087,\n",
       "       1076, 2981, 2363, 3191, 1763, 1876, 1949, 2598, 1979, 1415, 2002,\n",
       "       2574, 2166, 3726, 2099, 2154, 1522, 1544, 2912, 2648, 1658, 2755,\n",
       "       2798, 1405, 2704, 2738, 3008, 2586, 2873, 1232, 2597, 2516, 1537,\n",
       "       1128, 2849, 1399, 1131, 1569, 2381, 1084, 2304, 4530, 2297, 2279,\n",
       "       2303, 2669, 4225, 2513, 2725, 1955, 2527, 4443, 2478, 1919, 1813,\n",
       "       2533,  828, 2015, 3078, 4495, 2673, 2316, 2647, 3402, 3494, 2156,\n",
       "       3236, 2612, 2323, 2409, 2354, 1285, 2616, 1427, 1516, 2456, 2844,\n",
       "       1495, 2594, 2604, 1268, 2198, 3038, 2927])"
      ]
     },
     "execution_count": 15,
     "metadata": {},
     "output_type": "execute_result"
    }
   ],
   "source": [
    "data['sqft_living15'].unique()"
   ]
  },
  {
   "cell_type": "code",
   "execution_count": 16,
   "id": "every-labor",
   "metadata": {},
   "outputs": [
    {
     "data": {
      "text/plain": [
       "array([1. , 2. , 1.5, 3. , 2.5, 3.5])"
      ]
     },
     "execution_count": 16,
     "metadata": {},
     "output_type": "execute_result"
    }
   ],
   "source": [
    "data['floors'].unique()"
   ]
  },
  {
   "cell_type": "code",
   "execution_count": 17,
   "id": "assigned-undergraduate",
   "metadata": {},
   "outputs": [
    {
     "data": {
      "text/plain": [
       "array([ 3,  2,  4,  5,  1,  6,  7,  8,  9, 11, 10, 33])"
      ]
     },
     "execution_count": 17,
     "metadata": {},
     "output_type": "execute_result"
    }
   ],
   "source": [
    "data['bedrooms'].unique()"
   ]
  },
  {
   "cell_type": "code",
   "execution_count": 18,
   "id": "auburn-neighbor",
   "metadata": {},
   "outputs": [
    {
     "data": {
      "text/plain": [
       "array([98178, 98125, 98028, 98136, 98074, 98053, 98003, 98198, 98146,\n",
       "       98038, 98007, 98115, 98107, 98126, 98019, 98103, 98002, 98133,\n",
       "       98040, 98092, 98030, 98119, 98112, 98052, 98027, 98117, 98058,\n",
       "       98001, 98056, 98166, 98023, 98070, 98148, 98105, 98042, 98008,\n",
       "       98059, 98122, 98144, 98004, 98005, 98034, 98075, 98116, 98010,\n",
       "       98118, 98199, 98032, 98045, 98102, 98077, 98108, 98168, 98177,\n",
       "       98065, 98029, 98006, 98109, 98022, 98033, 98155, 98024, 98011,\n",
       "       98031, 98106, 98072, 98188, 98014, 98055, 98039])"
      ]
     },
     "execution_count": 18,
     "metadata": {},
     "output_type": "execute_result"
    }
   ],
   "source": [
    "data['zipcode'].unique()"
   ]
  },
  {
   "cell_type": "markdown",
   "id": "maritime-fusion",
   "metadata": {},
   "source": [
    "* need to look in to the 33 bedroom house data"
   ]
  },
  {
   "cell_type": "code",
   "execution_count": 19,
   "id": "dried-simulation",
   "metadata": {},
   "outputs": [
    {
     "data": {
      "text/plain": [
       "array([1.  , 2.25, 3.  , 2.  , 4.5 , 1.5 , 2.5 , 1.75, 2.75, 3.25, 4.  ,\n",
       "       3.5 , 0.75, 4.75, 5.  , 4.25, 3.75, 1.25, 5.25, 6.  , 0.5 , 5.5 ,\n",
       "       6.75, 5.75, 8.  , 7.5 , 7.75, 6.25, 6.5 ])"
      ]
     },
     "execution_count": 19,
     "metadata": {},
     "output_type": "execute_result"
    }
   ],
   "source": [
    "data['bathroom'].unique()"
   ]
  },
  {
   "cell_type": "markdown",
   "id": "trying-pottery",
   "metadata": {},
   "source": [
    "* create bins for amount of bathrooms"
   ]
  },
  {
   "cell_type": "code",
   "execution_count": 20,
   "id": "exciting-capital",
   "metadata": {},
   "outputs": [
    {
     "data": {
      "image/png": "[encoded data removed]",
      "text/plain": [
       "<Figure size 432x288 with 2 Axes>"
      ]
     },
     "metadata": {
      "needs_background": "light"
     },
     "output_type": "display_data"
    }
   ],
   "source": [
    "corr = data.corr()\n",
    "ax = sns.heatmap(\n",
    "    corr, \n",
    "    vmin=-1, vmax=1, center=0,\n",
    "    cmap=sns.diverging_palette(20, 220, n=200),\n",
    "    square=True\n",
    ")\n",
    "ax.set_xticklabels(\n",
    "    ax.get_xticklabels(),\n",
    "    rotation=45,\n",
    "    horizontalalignment='right'\n",
    ");"
   ]
  },
  {
   "cell_type": "markdown",
   "id": "pleased-analyst",
   "metadata": {},
   "source": [
    "* Note: have to drop some of the sqft variables, because they are correlated."
   ]
  },
  {
   "cell_type": "code",
   "execution_count": null,
   "id": "complicated-revelation",
   "metadata": {},
   "outputs": [],
   "source": []
  },
  {
   "cell_type": "markdown",
   "id": "instant-integration",
   "metadata": {},
   "source": [
    "# 2. Feature extraction"
   ]
  },
  {
   "cell_type": "markdown",
   "id": "advised-feelings",
   "metadata": {},
   "source": [
    "NOTES FROM EDA:\n",
    "* yr_renovated: lots of unique values, also 0 for not renovated houses --> new column: renovated after 1990 True or False or bins\n",
    "* change the date in datetime format \n",
    "* sqft basement, sqft above, sqftlot15, price, bedrooms - remove outliers\n",
    "* create bins for amount of bathrooms, year of construction, renovations \n",
    "* drop zipcode after introducing column area which grades the area \n",
    "* drop lat, long\n",
    "* have to drop some of the sqft variables, because they are correlated."
   ]
  },
  {
   "cell_type": "code",
   "execution_count": 21,
   "id": "unnecessary-bryan",
   "metadata": {},
   "outputs": [],
   "source": [
    "cleandata=data"
   ]
  },
  {
   "cell_type": "markdown",
   "id": "removable-defense",
   "metadata": {},
   "source": [
    "### Date is classified as an object type. Converting it to date."
   ]
  },
  {
   "cell_type": "code",
   "execution_count": 22,
   "id": "australian-phrase",
   "metadata": {},
   "outputs": [],
   "source": [
    "cleandata['date']= pd.to_datetime(data['date'], format='%m/%d/%y', errors='coerce')"
   ]
  },
  {
   "cell_type": "markdown",
   "id": "neutral-nicholas",
   "metadata": {},
   "source": [
    "### Bedrooms contains a property with 33 bedrooms. Removing this outlier."
   ]
  },
  {
   "cell_type": "code",
   "execution_count": 23,
   "id": "eligible-arctic",
   "metadata": {},
   "outputs": [
    {
     "data": {
      "text/html": [
       "<div>\n",
       "<style scoped>\n",
       "    .dataframe tbody tr th:only-of-type {\n",
       "        vertical-align: middle;\n",
       "    }\n",
       "\n",
       "    .dataframe tbody tr th {\n",
       "        vertical-align: top;\n",
       "    }\n",
       "\n",
       "    .dataframe thead th {\n",
       "        text-align: right;\n",
       "    }\n",
       "</style>\n",
       "<table border=\"1\" class=\"dataframe\">\n",
       "  <thead>\n",
       "    <tr style=\"text-align: right;\">\n",
       "      <th></th>\n",
       "      <th>id</th>\n",
       "      <th>date</th>\n",
       "      <th>bedrooms</th>\n",
       "      <th>bathroom</th>\n",
       "      <th>sqft_living</th>\n",
       "      <th>sqft_lot</th>\n",
       "      <th>floors</th>\n",
       "      <th>waterfront</th>\n",
       "      <th>view</th>\n",
       "      <th>condition</th>\n",
       "      <th>...</th>\n",
       "      <th>sqft_above</th>\n",
       "      <th>sqft_basement</th>\n",
       "      <th>yr_built</th>\n",
       "      <th>yr_renovated</th>\n",
       "      <th>zipcode</th>\n",
       "      <th>lat</th>\n",
       "      <th>long</th>\n",
       "      <th>sqft_living15</th>\n",
       "      <th>sqft_lot15</th>\n",
       "      <th>price</th>\n",
       "    </tr>\n",
       "  </thead>\n",
       "  <tbody>\n",
       "    <tr>\n",
       "      <th>15856</th>\n",
       "      <td>2402100895</td>\n",
       "      <td>2014-06-25</td>\n",
       "      <td>33</td>\n",
       "      <td>1.75</td>\n",
       "      <td>1620</td>\n",
       "      <td>6000</td>\n",
       "      <td>1.0</td>\n",
       "      <td>0</td>\n",
       "      <td>0</td>\n",
       "      <td>5</td>\n",
       "      <td>...</td>\n",
       "      <td>1040</td>\n",
       "      <td>580</td>\n",
       "      <td>1947</td>\n",
       "      <td>0</td>\n",
       "      <td>98103</td>\n",
       "      <td>47.6878</td>\n",
       "      <td>-122.331</td>\n",
       "      <td>1330</td>\n",
       "      <td>4700</td>\n",
       "      <td>640000</td>\n",
       "    </tr>\n",
       "  </tbody>\n",
       "</table>\n",
       "<p>1 rows × 21 columns</p>\n",
       "</div>"
      ],
      "text/plain": [
       "               id       date  bedrooms  bathroom  sqft_living  sqft_lot  \\\n",
       "15856  2402100895 2014-06-25        33      1.75         1620      6000   \n",
       "\n",
       "       floors  waterfront  view  condition  ...  sqft_above  sqft_basement  \\\n",
       "15856     1.0           0     0          5  ...        1040            580   \n",
       "\n",
       "       yr_built  yr_renovated  zipcode      lat     long  sqft_living15  \\\n",
       "15856      1947             0    98103  47.6878 -122.331           1330   \n",
       "\n",
       "       sqft_lot15   price  \n",
       "15856        4700  640000  \n",
       "\n",
       "[1 rows x 21 columns]"
      ]
     },
     "execution_count": 23,
     "metadata": {},
     "output_type": "execute_result"
    }
   ],
   "source": [
    "\n",
    "data.loc[data['bedrooms'] == 33]"
   ]
  },
  {
   "cell_type": "code",
   "execution_count": 24,
   "id": "suburban-lancaster",
   "metadata": {},
   "outputs": [],
   "source": [
    "cleandata = cleandata.drop(15856)"
   ]
  },
  {
   "cell_type": "markdown",
   "id": "assigned-medicare",
   "metadata": {},
   "source": [
    "### Droping latitude, longitude column ----what about sqft_columnS????"
   ]
  },
  {
   "cell_type": "code",
   "execution_count": 25,
   "id": "democratic-liver",
   "metadata": {},
   "outputs": [],
   "source": [
    "cleandata.drop(['lat', 'long', 'sqft_living', 'sqft_lot'], axis=1, inplace=True)"
   ]
  },
  {
   "cell_type": "code",
   "execution_count": null,
   "id": "incomplete-clear",
   "metadata": {},
   "outputs": [],
   "source": []
  },
  {
   "cell_type": "markdown",
   "id": "artificial-suite",
   "metadata": {},
   "source": [
    "### Creating bins for bathroom, yr_renovated, bedrooms, yr_built"
   ]
  },
  {
   "cell_type": "code",
   "execution_count": 26,
   "id": "solid-voltage",
   "metadata": {},
   "outputs": [],
   "source": [
    "#putting years of renovations into bins\n",
    "bins = [0,1940,1970,1990,2015]\n",
    "cleandata['renovation_bins'] = pd.cut(cleandata.yr_renovated, bins=[0,1940,1970,1990,2015], include_lowest=True, right=True)\n",
    "cleandata['renovation_bin_labels'] = pd.cut(cleandata.yr_renovated, bins=[0,1940,1970,1990,2015], include_lowest=True, right=True, labels=[0,1,2,3])"
   ]
  },
  {
   "cell_type": "code",
   "execution_count": 27,
   "id": "covered-affect",
   "metadata": {},
   "outputs": [],
   "source": [
    "cleandata.drop(['renovation_bins', 'yr_renovated'], axis=1, inplace=True)"
   ]
  },
  {
   "cell_type": "markdown",
   "id": "vertical-amber",
   "metadata": {},
   "source": [
    "### Introducing column area which grades the area and drop zipcode afterwards"
   ]
  },
  {
   "cell_type": "code",
   "execution_count": 28,
   "id": "unavailable-genome",
   "metadata": {},
   "outputs": [],
   "source": [
    "cleandata['area'] = cleandata['zipcode']"
   ]
  },
  {
   "cell_type": "code",
   "execution_count": 29,
   "id": "hungarian-musician",
   "metadata": {},
   "outputs": [],
   "source": [
    "area_1 = [98001,98002,98003,98010,98011,98019,98022,98023,98027,98028,98038,98045,98072,98077,98092,98155,98166]"
   ]
  },
  {
   "cell_type": "code",
   "execution_count": 30,
   "id": "unlimited-contest",
   "metadata": {},
   "outputs": [],
   "source": [
    "area_2 = [98014,98024,98029,98030,98031,98032,98042,98053,98055,98056,98058,98059,98065,98070,98146,98148,98168,98178,98188,98198]"
   ]
  },
  {
   "cell_type": "code",
   "execution_count": 31,
   "id": "absent-patent",
   "metadata": {},
   "outputs": [],
   "source": [
    "area_3 = [98052,98074,98075,98106,98108,98116,98118,98125,98126,98133,98136,98177]"
   ]
  },
  {
   "cell_type": "code",
   "execution_count": 32,
   "id": "modern-blues",
   "metadata": {},
   "outputs": [],
   "source": [
    "area_4 = [98004,98005,98006,98007,98008,98033,98034,98039,98040,98102,98103,98105,98107,98109,98112,98115,98117,98119,98122,98144,98199]"
   ]
  },
  {
   "cell_type": "code",
   "execution_count": 33,
   "id": "tracked-stocks",
   "metadata": {},
   "outputs": [],
   "source": [
    "cleandata.loc[cleandata['area'].isin(area_1), 'area'] = 1\n",
    "cleandata.loc[cleandata['area'].isin(area_2), 'area'] = 2\n",
    "cleandata.loc[cleandata['area'].isin(area_3), 'area'] = 3\n",
    "cleandata.loc[cleandata['area'].isin(area_4), 'area'] = 4"
   ]
  },
  {
   "cell_type": "code",
   "execution_count": 34,
   "id": "civic-shade",
   "metadata": {},
   "outputs": [
    {
     "data": {
      "text/plain": [
       "array([2, 3, 1, 4])"
      ]
     },
     "execution_count": 34,
     "metadata": {},
     "output_type": "execute_result"
    }
   ],
   "source": [
    "cleandata['area'].unique()"
   ]
  },
  {
   "cell_type": "code",
   "execution_count": 35,
   "id": "hollywood-greeting",
   "metadata": {},
   "outputs": [
    {
     "data": {
      "text/plain": [
       "4    6564\n",
       "2    5443\n",
       "1    5083\n",
       "3    4506\n",
       "Name: area, dtype: int64"
      ]
     },
     "execution_count": 35,
     "metadata": {},
     "output_type": "execute_result"
    }
   ],
   "source": [
    "cleandata['area'].value_counts()"
   ]
  },
  {
   "cell_type": "code",
   "execution_count": 36,
   "id": "unusual-remainder",
   "metadata": {},
   "outputs": [],
   "source": [
    "cleandata.drop(['zipcode'], axis=1, inplace=True)"
   ]
  },
  {
   "cell_type": "code",
   "execution_count": 37,
   "id": "professional-setting",
   "metadata": {},
   "outputs": [
    {
     "data": {
      "text/html": [
       "<div>\n",
       "<style scoped>\n",
       "    .dataframe tbody tr th:only-of-type {\n",
       "        vertical-align: middle;\n",
       "    }\n",
       "\n",
       "    .dataframe tbody tr th {\n",
       "        vertical-align: top;\n",
       "    }\n",
       "\n",
       "    .dataframe thead th {\n",
       "        text-align: right;\n",
       "    }\n",
       "</style>\n",
       "<table border=\"1\" class=\"dataframe\">\n",
       "  <thead>\n",
       "    <tr style=\"text-align: right;\">\n",
       "      <th></th>\n",
       "      <th>id</th>\n",
       "      <th>date</th>\n",
       "      <th>bedrooms</th>\n",
       "      <th>bathroom</th>\n",
       "      <th>floors</th>\n",
       "      <th>waterfront</th>\n",
       "      <th>view</th>\n",
       "      <th>condition</th>\n",
       "      <th>grade</th>\n",
       "      <th>sqft_above</th>\n",
       "      <th>sqft_basement</th>\n",
       "      <th>yr_built</th>\n",
       "      <th>sqft_living15</th>\n",
       "      <th>sqft_lot15</th>\n",
       "      <th>price</th>\n",
       "      <th>renovation_bin_labels</th>\n",
       "      <th>area</th>\n",
       "    </tr>\n",
       "  </thead>\n",
       "  <tbody>\n",
       "    <tr>\n",
       "      <th>0</th>\n",
       "      <td>7129300520</td>\n",
       "      <td>2014-10-13</td>\n",
       "      <td>3</td>\n",
       "      <td>1.00</td>\n",
       "      <td>1.0</td>\n",
       "      <td>0</td>\n",
       "      <td>0</td>\n",
       "      <td>3</td>\n",
       "      <td>7</td>\n",
       "      <td>1180</td>\n",
       "      <td>0</td>\n",
       "      <td>1955</td>\n",
       "      <td>1340</td>\n",
       "      <td>5650</td>\n",
       "      <td>221900</td>\n",
       "      <td>0</td>\n",
       "      <td>2</td>\n",
       "    </tr>\n",
       "    <tr>\n",
       "      <th>1</th>\n",
       "      <td>6414100192</td>\n",
       "      <td>2014-12-09</td>\n",
       "      <td>3</td>\n",
       "      <td>2.25</td>\n",
       "      <td>2.0</td>\n",
       "      <td>0</td>\n",
       "      <td>0</td>\n",
       "      <td>3</td>\n",
       "      <td>7</td>\n",
       "      <td>2170</td>\n",
       "      <td>400</td>\n",
       "      <td>1951</td>\n",
       "      <td>1690</td>\n",
       "      <td>7639</td>\n",
       "      <td>538000</td>\n",
       "      <td>3</td>\n",
       "      <td>3</td>\n",
       "    </tr>\n",
       "    <tr>\n",
       "      <th>2</th>\n",
       "      <td>5631500400</td>\n",
       "      <td>2015-02-25</td>\n",
       "      <td>2</td>\n",
       "      <td>1.00</td>\n",
       "      <td>1.0</td>\n",
       "      <td>0</td>\n",
       "      <td>0</td>\n",
       "      <td>3</td>\n",
       "      <td>6</td>\n",
       "      <td>770</td>\n",
       "      <td>0</td>\n",
       "      <td>1933</td>\n",
       "      <td>2720</td>\n",
       "      <td>8062</td>\n",
       "      <td>180000</td>\n",
       "      <td>0</td>\n",
       "      <td>1</td>\n",
       "    </tr>\n",
       "    <tr>\n",
       "      <th>3</th>\n",
       "      <td>2487200875</td>\n",
       "      <td>2014-12-09</td>\n",
       "      <td>4</td>\n",
       "      <td>3.00</td>\n",
       "      <td>1.0</td>\n",
       "      <td>0</td>\n",
       "      <td>0</td>\n",
       "      <td>5</td>\n",
       "      <td>7</td>\n",
       "      <td>1050</td>\n",
       "      <td>910</td>\n",
       "      <td>1965</td>\n",
       "      <td>1360</td>\n",
       "      <td>5000</td>\n",
       "      <td>604000</td>\n",
       "      <td>0</td>\n",
       "      <td>3</td>\n",
       "    </tr>\n",
       "    <tr>\n",
       "      <th>4</th>\n",
       "      <td>1954400510</td>\n",
       "      <td>2015-02-18</td>\n",
       "      <td>3</td>\n",
       "      <td>2.00</td>\n",
       "      <td>1.0</td>\n",
       "      <td>0</td>\n",
       "      <td>0</td>\n",
       "      <td>3</td>\n",
       "      <td>8</td>\n",
       "      <td>1680</td>\n",
       "      <td>0</td>\n",
       "      <td>1987</td>\n",
       "      <td>1800</td>\n",
       "      <td>7503</td>\n",
       "      <td>510000</td>\n",
       "      <td>0</td>\n",
       "      <td>3</td>\n",
       "    </tr>\n",
       "  </tbody>\n",
       "</table>\n",
       "</div>"
      ],
      "text/plain": [
       "           id       date  bedrooms  bathroom  floors  waterfront  view  \\\n",
       "0  7129300520 2014-10-13         3      1.00     1.0           0     0   \n",
       "1  6414100192 2014-12-09         3      2.25     2.0           0     0   \n",
       "2  5631500400 2015-02-25         2      1.00     1.0           0     0   \n",
       "3  2487200875 2014-12-09         4      3.00     1.0           0     0   \n",
       "4  1954400510 2015-02-18         3      2.00     1.0           0     0   \n",
       "\n",
       "   condition  grade  sqft_above  sqft_basement  yr_built  sqft_living15  \\\n",
       "0          3      7        1180              0      1955           1340   \n",
       "1          3      7        2170            400      1951           1690   \n",
       "2          3      6         770              0      1933           2720   \n",
       "3          5      7        1050            910      1965           1360   \n",
       "4          3      8        1680              0      1987           1800   \n",
       "\n",
       "   sqft_lot15   price renovation_bin_labels  area  \n",
       "0        5650  221900                     0     2  \n",
       "1        7639  538000                     3     3  \n",
       "2        8062  180000                     0     1  \n",
       "3        5000  604000                     0     3  \n",
       "4        7503  510000                     0     3  "
      ]
     },
     "execution_count": 37,
     "metadata": {},
     "output_type": "execute_result"
    }
   ],
   "source": [
    "cleandata.head()"
   ]
  },
  {
   "cell_type": "code",
   "execution_count": null,
   "id": "judicial-character",
   "metadata": {},
   "outputs": [],
   "source": []
  },
  {
   "cell_type": "markdown",
   "id": "lucky-alpha",
   "metadata": {},
   "source": [
    "## Normalizing variables"
   ]
  },
  {
   "cell_type": "markdown",
   "id": "occupied-tongue",
   "metadata": {},
   "source": [
    "### Checking correlation for the next iteration"
   ]
  },
  {
   "cell_type": "code",
   "execution_count": 38,
   "id": "round-dynamics",
   "metadata": {
    "scrolled": true
   },
   "outputs": [
    {
     "data": {
      "image/png": "[encoded data removed]",
      "text/plain": [
       "<Figure size 432x288 with 2 Axes>"
      ]
     },
     "metadata": {
      "needs_background": "light"
     },
     "output_type": "display_data"
    }
   ],
   "source": [
    "corr = cleandata.corr()\n",
    "ax = sns.heatmap(\n",
    "    corr, \n",
    "    vmin=-1, vmax=1, center=0,\n",
    "    cmap=sns.diverging_palette(20, 220, n=200),\n",
    "    square=True\n",
    ")\n",
    "ax.set_xticklabels(\n",
    "    ax.get_xticklabels(),\n",
    "    rotation=45,\n",
    "    horizontalalignment='right'\n",
    ");"
   ]
  },
  {
   "cell_type": "markdown",
   "id": "likely-velvet",
   "metadata": {},
   "source": [
    "* grade and sqft_above are correlated 75,60%, sqft_living15 and sqft_above 73,18%, \n",
    "* our new column area is not too high correlated to other variables"
   ]
  },
  {
   "cell_type": "code",
   "execution_count": 39,
   "id": "affected-brighton",
   "metadata": {},
   "outputs": [
    {
     "data": {
      "text/html": [
       "<div>\n",
       "<style scoped>\n",
       "    .dataframe tbody tr th:only-of-type {\n",
       "        vertical-align: middle;\n",
       "    }\n",
       "\n",
       "    .dataframe tbody tr th {\n",
       "        vertical-align: top;\n",
       "    }\n",
       "\n",
       "    .dataframe thead th {\n",
       "        text-align: right;\n",
       "    }\n",
       "</style>\n",
       "<table border=\"1\" class=\"dataframe\">\n",
       "  <thead>\n",
       "    <tr style=\"text-align: right;\">\n",
       "      <th></th>\n",
       "      <th>id</th>\n",
       "      <th>bedrooms</th>\n",
       "      <th>bathroom</th>\n",
       "      <th>floors</th>\n",
       "      <th>waterfront</th>\n",
       "      <th>view</th>\n",
       "      <th>condition</th>\n",
       "      <th>grade</th>\n",
       "      <th>sqft_above</th>\n",
       "      <th>sqft_basement</th>\n",
       "      <th>yr_built</th>\n",
       "      <th>sqft_living15</th>\n",
       "      <th>sqft_lot15</th>\n",
       "      <th>price</th>\n",
       "      <th>area</th>\n",
       "    </tr>\n",
       "  </thead>\n",
       "  <tbody>\n",
       "    <tr>\n",
       "      <th>id</th>\n",
       "      <td>1.000000</td>\n",
       "      <td>0.002328</td>\n",
       "      <td>0.005145</td>\n",
       "      <td>0.018576</td>\n",
       "      <td>-0.002730</td>\n",
       "      <td>0.011526</td>\n",
       "      <td>-0.023721</td>\n",
       "      <td>0.008169</td>\n",
       "      <td>-0.010831</td>\n",
       "      <td>-0.005170</td>\n",
       "      <td>0.021589</td>\n",
       "      <td>-0.002734</td>\n",
       "      <td>-0.138570</td>\n",
       "      <td>-0.016763</td>\n",
       "      <td>0.005524</td>\n",
       "    </tr>\n",
       "    <tr>\n",
       "      <th>bedrooms</th>\n",
       "      <td>0.002328</td>\n",
       "      <td>1.000000</td>\n",
       "      <td>0.527870</td>\n",
       "      <td>0.183707</td>\n",
       "      <td>-0.006869</td>\n",
       "      <td>0.082437</td>\n",
       "      <td>0.023440</td>\n",
       "      <td>0.366174</td>\n",
       "      <td>0.492543</td>\n",
       "      <td>0.309261</td>\n",
       "      <td>0.160736</td>\n",
       "      <td>0.404532</td>\n",
       "      <td>0.031892</td>\n",
       "      <td>0.315961</td>\n",
       "      <td>-0.004892</td>\n",
       "    </tr>\n",
       "    <tr>\n",
       "      <th>bathroom</th>\n",
       "      <td>0.005145</td>\n",
       "      <td>0.527870</td>\n",
       "      <td>1.000000</td>\n",
       "      <td>0.502574</td>\n",
       "      <td>0.063742</td>\n",
       "      <td>0.188381</td>\n",
       "      <td>-0.126443</td>\n",
       "      <td>0.665834</td>\n",
       "      <td>0.686664</td>\n",
       "      <td>0.283459</td>\n",
       "      <td>0.507166</td>\n",
       "      <td>0.569878</td>\n",
       "      <td>0.088297</td>\n",
       "      <td>0.525915</td>\n",
       "      <td>0.013816</td>\n",
       "    </tr>\n",
       "    <tr>\n",
       "      <th>floors</th>\n",
       "      <td>0.018576</td>\n",
       "      <td>0.183707</td>\n",
       "      <td>0.502574</td>\n",
       "      <td>1.000000</td>\n",
       "      <td>0.023752</td>\n",
       "      <td>0.028801</td>\n",
       "      <td>-0.264013</td>\n",
       "      <td>0.458783</td>\n",
       "      <td>0.523970</td>\n",
       "      <td>-0.245694</td>\n",
       "      <td>0.489175</td>\n",
       "      <td>0.280072</td>\n",
       "      <td>-0.010734</td>\n",
       "      <td>0.256820</td>\n",
       "      <td>0.052633</td>\n",
       "    </tr>\n",
       "    <tr>\n",
       "      <th>waterfront</th>\n",
       "      <td>-0.002730</td>\n",
       "      <td>-0.006869</td>\n",
       "      <td>0.063742</td>\n",
       "      <td>0.023752</td>\n",
       "      <td>1.000000</td>\n",
       "      <td>0.401970</td>\n",
       "      <td>0.016624</td>\n",
       "      <td>0.082886</td>\n",
       "      <td>0.072106</td>\n",
       "      <td>0.080562</td>\n",
       "      <td>-0.026157</td>\n",
       "      <td>0.086505</td>\n",
       "      <td>0.030780</td>\n",
       "      <td>0.266400</td>\n",
       "      <td>0.001056</td>\n",
       "    </tr>\n",
       "    <tr>\n",
       "      <th>view</th>\n",
       "      <td>0.011526</td>\n",
       "      <td>0.082437</td>\n",
       "      <td>0.188381</td>\n",
       "      <td>0.028801</td>\n",
       "      <td>0.401970</td>\n",
       "      <td>1.000000</td>\n",
       "      <td>0.046041</td>\n",
       "      <td>0.251722</td>\n",
       "      <td>0.167600</td>\n",
       "      <td>0.277090</td>\n",
       "      <td>-0.053649</td>\n",
       "      <td>0.280674</td>\n",
       "      <td>0.072900</td>\n",
       "      <td>0.397376</td>\n",
       "      <td>0.084459</td>\n",
       "    </tr>\n",
       "    <tr>\n",
       "      <th>condition</th>\n",
       "      <td>-0.023721</td>\n",
       "      <td>0.023440</td>\n",
       "      <td>-0.126443</td>\n",
       "      <td>-0.264013</td>\n",
       "      <td>0.016624</td>\n",
       "      <td>0.046041</td>\n",
       "      <td>1.000000</td>\n",
       "      <td>-0.146854</td>\n",
       "      <td>-0.158826</td>\n",
       "      <td>0.173801</td>\n",
       "      <td>-0.361555</td>\n",
       "      <td>-0.092979</td>\n",
       "      <td>-0.003093</td>\n",
       "      <td>0.036031</td>\n",
       "      <td>0.088859</td>\n",
       "    </tr>\n",
       "    <tr>\n",
       "      <th>grade</th>\n",
       "      <td>0.008169</td>\n",
       "      <td>0.366174</td>\n",
       "      <td>0.665834</td>\n",
       "      <td>0.458783</td>\n",
       "      <td>0.082886</td>\n",
       "      <td>0.251722</td>\n",
       "      <td>-0.146854</td>\n",
       "      <td>1.000000</td>\n",
       "      <td>0.756069</td>\n",
       "      <td>0.168240</td>\n",
       "      <td>0.447854</td>\n",
       "      <td>0.713863</td>\n",
       "      <td>0.120974</td>\n",
       "      <td>0.667964</td>\n",
       "      <td>0.108375</td>\n",
       "    </tr>\n",
       "    <tr>\n",
       "      <th>sqft_above</th>\n",
       "      <td>-0.010831</td>\n",
       "      <td>0.492543</td>\n",
       "      <td>0.686664</td>\n",
       "      <td>0.523970</td>\n",
       "      <td>0.072106</td>\n",
       "      <td>0.167600</td>\n",
       "      <td>-0.158826</td>\n",
       "      <td>0.756069</td>\n",
       "      <td>1.000000</td>\n",
       "      <td>-0.052130</td>\n",
       "      <td>0.424017</td>\n",
       "      <td>0.731756</td>\n",
       "      <td>0.195069</td>\n",
       "      <td>0.605392</td>\n",
       "      <td>-0.071344</td>\n",
       "    </tr>\n",
       "    <tr>\n",
       "      <th>sqft_basement</th>\n",
       "      <td>-0.005170</td>\n",
       "      <td>0.309261</td>\n",
       "      <td>0.283459</td>\n",
       "      <td>-0.245694</td>\n",
       "      <td>0.080562</td>\n",
       "      <td>0.277090</td>\n",
       "      <td>0.173801</td>\n",
       "      <td>0.168240</td>\n",
       "      <td>-0.052130</td>\n",
       "      <td>1.000000</td>\n",
       "      <td>-0.133043</td>\n",
       "      <td>0.200478</td>\n",
       "      <td>0.017559</td>\n",
       "      <td>0.323794</td>\n",
       "      <td>0.177173</td>\n",
       "    </tr>\n",
       "    <tr>\n",
       "      <th>yr_built</th>\n",
       "      <td>0.021589</td>\n",
       "      <td>0.160736</td>\n",
       "      <td>0.507166</td>\n",
       "      <td>0.489175</td>\n",
       "      <td>-0.026157</td>\n",
       "      <td>-0.053649</td>\n",
       "      <td>-0.361555</td>\n",
       "      <td>0.447854</td>\n",
       "      <td>0.424017</td>\n",
       "      <td>-0.133043</td>\n",
       "      <td>1.000000</td>\n",
       "      <td>0.326353</td>\n",
       "      <td>0.070767</td>\n",
       "      <td>0.053965</td>\n",
       "      <td>-0.278083</td>\n",
       "    </tr>\n",
       "    <tr>\n",
       "      <th>sqft_living15</th>\n",
       "      <td>-0.002734</td>\n",
       "      <td>0.404532</td>\n",
       "      <td>0.569878</td>\n",
       "      <td>0.280072</td>\n",
       "      <td>0.086505</td>\n",
       "      <td>0.280674</td>\n",
       "      <td>-0.092979</td>\n",
       "      <td>0.713863</td>\n",
       "      <td>0.731756</td>\n",
       "      <td>0.200478</td>\n",
       "      <td>0.326353</td>\n",
       "      <td>1.000000</td>\n",
       "      <td>0.183506</td>\n",
       "      <td>0.585267</td>\n",
       "      <td>-0.011689</td>\n",
       "    </tr>\n",
       "    <tr>\n",
       "      <th>sqft_lot15</th>\n",
       "      <td>-0.138570</td>\n",
       "      <td>0.031892</td>\n",
       "      <td>0.088297</td>\n",
       "      <td>-0.010734</td>\n",
       "      <td>0.030780</td>\n",
       "      <td>0.072900</td>\n",
       "      <td>-0.003093</td>\n",
       "      <td>0.120974</td>\n",
       "      <td>0.195069</td>\n",
       "      <td>0.017559</td>\n",
       "      <td>0.070767</td>\n",
       "      <td>0.183506</td>\n",
       "      <td>1.000000</td>\n",
       "      <td>0.082849</td>\n",
       "      <td>-0.199525</td>\n",
       "    </tr>\n",
       "    <tr>\n",
       "      <th>price</th>\n",
       "      <td>-0.016763</td>\n",
       "      <td>0.315961</td>\n",
       "      <td>0.525915</td>\n",
       "      <td>0.256820</td>\n",
       "      <td>0.266400</td>\n",
       "      <td>0.397376</td>\n",
       "      <td>0.036031</td>\n",
       "      <td>0.667964</td>\n",
       "      <td>0.605392</td>\n",
       "      <td>0.323794</td>\n",
       "      <td>0.053965</td>\n",
       "      <td>0.585267</td>\n",
       "      <td>0.082849</td>\n",
       "      <td>1.000000</td>\n",
       "      <td>0.388604</td>\n",
       "    </tr>\n",
       "    <tr>\n",
       "      <th>area</th>\n",
       "      <td>0.005524</td>\n",
       "      <td>-0.004892</td>\n",
       "      <td>0.013816</td>\n",
       "      <td>0.052633</td>\n",
       "      <td>0.001056</td>\n",
       "      <td>0.084459</td>\n",
       "      <td>0.088859</td>\n",
       "      <td>0.108375</td>\n",
       "      <td>-0.071344</td>\n",
       "      <td>0.177173</td>\n",
       "      <td>-0.278083</td>\n",
       "      <td>-0.011689</td>\n",
       "      <td>-0.199525</td>\n",
       "      <td>0.388604</td>\n",
       "      <td>1.000000</td>\n",
       "    </tr>\n",
       "  </tbody>\n",
       "</table>\n",
       "</div>"
      ],
      "text/plain": [
       "                     id  bedrooms  bathroom    floors  waterfront      view  \\\n",
       "id             1.000000  0.002328  0.005145  0.018576   -0.002730  0.011526   \n",
       "bedrooms       0.002328  1.000000  0.527870  0.183707   -0.006869  0.082437   \n",
       "bathroom       0.005145  0.527870  1.000000  0.502574    0.063742  0.188381   \n",
       "floors         0.018576  0.183707  0.502574  1.000000    0.023752  0.028801   \n",
       "waterfront    -0.002730 -0.006869  0.063742  0.023752    1.000000  0.401970   \n",
       "view           0.011526  0.082437  0.188381  0.028801    0.401970  1.000000   \n",
       "condition     -0.023721  0.023440 -0.126443 -0.264013    0.016624  0.046041   \n",
       "grade          0.008169  0.366174  0.665834  0.458783    0.082886  0.251722   \n",
       "sqft_above    -0.010831  0.492543  0.686664  0.523970    0.072106  0.167600   \n",
       "sqft_basement -0.005170  0.309261  0.283459 -0.245694    0.080562  0.277090   \n",
       "yr_built       0.021589  0.160736  0.507166  0.489175   -0.026157 -0.053649   \n",
       "sqft_living15 -0.002734  0.404532  0.569878  0.280072    0.086505  0.280674   \n",
       "sqft_lot15    -0.138570  0.031892  0.088297 -0.010734    0.030780  0.072900   \n",
       "price         -0.016763  0.315961  0.525915  0.256820    0.266400  0.397376   \n",
       "area           0.005524 -0.004892  0.013816  0.052633    0.001056  0.084459   \n",
       "\n",
       "               condition     grade  sqft_above  sqft_basement  yr_built  \\\n",
       "id             -0.023721  0.008169   -0.010831      -0.005170  0.021589   \n",
       "bedrooms        0.023440  0.366174    0.492543       0.309261  0.160736   \n",
       "bathroom       -0.126443  0.665834    0.686664       0.283459  0.507166   \n",
       "floors         -0.264013  0.458783    0.523970      -0.245694  0.489175   \n",
       "waterfront      0.016624  0.082886    0.072106       0.080562 -0.026157   \n",
       "view            0.046041  0.251722    0.167600       0.277090 -0.053649   \n",
       "condition       1.000000 -0.146854   -0.158826       0.173801 -0.361555   \n",
       "grade          -0.146854  1.000000    0.756069       0.168240  0.447854   \n",
       "sqft_above     -0.158826  0.756069    1.000000      -0.052130  0.424017   \n",
       "sqft_basement   0.173801  0.168240   -0.052130       1.000000 -0.133043   \n",
       "yr_built       -0.361555  0.447854    0.424017      -0.133043  1.000000   \n",
       "sqft_living15  -0.092979  0.713863    0.731756       0.200478  0.326353   \n",
       "sqft_lot15     -0.003093  0.120974    0.195069       0.017559  0.070767   \n",
       "price           0.036031  0.667964    0.605392       0.323794  0.053965   \n",
       "area            0.088859  0.108375   -0.071344       0.177173 -0.278083   \n",
       "\n",
       "               sqft_living15  sqft_lot15     price      area  \n",
       "id                 -0.002734   -0.138570 -0.016763  0.005524  \n",
       "bedrooms            0.404532    0.031892  0.315961 -0.004892  \n",
       "bathroom            0.569878    0.088297  0.525915  0.013816  \n",
       "floors              0.280072   -0.010734  0.256820  0.052633  \n",
       "waterfront          0.086505    0.030780  0.266400  0.001056  \n",
       "view                0.280674    0.072900  0.397376  0.084459  \n",
       "condition          -0.092979   -0.003093  0.036031  0.088859  \n",
       "grade               0.713863    0.120974  0.667964  0.108375  \n",
       "sqft_above          0.731756    0.195069  0.605392 -0.071344  \n",
       "sqft_basement       0.200478    0.017559  0.323794  0.177173  \n",
       "yr_built            0.326353    0.070767  0.053965 -0.278083  \n",
       "sqft_living15       1.000000    0.183506  0.585267 -0.011689  \n",
       "sqft_lot15          0.183506    1.000000  0.082849 -0.199525  \n",
       "price               0.585267    0.082849  1.000000  0.388604  \n",
       "area               -0.011689   -0.199525  0.388604  1.000000  "
      ]
     },
     "execution_count": 39,
     "metadata": {},
     "output_type": "execute_result"
    }
   ],
   "source": [
    "corr"
   ]
  },
  {
   "cell_type": "code",
   "execution_count": null,
   "id": "distant-means",
   "metadata": {},
   "outputs": [],
   "source": []
  },
  {
   "cell_type": "code",
   "execution_count": null,
   "id": "adequate-bradley",
   "metadata": {},
   "outputs": [],
   "source": []
  }
 ],
 "metadata": {
  "kernelspec": {
   "display_name": "Python 3",
   "language": "python",
   "name": "python3"
  },
  "language_info": {
   "codemirror_mode": {
    "name": "ipython",
    "version": 3
   },
   "file_extension": ".py",
   "mimetype": "text/x-python",
   "name": "python",
   "nbconvert_exporter": "python",
   "pygments_lexer": "ipython3",
   "version": "3.8.8"
  }
 },
 "nbformat": 4,
 "nbformat_minor": 5
}
